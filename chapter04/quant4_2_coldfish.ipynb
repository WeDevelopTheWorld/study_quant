{
  "nbformat": 4,
  "nbformat_minor": 0,
  "metadata": {
    "colab": {
      "name": "quant4.2",
      "provenance": [],
      "collapsed_sections": []
    },
    "kernelspec": {
      "name": "python3",
      "display_name": "Python 3"
    },
    "language_info": {
      "name": "python"
    }
  },
  "cells": [
    {
      "cell_type": "code",
      "metadata": {
        "id": "8iJntt1Uadgz"
      },
      "source": [
        "import pandas as pd\n",
        "df = pd.read_csv('./sample_data/AMZN.csv')"
      ],
      "execution_count": null,
      "outputs": []
    },
    {
      "cell_type": "code",
      "metadata": {
        "colab": {
          "base_uri": "https://localhost:8080/",
          "height": 204
        },
        "id": "dNcZ9qbgbe8z",
        "outputId": "f2d38c06-82f6-453f-efa0-c411d7c95097"
      },
      "source": [
        "df.head()"
      ],
      "execution_count": null,
      "outputs": [
        {
          "output_type": "execute_result",
          "data": {
            "text/html": [
              "<div>\n",
              "<style scoped>\n",
              "    .dataframe tbody tr th:only-of-type {\n",
              "        vertical-align: middle;\n",
              "    }\n",
              "\n",
              "    .dataframe tbody tr th {\n",
              "        vertical-align: top;\n",
              "    }\n",
              "\n",
              "    .dataframe thead th {\n",
              "        text-align: right;\n",
              "    }\n",
              "</style>\n",
              "<table border=\"1\" class=\"dataframe\">\n",
              "  <thead>\n",
              "    <tr style=\"text-align: right;\">\n",
              "      <th></th>\n",
              "      <th>Date</th>\n",
              "      <th>Open</th>\n",
              "      <th>High</th>\n",
              "      <th>Low</th>\n",
              "      <th>Close</th>\n",
              "      <th>Adj Close</th>\n",
              "      <th>Volume</th>\n",
              "    </tr>\n",
              "  </thead>\n",
              "  <tbody>\n",
              "    <tr>\n",
              "      <th>0</th>\n",
              "      <td>2000-01-03</td>\n",
              "      <td>81.5000</td>\n",
              "      <td>89.5625</td>\n",
              "      <td>79.046875</td>\n",
              "      <td>89.3750</td>\n",
              "      <td>89.3750</td>\n",
              "      <td>16117600</td>\n",
              "    </tr>\n",
              "    <tr>\n",
              "      <th>1</th>\n",
              "      <td>2000-01-04</td>\n",
              "      <td>85.3750</td>\n",
              "      <td>91.5000</td>\n",
              "      <td>81.750000</td>\n",
              "      <td>81.9375</td>\n",
              "      <td>81.9375</td>\n",
              "      <td>17487400</td>\n",
              "    </tr>\n",
              "    <tr>\n",
              "      <th>2</th>\n",
              "      <td>2000-01-05</td>\n",
              "      <td>70.5000</td>\n",
              "      <td>75.1250</td>\n",
              "      <td>68.000000</td>\n",
              "      <td>69.7500</td>\n",
              "      <td>69.7500</td>\n",
              "      <td>38457400</td>\n",
              "    </tr>\n",
              "    <tr>\n",
              "      <th>3</th>\n",
              "      <td>2000-01-06</td>\n",
              "      <td>71.3125</td>\n",
              "      <td>72.6875</td>\n",
              "      <td>64.000000</td>\n",
              "      <td>65.5625</td>\n",
              "      <td>65.5625</td>\n",
              "      <td>18752000</td>\n",
              "    </tr>\n",
              "    <tr>\n",
              "      <th>4</th>\n",
              "      <td>2000-01-07</td>\n",
              "      <td>67.0000</td>\n",
              "      <td>70.5000</td>\n",
              "      <td>66.187500</td>\n",
              "      <td>69.5625</td>\n",
              "      <td>69.5625</td>\n",
              "      <td>10505400</td>\n",
              "    </tr>\n",
              "  </tbody>\n",
              "</table>\n",
              "</div>"
            ],
            "text/plain": [
              "         Date     Open     High        Low    Close  Adj Close    Volume\n",
              "0  2000-01-03  81.5000  89.5625  79.046875  89.3750    89.3750  16117600\n",
              "1  2000-01-04  85.3750  91.5000  81.750000  81.9375    81.9375  17487400\n",
              "2  2000-01-05  70.5000  75.1250  68.000000  69.7500    69.7500  38457400\n",
              "3  2000-01-06  71.3125  72.6875  64.000000  65.5625    65.5625  18752000\n",
              "4  2000-01-07  67.0000  70.5000  66.187500  69.5625    69.5625  10505400"
            ]
          },
          "metadata": {
            "tags": []
          },
          "execution_count": 12
        }
      ]
    },
    {
      "cell_type": "code",
      "metadata": {
        "colab": {
          "base_uri": "https://localhost:8080/",
          "height": 297
        },
        "id": "Jy1siMKjbuL0",
        "outputId": "dd2703e5-d8b1-475d-e79d-0a8fbd0fa527"
      },
      "source": [
        "df.describe()"
      ],
      "execution_count": null,
      "outputs": [
        {
          "output_type": "execute_result",
          "data": {
            "text/html": [
              "<div>\n",
              "<style scoped>\n",
              "    .dataframe tbody tr th:only-of-type {\n",
              "        vertical-align: middle;\n",
              "    }\n",
              "\n",
              "    .dataframe tbody tr th {\n",
              "        vertical-align: top;\n",
              "    }\n",
              "\n",
              "    .dataframe thead th {\n",
              "        text-align: right;\n",
              "    }\n",
              "</style>\n",
              "<table border=\"1\" class=\"dataframe\">\n",
              "  <thead>\n",
              "    <tr style=\"text-align: right;\">\n",
              "      <th></th>\n",
              "      <th>Open</th>\n",
              "      <th>High</th>\n",
              "      <th>Low</th>\n",
              "      <th>Close</th>\n",
              "      <th>Adj Close</th>\n",
              "      <th>Volume</th>\n",
              "    </tr>\n",
              "  </thead>\n",
              "  <tbody>\n",
              "    <tr>\n",
              "      <th>count</th>\n",
              "      <td>5345.000000</td>\n",
              "      <td>5345.000000</td>\n",
              "      <td>5345.000000</td>\n",
              "      <td>5345.000000</td>\n",
              "      <td>5345.000000</td>\n",
              "      <td>5.345000e+03</td>\n",
              "    </tr>\n",
              "    <tr>\n",
              "      <th>mean</th>\n",
              "      <td>503.028707</td>\n",
              "      <td>508.599901</td>\n",
              "      <td>496.793142</td>\n",
              "      <td>502.898050</td>\n",
              "      <td>502.898050</td>\n",
              "      <td>6.440373e+06</td>\n",
              "    </tr>\n",
              "    <tr>\n",
              "      <th>std</th>\n",
              "      <td>769.605508</td>\n",
              "      <td>778.002400</td>\n",
              "      <td>759.747307</td>\n",
              "      <td>768.981546</td>\n",
              "      <td>768.981546</td>\n",
              "      <td>5.092387e+06</td>\n",
              "    </tr>\n",
              "    <tr>\n",
              "      <th>min</th>\n",
              "      <td>5.910000</td>\n",
              "      <td>6.100000</td>\n",
              "      <td>5.510000</td>\n",
              "      <td>5.970000</td>\n",
              "      <td>5.970000</td>\n",
              "      <td>8.813000e+05</td>\n",
              "    </tr>\n",
              "    <tr>\n",
              "      <th>25%</th>\n",
              "      <td>41.860001</td>\n",
              "      <td>42.799999</td>\n",
              "      <td>41.160000</td>\n",
              "      <td>42.000000</td>\n",
              "      <td>42.000000</td>\n",
              "      <td>3.603300e+06</td>\n",
              "    </tr>\n",
              "    <tr>\n",
              "      <th>50%</th>\n",
              "      <td>140.720001</td>\n",
              "      <td>142.580002</td>\n",
              "      <td>139.070007</td>\n",
              "      <td>140.380005</td>\n",
              "      <td>140.380005</td>\n",
              "      <td>5.316600e+06</td>\n",
              "    </tr>\n",
              "    <tr>\n",
              "      <th>75%</th>\n",
              "      <td>571.979980</td>\n",
              "      <td>579.869995</td>\n",
              "      <td>565.299988</td>\n",
              "      <td>573.369995</td>\n",
              "      <td>573.369995</td>\n",
              "      <td>7.688000e+06</td>\n",
              "    </tr>\n",
              "    <tr>\n",
              "      <th>max</th>\n",
              "      <td>3547.000000</td>\n",
              "      <td>3552.250000</td>\n",
              "      <td>3486.689941</td>\n",
              "      <td>3531.449951</td>\n",
              "      <td>3531.449951</td>\n",
              "      <td>1.043292e+08</td>\n",
              "    </tr>\n",
              "  </tbody>\n",
              "</table>\n",
              "</div>"
            ],
            "text/plain": [
              "              Open         High  ...    Adj Close        Volume\n",
              "count  5345.000000  5345.000000  ...  5345.000000  5.345000e+03\n",
              "mean    503.028707   508.599901  ...   502.898050  6.440373e+06\n",
              "std     769.605508   778.002400  ...   768.981546  5.092387e+06\n",
              "min       5.910000     6.100000  ...     5.970000  8.813000e+05\n",
              "25%      41.860001    42.799999  ...    42.000000  3.603300e+06\n",
              "50%     140.720001   142.580002  ...   140.380005  5.316600e+06\n",
              "75%     571.979980   579.869995  ...   573.369995  7.688000e+06\n",
              "max    3547.000000  3552.250000  ...  3531.449951  1.043292e+08\n",
              "\n",
              "[8 rows x 6 columns]"
            ]
          },
          "metadata": {
            "tags": []
          },
          "execution_count": 13
        }
      ]
    },
    {
      "cell_type": "code",
      "metadata": {
        "colab": {
          "base_uri": "https://localhost:8080/",
          "height": 204
        },
        "id": "Tc6I-6aObwAw",
        "outputId": "4d8c0d52-aa11-4d9b-887d-b21ae24419f4"
      },
      "source": [
        "price_df = df.loc[:,['Date', 'Adj Close']].copy()\n",
        "price_df.head()"
      ],
      "execution_count": null,
      "outputs": [
        {
          "output_type": "execute_result",
          "data": {
            "text/html": [
              "<div>\n",
              "<style scoped>\n",
              "    .dataframe tbody tr th:only-of-type {\n",
              "        vertical-align: middle;\n",
              "    }\n",
              "\n",
              "    .dataframe tbody tr th {\n",
              "        vertical-align: top;\n",
              "    }\n",
              "\n",
              "    .dataframe thead th {\n",
              "        text-align: right;\n",
              "    }\n",
              "</style>\n",
              "<table border=\"1\" class=\"dataframe\">\n",
              "  <thead>\n",
              "    <tr style=\"text-align: right;\">\n",
              "      <th></th>\n",
              "      <th>Date</th>\n",
              "      <th>Adj Close</th>\n",
              "    </tr>\n",
              "  </thead>\n",
              "  <tbody>\n",
              "    <tr>\n",
              "      <th>0</th>\n",
              "      <td>2000-01-03</td>\n",
              "      <td>89.3750</td>\n",
              "    </tr>\n",
              "    <tr>\n",
              "      <th>1</th>\n",
              "      <td>2000-01-04</td>\n",
              "      <td>81.9375</td>\n",
              "    </tr>\n",
              "    <tr>\n",
              "      <th>2</th>\n",
              "      <td>2000-01-05</td>\n",
              "      <td>69.7500</td>\n",
              "    </tr>\n",
              "    <tr>\n",
              "      <th>3</th>\n",
              "      <td>2000-01-06</td>\n",
              "      <td>65.5625</td>\n",
              "    </tr>\n",
              "    <tr>\n",
              "      <th>4</th>\n",
              "      <td>2000-01-07</td>\n",
              "      <td>69.5625</td>\n",
              "    </tr>\n",
              "  </tbody>\n",
              "</table>\n",
              "</div>"
            ],
            "text/plain": [
              "         Date  Adj Close\n",
              "0  2000-01-03    89.3750\n",
              "1  2000-01-04    81.9375\n",
              "2  2000-01-05    69.7500\n",
              "3  2000-01-06    65.5625\n",
              "4  2000-01-07    69.5625"
            ]
          },
          "metadata": {
            "tags": []
          },
          "execution_count": 21
        }
      ]
    },
    {
      "cell_type": "code",
      "metadata": {
        "id": "iBoTdfXfcXyb"
      },
      "source": [
        "price_df.set_index(['Date'], inplace=True)"
      ],
      "execution_count": null,
      "outputs": []
    },
    {
      "cell_type": "code",
      "metadata": {
        "colab": {
          "base_uri": "https://localhost:8080/",
          "height": 297
        },
        "id": "0MFRMIjBcwIJ",
        "outputId": "3a55e94d-87fc-46af-b9d6-dac993cc48e9"
      },
      "source": [
        "price_df['center']=price_df['Adj Close'].rolling(window = 20).mean()\n",
        "price_df.iloc[18:25]"
      ],
      "execution_count": null,
      "outputs": [
        {
          "output_type": "execute_result",
          "data": {
            "text/html": [
              "<div>\n",
              "<style scoped>\n",
              "    .dataframe tbody tr th:only-of-type {\n",
              "        vertical-align: middle;\n",
              "    }\n",
              "\n",
              "    .dataframe tbody tr th {\n",
              "        vertical-align: top;\n",
              "    }\n",
              "\n",
              "    .dataframe thead th {\n",
              "        text-align: right;\n",
              "    }\n",
              "</style>\n",
              "<table border=\"1\" class=\"dataframe\">\n",
              "  <thead>\n",
              "    <tr style=\"text-align: right;\">\n",
              "      <th></th>\n",
              "      <th>Adj Close</th>\n",
              "      <th>center</th>\n",
              "    </tr>\n",
              "    <tr>\n",
              "      <th>Date</th>\n",
              "      <th></th>\n",
              "      <th></th>\n",
              "    </tr>\n",
              "  </thead>\n",
              "  <tbody>\n",
              "    <tr>\n",
              "      <th>2000-01-28</th>\n",
              "      <td>61.6875</td>\n",
              "      <td>NaN</td>\n",
              "    </tr>\n",
              "    <tr>\n",
              "      <th>2000-01-31</th>\n",
              "      <td>64.5625</td>\n",
              "      <td>68.050000</td>\n",
              "    </tr>\n",
              "    <tr>\n",
              "      <th>2000-02-01</th>\n",
              "      <td>67.4375</td>\n",
              "      <td>66.953125</td>\n",
              "    </tr>\n",
              "    <tr>\n",
              "      <th>2000-02-02</th>\n",
              "      <td>69.4375</td>\n",
              "      <td>66.328125</td>\n",
              "    </tr>\n",
              "    <tr>\n",
              "      <th>2000-02-03</th>\n",
              "      <td>84.1875</td>\n",
              "      <td>67.050000</td>\n",
              "    </tr>\n",
              "    <tr>\n",
              "      <th>2000-02-04</th>\n",
              "      <td>78.5625</td>\n",
              "      <td>67.700000</td>\n",
              "    </tr>\n",
              "    <tr>\n",
              "      <th>2000-02-07</th>\n",
              "      <td>75.0000</td>\n",
              "      <td>67.971875</td>\n",
              "    </tr>\n",
              "  </tbody>\n",
              "</table>\n",
              "</div>"
            ],
            "text/plain": [
              "            Adj Close     center\n",
              "Date                            \n",
              "2000-01-28    61.6875        NaN\n",
              "2000-01-31    64.5625  68.050000\n",
              "2000-02-01    67.4375  66.953125\n",
              "2000-02-02    69.4375  66.328125\n",
              "2000-02-03    84.1875  67.050000\n",
              "2000-02-04    78.5625  67.700000\n",
              "2000-02-07    75.0000  67.971875"
            ]
          },
          "metadata": {
            "tags": []
          },
          "execution_count": 24
        }
      ]
    },
    {
      "cell_type": "code",
      "metadata": {
        "colab": {
          "base_uri": "https://localhost:8080/",
          "height": 297
        },
        "id": "n6a3rmcNeFa2",
        "outputId": "ed967b0a-bbf1-4518-eb3b-80a5f96cab68"
      },
      "source": [
        "price_df['ub'] = price_df['center'] + 2*price_df['Adj Close'].rolling(window=20).std()\n",
        "price_df.iloc[18:25]"
      ],
      "execution_count": null,
      "outputs": [
        {
          "output_type": "execute_result",
          "data": {
            "text/html": [
              "<div>\n",
              "<style scoped>\n",
              "    .dataframe tbody tr th:only-of-type {\n",
              "        vertical-align: middle;\n",
              "    }\n",
              "\n",
              "    .dataframe tbody tr th {\n",
              "        vertical-align: top;\n",
              "    }\n",
              "\n",
              "    .dataframe thead th {\n",
              "        text-align: right;\n",
              "    }\n",
              "</style>\n",
              "<table border=\"1\" class=\"dataframe\">\n",
              "  <thead>\n",
              "    <tr style=\"text-align: right;\">\n",
              "      <th></th>\n",
              "      <th>Adj Close</th>\n",
              "      <th>center</th>\n",
              "      <th>ub</th>\n",
              "    </tr>\n",
              "    <tr>\n",
              "      <th>Date</th>\n",
              "      <th></th>\n",
              "      <th></th>\n",
              "      <th></th>\n",
              "    </tr>\n",
              "  </thead>\n",
              "  <tbody>\n",
              "    <tr>\n",
              "      <th>2000-01-28</th>\n",
              "      <td>61.6875</td>\n",
              "      <td>NaN</td>\n",
              "      <td>NaN</td>\n",
              "    </tr>\n",
              "    <tr>\n",
              "      <th>2000-01-31</th>\n",
              "      <td>64.5625</td>\n",
              "      <td>68.050000</td>\n",
              "      <td>81.306925</td>\n",
              "    </tr>\n",
              "    <tr>\n",
              "      <th>2000-02-01</th>\n",
              "      <td>67.4375</td>\n",
              "      <td>66.953125</td>\n",
              "      <td>75.614602</td>\n",
              "    </tr>\n",
              "    <tr>\n",
              "      <th>2000-02-02</th>\n",
              "      <td>69.4375</td>\n",
              "      <td>66.328125</td>\n",
              "      <td>71.563203</td>\n",
              "    </tr>\n",
              "    <tr>\n",
              "      <th>2000-02-03</th>\n",
              "      <td>84.1875</td>\n",
              "      <td>67.050000</td>\n",
              "      <td>76.531336</td>\n",
              "    </tr>\n",
              "    <tr>\n",
              "      <th>2000-02-04</th>\n",
              "      <td>78.5625</td>\n",
              "      <td>67.700000</td>\n",
              "      <td>78.449587</td>\n",
              "    </tr>\n",
              "    <tr>\n",
              "      <th>2000-02-07</th>\n",
              "      <td>75.0000</td>\n",
              "      <td>67.971875</td>\n",
              "      <td>79.184861</td>\n",
              "    </tr>\n",
              "  </tbody>\n",
              "</table>\n",
              "</div>"
            ],
            "text/plain": [
              "            Adj Close     center         ub\n",
              "Date                                       \n",
              "2000-01-28    61.6875        NaN        NaN\n",
              "2000-01-31    64.5625  68.050000  81.306925\n",
              "2000-02-01    67.4375  66.953125  75.614602\n",
              "2000-02-02    69.4375  66.328125  71.563203\n",
              "2000-02-03    84.1875  67.050000  76.531336\n",
              "2000-02-04    78.5625  67.700000  78.449587\n",
              "2000-02-07    75.0000  67.971875  79.184861"
            ]
          },
          "metadata": {
            "tags": []
          },
          "execution_count": 25
        }
      ]
    },
    {
      "cell_type": "code",
      "metadata": {
        "colab": {
          "base_uri": "https://localhost:8080/",
          "height": 297
        },
        "id": "HOouJjAheiOL",
        "outputId": "0c771d6b-c296-410f-a239-fba7a0eae5a9"
      },
      "source": [
        "price_df['lb'] = price_df['center'] - 2*price_df['Adj Close'].rolling(window=20).std()\n",
        "price_df.iloc[18:25]"
      ],
      "execution_count": null,
      "outputs": [
        {
          "output_type": "execute_result",
          "data": {
            "text/html": [
              "<div>\n",
              "<style scoped>\n",
              "    .dataframe tbody tr th:only-of-type {\n",
              "        vertical-align: middle;\n",
              "    }\n",
              "\n",
              "    .dataframe tbody tr th {\n",
              "        vertical-align: top;\n",
              "    }\n",
              "\n",
              "    .dataframe thead th {\n",
              "        text-align: right;\n",
              "    }\n",
              "</style>\n",
              "<table border=\"1\" class=\"dataframe\">\n",
              "  <thead>\n",
              "    <tr style=\"text-align: right;\">\n",
              "      <th></th>\n",
              "      <th>Adj Close</th>\n",
              "      <th>center</th>\n",
              "      <th>ub</th>\n",
              "      <th>lb</th>\n",
              "    </tr>\n",
              "    <tr>\n",
              "      <th>Date</th>\n",
              "      <th></th>\n",
              "      <th></th>\n",
              "      <th></th>\n",
              "      <th></th>\n",
              "    </tr>\n",
              "  </thead>\n",
              "  <tbody>\n",
              "    <tr>\n",
              "      <th>2000-01-28</th>\n",
              "      <td>61.6875</td>\n",
              "      <td>NaN</td>\n",
              "      <td>NaN</td>\n",
              "      <td>NaN</td>\n",
              "    </tr>\n",
              "    <tr>\n",
              "      <th>2000-01-31</th>\n",
              "      <td>64.5625</td>\n",
              "      <td>68.050000</td>\n",
              "      <td>81.306925</td>\n",
              "      <td>54.793075</td>\n",
              "    </tr>\n",
              "    <tr>\n",
              "      <th>2000-02-01</th>\n",
              "      <td>67.4375</td>\n",
              "      <td>66.953125</td>\n",
              "      <td>75.614602</td>\n",
              "      <td>58.291648</td>\n",
              "    </tr>\n",
              "    <tr>\n",
              "      <th>2000-02-02</th>\n",
              "      <td>69.4375</td>\n",
              "      <td>66.328125</td>\n",
              "      <td>71.563203</td>\n",
              "      <td>61.093047</td>\n",
              "    </tr>\n",
              "    <tr>\n",
              "      <th>2000-02-03</th>\n",
              "      <td>84.1875</td>\n",
              "      <td>67.050000</td>\n",
              "      <td>76.531336</td>\n",
              "      <td>57.568664</td>\n",
              "    </tr>\n",
              "    <tr>\n",
              "      <th>2000-02-04</th>\n",
              "      <td>78.5625</td>\n",
              "      <td>67.700000</td>\n",
              "      <td>78.449587</td>\n",
              "      <td>56.950413</td>\n",
              "    </tr>\n",
              "    <tr>\n",
              "      <th>2000-02-07</th>\n",
              "      <td>75.0000</td>\n",
              "      <td>67.971875</td>\n",
              "      <td>79.184861</td>\n",
              "      <td>56.758889</td>\n",
              "    </tr>\n",
              "  </tbody>\n",
              "</table>\n",
              "</div>"
            ],
            "text/plain": [
              "            Adj Close     center         ub         lb\n",
              "Date                                                  \n",
              "2000-01-28    61.6875        NaN        NaN        NaN\n",
              "2000-01-31    64.5625  68.050000  81.306925  54.793075\n",
              "2000-02-01    67.4375  66.953125  75.614602  58.291648\n",
              "2000-02-02    69.4375  66.328125  71.563203  61.093047\n",
              "2000-02-03    84.1875  67.050000  76.531336  57.568664\n",
              "2000-02-04    78.5625  67.700000  78.449587  56.950413\n",
              "2000-02-07    75.0000  67.971875  79.184861  56.758889"
            ]
          },
          "metadata": {
            "tags": []
          },
          "execution_count": 26
        }
      ]
    },
    {
      "cell_type": "code",
      "metadata": {
        "id": "W4NNQcfQeuHB"
      },
      "source": [
        "n = 20\n",
        "sigma = 2\n",
        "def bollinger_band(price_df, n, sigma):\n",
        "  bb = price_df.copy()\n",
        "  bb['center'] = price_df['Adj Close'].rolling(n).mean()\n",
        "  bb['ub'] = bb['center'] + sigma * price_df['Adj Close'].rolling(n).std()\n",
        "  bb['lb'] = bb['center'] - sigma * price_df['Adj Close'].rolling(n).std()\n",
        "  return bb\n",
        "bollinger = bollinger_band(price_df, n, sigma)"
      ],
      "execution_count": null,
      "outputs": []
    },
    {
      "cell_type": "code",
      "metadata": {
        "colab": {
          "base_uri": "https://localhost:8080/",
          "height": 235
        },
        "id": "rycqIIILfp_a",
        "outputId": "ce0513fd-5d1d-43d0-c5ae-5fee2dd03839"
      },
      "source": [
        "base_date = '2009-01-02'\n",
        "sample = bollinger.loc[base_date:]\n",
        "sample.head()"
      ],
      "execution_count": null,
      "outputs": [
        {
          "output_type": "execute_result",
          "data": {
            "text/html": [
              "<div>\n",
              "<style scoped>\n",
              "    .dataframe tbody tr th:only-of-type {\n",
              "        vertical-align: middle;\n",
              "    }\n",
              "\n",
              "    .dataframe tbody tr th {\n",
              "        vertical-align: top;\n",
              "    }\n",
              "\n",
              "    .dataframe thead th {\n",
              "        text-align: right;\n",
              "    }\n",
              "</style>\n",
              "<table border=\"1\" class=\"dataframe\">\n",
              "  <thead>\n",
              "    <tr style=\"text-align: right;\">\n",
              "      <th></th>\n",
              "      <th>Adj Close</th>\n",
              "      <th>center</th>\n",
              "      <th>ub</th>\n",
              "      <th>lb</th>\n",
              "    </tr>\n",
              "    <tr>\n",
              "      <th>Date</th>\n",
              "      <th></th>\n",
              "      <th></th>\n",
              "      <th></th>\n",
              "      <th></th>\n",
              "    </tr>\n",
              "  </thead>\n",
              "  <tbody>\n",
              "    <tr>\n",
              "      <th>2009-01-02</th>\n",
              "      <td>54.360001</td>\n",
              "      <td>50.7840</td>\n",
              "      <td>54.317715</td>\n",
              "      <td>47.250286</td>\n",
              "    </tr>\n",
              "    <tr>\n",
              "      <th>2009-01-05</th>\n",
              "      <td>54.060001</td>\n",
              "      <td>51.1210</td>\n",
              "      <td>54.547688</td>\n",
              "      <td>47.694312</td>\n",
              "    </tr>\n",
              "    <tr>\n",
              "      <th>2009-01-06</th>\n",
              "      <td>57.360001</td>\n",
              "      <td>51.5760</td>\n",
              "      <td>55.740378</td>\n",
              "      <td>47.411622</td>\n",
              "    </tr>\n",
              "    <tr>\n",
              "      <th>2009-01-07</th>\n",
              "      <td>56.200001</td>\n",
              "      <td>51.8155</td>\n",
              "      <td>56.462657</td>\n",
              "      <td>47.168343</td>\n",
              "    </tr>\n",
              "    <tr>\n",
              "      <th>2009-01-08</th>\n",
              "      <td>57.160000</td>\n",
              "      <td>52.1110</td>\n",
              "      <td>57.323916</td>\n",
              "      <td>46.898085</td>\n",
              "    </tr>\n",
              "  </tbody>\n",
              "</table>\n",
              "</div>"
            ],
            "text/plain": [
              "            Adj Close   center         ub         lb\n",
              "Date                                                \n",
              "2009-01-02  54.360001  50.7840  54.317715  47.250286\n",
              "2009-01-05  54.060001  51.1210  54.547688  47.694312\n",
              "2009-01-06  57.360001  51.5760  55.740378  47.411622\n",
              "2009-01-07  56.200001  51.8155  56.462657  47.168343\n",
              "2009-01-08  57.160000  52.1110  57.323916  46.898085"
            ]
          },
          "metadata": {
            "tags": []
          },
          "execution_count": 29
        }
      ]
    },
    {
      "cell_type": "code",
      "metadata": {
        "id": "RIrjAa3nf-49"
      },
      "source": [
        "sample = price_df.loc[base_date:]"
      ],
      "execution_count": null,
      "outputs": []
    },
    {
      "cell_type": "code",
      "metadata": {
        "id": "ztUPH3yDgFpz"
      },
      "source": [
        "book = sample[['Adj Close']].copy()"
      ],
      "execution_count": null,
      "outputs": []
    },
    {
      "cell_type": "code",
      "metadata": {
        "colab": {
          "base_uri": "https://localhost:8080/",
          "height": 235
        },
        "id": "bQJlvTDAgW70",
        "outputId": "db9df2f7-e4e4-4e4a-f717-6fd2c4cdc63a"
      },
      "source": [
        "book['trade'] = ''\n",
        "book.head()"
      ],
      "execution_count": null,
      "outputs": [
        {
          "output_type": "execute_result",
          "data": {
            "text/html": [
              "<div>\n",
              "<style scoped>\n",
              "    .dataframe tbody tr th:only-of-type {\n",
              "        vertical-align: middle;\n",
              "    }\n",
              "\n",
              "    .dataframe tbody tr th {\n",
              "        vertical-align: top;\n",
              "    }\n",
              "\n",
              "    .dataframe thead th {\n",
              "        text-align: right;\n",
              "    }\n",
              "</style>\n",
              "<table border=\"1\" class=\"dataframe\">\n",
              "  <thead>\n",
              "    <tr style=\"text-align: right;\">\n",
              "      <th></th>\n",
              "      <th>Adj Close</th>\n",
              "      <th>trade</th>\n",
              "    </tr>\n",
              "    <tr>\n",
              "      <th>Date</th>\n",
              "      <th></th>\n",
              "      <th></th>\n",
              "    </tr>\n",
              "  </thead>\n",
              "  <tbody>\n",
              "    <tr>\n",
              "      <th>2009-01-02</th>\n",
              "      <td>54.360001</td>\n",
              "      <td></td>\n",
              "    </tr>\n",
              "    <tr>\n",
              "      <th>2009-01-05</th>\n",
              "      <td>54.060001</td>\n",
              "      <td></td>\n",
              "    </tr>\n",
              "    <tr>\n",
              "      <th>2009-01-06</th>\n",
              "      <td>57.360001</td>\n",
              "      <td></td>\n",
              "    </tr>\n",
              "    <tr>\n",
              "      <th>2009-01-07</th>\n",
              "      <td>56.200001</td>\n",
              "      <td></td>\n",
              "    </tr>\n",
              "    <tr>\n",
              "      <th>2009-01-08</th>\n",
              "      <td>57.160000</td>\n",
              "      <td></td>\n",
              "    </tr>\n",
              "  </tbody>\n",
              "</table>\n",
              "</div>"
            ],
            "text/plain": [
              "            Adj Close trade\n",
              "Date                       \n",
              "2009-01-02  54.360001      \n",
              "2009-01-05  54.060001      \n",
              "2009-01-06  57.360001      \n",
              "2009-01-07  56.200001      \n",
              "2009-01-08  57.160000      "
            ]
          },
          "metadata": {
            "tags": []
          },
          "execution_count": 32
        }
      ]
    },
    {
      "cell_type": "code",
      "metadata": {
        "id": "c07_WUvmhIrV"
      },
      "source": [
        "def create_trade_book(sample):\n",
        "  book = sample[['Adj Close']].copy()\n",
        "  book['trade']=''\n",
        "  return (book)"
      ],
      "execution_count": null,
      "outputs": []
    },
    {
      "cell_type": "code",
      "metadata": {
        "id": "F6Q-NUX8hX89"
      },
      "source": [
        "def tradings(sample, book):\n",
        "  for i in sample.index:\n",
        "    if sample.loc[i, 'Adj Close'] > sample.loc[i, 'ub']:\n",
        "      book.loc[i, 'trade'] = ''\n",
        "    elif sample.loc[i, 'lb'] > sample.loc[i, 'Adj Close']:\n",
        "      if book.shift(1).loc[i, 'trade'] == 'buy':\n",
        "        book.loc[i, 'trade'] = 'buy'\n",
        "      else:\n",
        "        book.loc[i, 'trade'] = 'buy' #??????\n",
        "    elif sample.loc[i, 'ub'] >= sample.loc[i, 'Adj Close'] and sample.loc[i, 'Adj Close'] >= sample.loc[i, 'lb']:\n",
        "      if book.shift(1).loc[i, 'trade'] == 'buy':\n",
        "        book.loc[i, 'trade'] = 'buy'\n",
        "      else:\n",
        "        book.loc[i, 'trade'] = ''\n",
        "  return (book)"
      ],
      "execution_count": null,
      "outputs": []
    },
    {
      "cell_type": "code",
      "metadata": {
        "colab": {
          "base_uri": "https://localhost:8080/",
          "height": 235
        },
        "id": "1z1iF0PzjYit",
        "outputId": "a191304a-c9ae-4425-b070-d6836f950ff3"
      },
      "source": [
        "book = tradings(sample, book)\n",
        "book.tail()"
      ],
      "execution_count": null,
      "outputs": [
        {
          "output_type": "execute_result",
          "data": {
            "text/html": [
              "<div>\n",
              "<style scoped>\n",
              "    .dataframe tbody tr th:only-of-type {\n",
              "        vertical-align: middle;\n",
              "    }\n",
              "\n",
              "    .dataframe tbody tr th {\n",
              "        vertical-align: top;\n",
              "    }\n",
              "\n",
              "    .dataframe thead th {\n",
              "        text-align: right;\n",
              "    }\n",
              "</style>\n",
              "<table border=\"1\" class=\"dataframe\">\n",
              "  <thead>\n",
              "    <tr style=\"text-align: right;\">\n",
              "      <th></th>\n",
              "      <th>Adj Close</th>\n",
              "      <th>trade</th>\n",
              "    </tr>\n",
              "    <tr>\n",
              "      <th>Date</th>\n",
              "      <th></th>\n",
              "      <th></th>\n",
              "    </tr>\n",
              "  </thead>\n",
              "  <tbody>\n",
              "    <tr>\n",
              "      <th>2021-03-25</th>\n",
              "      <td>3046.260010</td>\n",
              "      <td>buy</td>\n",
              "    </tr>\n",
              "    <tr>\n",
              "      <th>2021-03-26</th>\n",
              "      <td>3052.030029</td>\n",
              "      <td>buy</td>\n",
              "    </tr>\n",
              "    <tr>\n",
              "      <th>2021-03-29</th>\n",
              "      <td>3075.729980</td>\n",
              "      <td>buy</td>\n",
              "    </tr>\n",
              "    <tr>\n",
              "      <th>2021-03-30</th>\n",
              "      <td>3055.290039</td>\n",
              "      <td>buy</td>\n",
              "    </tr>\n",
              "    <tr>\n",
              "      <th>2021-03-31</th>\n",
              "      <td>3094.080078</td>\n",
              "      <td>buy</td>\n",
              "    </tr>\n",
              "  </tbody>\n",
              "</table>\n",
              "</div>"
            ],
            "text/plain": [
              "              Adj Close trade\n",
              "Date                         \n",
              "2021-03-25  3046.260010   buy\n",
              "2021-03-26  3052.030029   buy\n",
              "2021-03-29  3075.729980   buy\n",
              "2021-03-30  3055.290039   buy\n",
              "2021-03-31  3094.080078   buy"
            ]
          },
          "metadata": {
            "tags": []
          },
          "execution_count": 36
        }
      ]
    },
    {
      "cell_type": "code",
      "metadata": {
        "id": "xcDpGplBjuzh"
      },
      "source": [
        "def returns(book):\n",
        "  rtn = 1.0\n",
        "  book['return'] = 1\n",
        "  buy = 0.0\n",
        "  sell = 0.0\n",
        "  for i in book.index:\n",
        "    if book.loc[i, 'trade'] == 'buy' and book.shift(1).loc[i, 'trade'] == '':\n",
        "      buy = book.loc[i, 'Adj Close']\n",
        "      print('진입일 : ', i, 'long 진입가격 : ', buy)\n",
        "    elif book.loc[i, 'trade'] == '' and book.shift(1).loc[i, 'trade'] == 'buy':\n",
        "      sell = book.loc[i, 'Adj Close']\n",
        "      rtn = (sell - buy) / buy + 1\n",
        "      book.loc[i, 'return'] = rtn\n",
        "      print('청산일 : ', i, 'long 진입가격 : ', buy, ' : long 청산가격 : ', sell, ' : return :', round(rtn, 4))\n",
        "    if book.loc[i, 'trade'] == '':\n",
        "      buy = 0.0\n",
        "      sell = 0.0\n",
        "  acc_rtn = 1.0\n",
        "  for i in book.index:\n",
        "    rtn = book.loc[i, 'return']\n",
        "    acc_rtn = acc_rtn * rtn\n",
        "    book.loc[i, 'acc return'] = acc_rtn\n",
        "\n",
        "  print('Accunlated return :', round(acc_rtn, 4))\n",
        "  return (round(acc_rtn, 4))"
      ],
      "execution_count": null,
      "outputs": []
    },
    {
      "cell_type": "code",
      "metadata": {
        "colab": {
          "base_uri": "https://localhost:8080/"
        },
        "id": "AxnW0dY7lquB",
        "outputId": "4e6c9e65-2994-429e-e495-1cd1fbee498a"
      },
      "source": [
        "print(returns(book))"
      ],
      "execution_count": null,
      "outputs": [
        {
          "output_type": "stream",
          "text": [
            "진입일 :  2009-05-13 long 진입가격 :  74.190002\n",
            "청산일 :  2009-06-01 long 진입가격 :  74.190002  : long 청산가격 :  83.050003  : return : 1.1194\n",
            "진입일 :  2009-07-07 long 진입가격 :  75.629997\n",
            "청산일 :  2009-07-20 long 진입가격 :  75.629997  : long 청산가격 :  88.230003  : return : 1.1666\n",
            "진입일 :  2009-08-31 long 진입가격 :  81.190002\n",
            "청산일 :  2009-09-16 long 진입가격 :  81.190002  : long 청산가격 :  90.699997  : return : 1.1171\n",
            "진입일 :  2010-05-04 long 진입가격 :  129.830002\n",
            "청산일 :  2010-08-04 long 진입가격 :  129.830002  : long 청산가격 :  127.58000200000001  : return : 0.9827\n",
            "진입일 :  2010-11-16 long 진입가격 :  157.779999\n",
            "청산일 :  2010-11-24 long 진입가격 :  157.779999  : long 청산가격 :  177.25  : return : 1.1234\n",
            "진입일 :  2011-01-21 long 진입가격 :  177.419998\n",
            "청산일 :  2011-03-30 long 진입가격 :  177.419998  : long 청산가격 :  179.419998  : return : 1.0113\n",
            "진입일 :  2011-06-06 long 진입가격 :  185.690002\n",
            "청산일 :  2011-06-27 long 진입가격 :  185.690002  : long 청산가격 :  201.25  : return : 1.0838\n",
            "진입일 :  2011-08-04 long 진입가격 :  201.479996\n",
            "청산일 :  2011-10-14 long 진입가격 :  201.479996  : long 청산가격 :  246.710007  : return : 1.2245\n",
            "진입일 :  2011-10-26 long 진입가격 :  198.399994\n",
            "청산일 :  2012-01-18 long 진입가격 :  198.399994  : long 청산가격 :  189.440002  : return : 0.9548\n",
            "진입일 :  2012-10-10 long 진입가격 :  244.99000499999997\n",
            "청산일 :  2012-11-29 long 진입가격 :  244.99000499999997  : long 청산가격 :  251.270004  : return : 1.0256\n",
            "진입일 :  2013-04-29 long 진입가격 :  249.74000499999997\n",
            "청산일 :  2013-06-07 long 진입가격 :  249.74000499999997  : long 청산가격 :  276.869995  : return : 1.1086\n",
            "진입일 :  2013-08-14 long 진입가격 :  291.339996\n",
            "청산일 :  2013-09-18 long 진입가격 :  291.339996  : long 청산가격 :  312.02999900000003  : return : 1.071\n",
            "진입일 :  2014-01-24 long 진입가격 :  387.600006\n",
            "청산일 :  2014-03-05 long 진입가격 :  387.600006  : long 청산가격 :  372.369995  : return : 0.9607\n",
            "진입일 :  2014-03-24 long 진입가격 :  351.850006\n",
            "청산일 :  2014-06-05 long 진입가격 :  351.850006  : long 청산가격 :  323.570007  : return : 0.9196\n",
            "진입일 :  2014-09-15 long 진입가격 :  323.890015\n",
            "청산일 :  2014-11-14 long 진입가격 :  323.890015  : long 청산가격 :  327.820007  : return : 1.0121\n",
            "진입일 :  2015-01-15 long 진입가격 :  286.950012\n",
            "청산일 :  2015-01-30 long 진입가격 :  286.950012  : long 청산가격 :  354.52999900000003  : return : 1.2355\n",
            "진입일 :  2015-03-10 long 진입가격 :  369.51001\n",
            "청산일 :  2015-04-08 long 진입가격 :  369.51001  : long 청산가격 :  381.200012  : return : 1.0316\n",
            "진입일 :  2015-08-20 long 진입가격 :  515.780029\n",
            "청산일 :  2015-10-23 long 진입가격 :  515.780029  : long 청산가격 :  599.030029  : return : 1.1614\n",
            "진입일 :  2015-12-11 long 진입가격 :  640.150024\n",
            "청산일 :  2015-12-29 long 진입가격 :  640.150024  : long 청산가격 :  693.969971  : return : 1.0841\n",
            "진입일 :  2016-01-04 long 진입가격 :  636.98999\n",
            "청산일 :  2016-03-29 long 진입가격 :  636.98999  : long 청산가격 :  593.8599849999999  : return : 0.9323\n",
            "진입일 :  2016-06-24 long 진입가격 :  698.960022\n",
            "청산일 :  2016-07-06 long 진입가격 :  698.960022  : long 청산가격 :  737.6099849999999  : return : 1.0553\n",
            "진입일 :  2016-10-28 long 진입가격 :  776.320007\n",
            "청산일 :  2017-01-06 long 진입가격 :  776.320007  : long 청산가격 :  795.98999  : return : 1.0253\n",
            "진입일 :  2017-08-10 long 진입가격 :  956.919983\n",
            "청산일 :  2017-09-13 long 진입가격 :  956.919983  : long 청산가격 :  999.599976  : return : 1.0446\n",
            "진입일 :  2017-09-25 long 진입가격 :  939.7899779999999\n",
            "청산일 :  2017-10-27 long 진입가격 :  939.7899779999999  : long 청산가격 :  1100.949951  : return : 1.1715\n",
            "진입일 :  2018-03-28 long 진입가격 :  1431.420044\n",
            "청산일 :  2018-06-01 long 진입가격 :  1431.420044  : long 청산가격 :  1641.540039  : return : 1.1468\n",
            "진입일 :  2018-10-08 long 진입가격 :  1864.4200440000002\n",
            "청산일 :  2019-03-01 long 진입가격 :  1864.4200440000002  : long 청산가격 :  1671.72998  : return : 0.8966\n",
            "진입일 :  2019-05-13 long 진입가격 :  1822.680054\n",
            "청산일 :  2019-07-09 long 진입가격 :  1822.680054  : long 청산가격 :  1988.300049  : return : 1.0909\n",
            "진입일 :  2019-07-30 long 진입가격 :  1898.530029\n",
            "청산일 :  2019-12-26 long 진입가격 :  1898.530029  : long 청산가격 :  1868.77002  : return : 0.9843\n",
            "진입일 :  2020-01-27 long 진입가격 :  1828.339966\n",
            "청산일 :  2020-01-31 long 진입가격 :  1828.339966  : long 청산가격 :  2008.719971  : return : 1.0987\n",
            "진입일 :  2020-03-12 long 진입가격 :  1676.609985\n",
            "청산일 :  2020-04-13 long 진입가격 :  1676.609985  : long 청산가격 :  2168.8701170000004  : return : 1.2936\n",
            "진입일 :  2021-02-22 long 진입가격 :  3180.73999\n",
            "Accunlated return : 6.9864\n",
            "6.9864\n"
          ],
          "name": "stdout"
        }
      ]
    },
    {
      "cell_type": "code",
      "metadata": {
        "colab": {
          "base_uri": "https://localhost:8080/",
          "height": 296
        },
        "id": "Cg1cBAm5sPhV",
        "outputId": "279c6571-404d-4b84-f68d-f7dfa71e3eba"
      },
      "source": [
        "import matplotlib.pyplot as plt\n",
        "book['acc return'].plot()"
      ],
      "execution_count": null,
      "outputs": [
        {
          "output_type": "execute_result",
          "data": {
            "text/plain": [
              "<matplotlib.axes._subplots.AxesSubplot at 0x7f8e79948c50>"
            ]
          },
          "metadata": {
            "tags": []
          },
          "execution_count": 56
        },
        {
          "output_type": "display_data",
          "data": {
            "image/png": "[encoded data removed]",
            "text/plain": [
              "<Figure size 432x288 with 1 Axes>"
            ]
          },
          "metadata": {
            "tags": [],
            "needs_background": "light"
          }
        }
      ]
    }
  ]
}