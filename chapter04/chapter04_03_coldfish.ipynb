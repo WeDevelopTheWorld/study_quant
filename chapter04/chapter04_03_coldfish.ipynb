{
  "nbformat": 4,
  "nbformat_minor": 0,
  "metadata": {
    "colab": {
      "name": "Untitled0.ipynb",
      "provenance": []
    },
    "kernelspec": {
      "name": "python3",
      "display_name": "Python 3"
    },
    "language_info": {
      "name": "python"
    }
  },
  "cells": [
    {
      "cell_type": "code",
      "metadata": {
        "id": "Ah449PBntA2K"
      },
      "source": [
        "import os\n",
        "import glob\n",
        "import pandas as pd\n",
        "import numpy as np\n",
        "import datetime"
      ],
      "execution_count": 5,
      "outputs": []
    },
    {
      "cell_type": "markdown",
      "metadata": {
        "id": "qFkDWyIJwBCQ"
      },
      "source": [
        "# 절대모멘텀 코드 재활용"
      ]
    },
    {
      "cell_type": "code",
      "metadata": {
        "id": "-gvIFs_tv9Zs"
      },
      "source": [
        "def data_preprocessing(sample, ticker, base_date):   \n",
        "    sample['CODE'] = ticker # 종목코드 추가\n",
        "    sample = sample[sample['Date'] >= base_date][['Date','CODE','Adj Close']].copy() # 기준일자 이후 데이터 사용\n",
        "    sample.reset_index(inplace= True, drop= True)\n",
        "    # 기준년월 \n",
        "    sample['STD_YM'] = sample['Date'].map(lambda x : datetime.datetime.strptime(x,'%Y-%m-%d').strftime('%Y-%m')) \n",
        "    sample['1M_RET'] = 0.0 # 수익률 컬럼\n",
        "    ym_keys = list(sample['STD_YM'].unique()) # 중복 제거한 기준년월 리스트\n",
        "    return sample, ym_keys"
      ],
      "execution_count": 10,
      "outputs": []
    },
    {
      "cell_type": "code",
      "metadata": {
        "id": "kw_jHc9xwTfU"
      },
      "source": [
        "def create_trade_book(sample, sample_codes):\n",
        "    book = pd.DataFrame()\n",
        "    book = sample[sample_codes].copy()\n",
        "    book['STD_YM'] = book.index.map(lambda x : datetime.datetime.strptime(x,'%Y-%m-%d').strftime('%Y-%m'))\n",
        "    for c in sample_codes:\n",
        "        book['p '+c] = ''\n",
        "        book['r '+c] = ''\n",
        "    return book"
      ],
      "execution_count": 11,
      "outputs": []
    },
    {
      "cell_type": "code",
      "metadata": {
        "id": "GzgD3hdiwXzV"
      },
      "source": [
        "\n",
        "# 상대모멘텀 tradings\n",
        "def tradings(book, s_codes):\n",
        "    std_ym = ''\n",
        "    buy_phase = False\n",
        "    # 종목코드별 순회\n",
        "    for s in s_codes : \n",
        "        print(s)\n",
        "        # 종목코드 인덱스 순회\n",
        "        for i in book.index:\n",
        "            # 해당 종목코드 포지션을 잡아준다. \n",
        "            if book.loc[i,'p '+s] == '' and book.shift(1).loc[i,'p '+s] == 'ready ' + s:\n",
        "                std_ym = book.loc[i,'STD_YM']\n",
        "                buy_phase = True\n",
        "            # 해당 종목코드에서 신호가 잡혀있으면 매수상태를 유지한다.\n",
        "            if book.loc[i,'p '+s] == '' and book.loc[i,'STD_YM'] == std_ym and buy_phase == True : \n",
        "                book.loc[i,'p '+s] = 'buy ' + s\n",
        "            \n",
        "            if book.loc[i,'p '+ s] == '' :\n",
        "                std_ym = None\n",
        "                buy_phase = False\n",
        "    return book"
      ],
      "execution_count": 13,
      "outputs": []
    },
    {
      "cell_type": "code",
      "metadata": {
        "id": "7MiwBeHWwcDV"
      },
      "source": [
        "def multi_returns(book, s_codes):\n",
        "    # 손익 계산\n",
        "    rtn = 1.0\n",
        "    buy_dict = {}\n",
        "    num = len(s_codes)\n",
        "    sell_dict = {}\n",
        "    \n",
        "    for i in book.index:\n",
        "        for s in s_codes:\n",
        "            if book.loc[i, 'p ' + s] == 'buy '+ s and \\\n",
        "            book.shift(1).loc[i, 'p '+s] == 'ready '+s and \\\n",
        "            book.shift(2).loc[i, 'p '+s] == '' :     # long 진입\n",
        "                buy_dict[s] = book.loc[i, s]\n",
        "#                 print('진입일 : ',i, '종목코드 : ',s ,' long 진입가격 : ', buy_dict[s])\n",
        "            elif book.loc[i, 'p '+ s] == '' and book.shift(1).loc[i, 'p '+s] == 'buy '+ s:     # long 청산\n",
        "                sell_dict[s] = book.loc[i, s]\n",
        "                # 손익 계산\n",
        "                rtn = (sell_dict[s] / buy_dict[s]) -1\n",
        "                book.loc[i, 'r '+s] = rtn\n",
        "                print('개별 청산일 : ',i,' 종목코드 : ', s , 'long 진입가격 : ', buy_dict[s], ' |  long 청산가격 : ',\\\n",
        "                      sell_dict[s],' | return:', round(rtn * 100, 2),'%') # 수익률 계산.\n",
        "            if book.loc[i, 'p '+ s] == '':     # zero position || long 청산.\n",
        "                buy_dict[s] = 0.0\n",
        "                sell_dict[s] = 0.0\n",
        "\n",
        "\n",
        "    acc_rtn = 1.0        \n",
        "    for i in book.index:\n",
        "        rtn  = 0.0\n",
        "        count = 0\n",
        "        for s in s_codes:\n",
        "            if book.loc[i, 'p '+ s] == '' and book.shift(1).loc[i,'p '+ s] == 'buy '+ s: \n",
        "                # 청산 수익률계산.\n",
        "                count += 1\n",
        "                rtn += book.loc[i, 'r '+s]\n",
        "        if (rtn != 0.0) & (count != 0) :\n",
        "            acc_rtn *= (rtn /count )  + 1\n",
        "            print('누적 청산일 : ',i,'청산 종목수 : ',count, \\\n",
        "                  '청산 수익률 : ',round((rtn /count),4),'누적 수익률 : ' ,round(acc_rtn, 4)) # 수익률 계산.\n",
        "        book.loc[i,'acc_rtn'] = acc_rtn\n",
        "    print ('누적 수익률 :', round(acc_rtn, 4))"
      ],
      "execution_count": 14,
      "outputs": []
    },
    {
      "cell_type": "markdown",
      "metadata": {
        "id": "6I68-_bqwIW_"
      },
      "source": [
        "# 상대모멘텀\n"
      ]
    },
    {
      "cell_type": "code",
      "metadata": {
        "id": "L4xd7RdSuENo",
        "colab": {
          "base_uri": "https://localhost:8080/"
        },
        "outputId": "dad8bdfd-ab21-44a3-963d-aa5d393a19e7"
      },
      "source": [
        "files = glob.glob('./us_etf_data/*.csv')\n",
        "print(files)"
      ],
      "execution_count": 7,
      "outputs": [
        {
          "output_type": "stream",
          "text": [
            "['./us_etf_data/BND.csv', './us_etf_data/AAPL.csv', './us_etf_data/AMZN.csv']\n"
          ],
          "name": "stdout"
        }
      ]
    },
    {
      "cell_type": "markdown",
      "metadata": {
        "id": "ikKTEBgxu89b"
      },
      "source": [
        "필요한 데이터프레임 생성\n",
        "\n",
        "Montly 데이터 저장"
      ]
    },
    {
      "cell_type": "code",
      "metadata": {
        "id": "eUl7RVEHvCtu"
      },
      "source": [
        "month_last_df = pd.DataFrame(columns=['Date', 'Code', '1M_RET'])\n",
        "stock_df = pd.DataFrame(columns=['Date', 'CODE','Adj Close'])"
      ],
      "execution_count": 17,
      "outputs": []
    },
    {
      "cell_type": "code",
      "metadata": {
        "colab": {
          "base_uri": "https://localhost:8080/"
        },
        "id": "aLuul_H1vbe0",
        "outputId": "beafebb7-5304-402a-b8ed-5527e107de32"
      },
      "source": [
        "for file in files:\n",
        "    \"\"\"\n",
        "    데이터 저장 경로에 있는 개별 종목들을 읽어온다.\n",
        "    \"\"\"\n",
        "    if os.path.isdir(file):\n",
        "        print('%s <DIR> '%file)\n",
        "    else:\n",
        "        folder, name = os.path.split(file)\n",
        "        head, tail = os.path.splitext(name)\n",
        "        print(file)\n",
        "        read_df = pd.read_csv(file) # 경로를 읽은 데이터를 하나씩 읽어들인다.\n",
        "        \n",
        "        # 1단계. 데이터 가공\n",
        "        price_df, ym_keys = data_preprocessing(read_df,head,base_date='2010-01-02')\n",
        "        # 가공한 데이터 붙이기.\n",
        "        stock_df = stock_df.append(price_df.loc[:,['Date','CODE','Adj Close']],sort=False)\n",
        "        # 월별 상대모멘텀 계산을 위한 1개월간 수익률 계산\n",
        "        for ym in ym_keys:\n",
        "            m_ret = price_df.loc[price_df[price_df['STD_YM'] == ym].index[-1],'Adj Close'] \\\n",
        "            / price_df.loc[price_df[price_df['STD_YM'] == ym].index[0],'Adj Close'] \n",
        "            price_df.loc[price_df['STD_YM'] == ym, ['1M_RET']] = m_ret\n",
        "            month_last_df = month_last_df.append(price_df.loc[price_df[price_df['STD_YM'] == ym].index[-1],\\\n",
        "                                                              ['Date','CODE','1M_RET']])\n"
      ],
      "execution_count": 18,
      "outputs": [
        {
          "output_type": "stream",
          "text": [
            "./us_etf_data/BND.csv\n",
            "./us_etf_data/AAPL.csv\n",
            "./us_etf_data/AMZN.csv\n"
          ],
          "name": "stdout"
        }
      ]
    },
    {
      "cell_type": "code",
      "metadata": {
        "id": "iuCD2nJpwf6D"
      },
      "source": [
        "month_ret_df = month_last_df.pivot('Date','CODE','1M_RET').copy()\n",
        "month_ret_df = month_ret_df.rank(axis=1, ascending=False, method=\"max\", pct=True)"
      ],
      "execution_count": 24,
      "outputs": []
    },
    {
      "cell_type": "code",
      "metadata": {
        "colab": {
          "base_uri": "https://localhost:8080/",
          "height": 235
        },
        "id": "bCIIIJuoyRW6",
        "outputId": "486ea427-a203-466f-f079-c1d22aa619b7"
      },
      "source": [
        "month_ret_df.head()"
      ],
      "execution_count": 25,
      "outputs": [
        {
          "output_type": "execute_result",
          "data": {
            "text/html": [
              "<div>\n",
              "<style scoped>\n",
              "    .dataframe tbody tr th:only-of-type {\n",
              "        vertical-align: middle;\n",
              "    }\n",
              "\n",
              "    .dataframe tbody tr th {\n",
              "        vertical-align: top;\n",
              "    }\n",
              "\n",
              "    .dataframe thead th {\n",
              "        text-align: right;\n",
              "    }\n",
              "</style>\n",
              "<table border=\"1\" class=\"dataframe\">\n",
              "  <thead>\n",
              "    <tr style=\"text-align: right;\">\n",
              "      <th>CODE</th>\n",
              "      <th>AAPL</th>\n",
              "      <th>AMZN</th>\n",
              "      <th>BND</th>\n",
              "    </tr>\n",
              "    <tr>\n",
              "      <th>Date</th>\n",
              "      <th></th>\n",
              "      <th></th>\n",
              "      <th></th>\n",
              "    </tr>\n",
              "  </thead>\n",
              "  <tbody>\n",
              "    <tr>\n",
              "      <th>2010-01-25</th>\n",
              "      <td>1.000000</td>\n",
              "      <td>0.666667</td>\n",
              "      <td>0.333333</td>\n",
              "    </tr>\n",
              "    <tr>\n",
              "      <th>2010-02-22</th>\n",
              "      <td>0.333333</td>\n",
              "      <td>0.666667</td>\n",
              "      <td>1.000000</td>\n",
              "    </tr>\n",
              "    <tr>\n",
              "      <th>2010-03-29</th>\n",
              "      <td>0.333333</td>\n",
              "      <td>0.666667</td>\n",
              "      <td>1.000000</td>\n",
              "    </tr>\n",
              "    <tr>\n",
              "      <th>2010-04-26</th>\n",
              "      <td>0.333333</td>\n",
              "      <td>1.000000</td>\n",
              "      <td>0.666667</td>\n",
              "    </tr>\n",
              "    <tr>\n",
              "      <th>2010-05-31</th>\n",
              "      <td>0.333333</td>\n",
              "      <td>1.000000</td>\n",
              "      <td>0.666667</td>\n",
              "    </tr>\n",
              "  </tbody>\n",
              "</table>\n",
              "</div>"
            ],
            "text/plain": [
              "CODE            AAPL      AMZN       BND\n",
              "Date                                    \n",
              "2010-01-25  1.000000  0.666667  0.333333\n",
              "2010-02-22  0.333333  0.666667  1.000000\n",
              "2010-03-29  0.333333  0.666667  1.000000\n",
              "2010-04-26  0.333333  1.000000  0.666667\n",
              "2010-05-31  0.333333  1.000000  0.666667"
            ]
          },
          "metadata": {
            "tags": []
          },
          "execution_count": 25
        }
      ]
    },
    {
      "cell_type": "markdown",
      "metadata": {
        "id": "HrUWpVu9ykXO"
      },
      "source": [
        "상위 40%에 드는 종목들만 신호 목록"
      ]
    },
    {
      "cell_type": "code",
      "metadata": {
        "id": "M8f9d800ypj8"
      },
      "source": [
        "month_ret_df = month_ret_df.where(month_ret_df<0.4, np.nan)\n",
        "month_ret_df.fillna(0, inplace=True)\n",
        "month_ret_df[month_ret_df!=0] = 1 #?????\n",
        "stock_codes = list(stock_df['CODE'].unique())"
      ],
      "execution_count": 26,
      "outputs": []
    },
    {
      "cell_type": "code",
      "metadata": {
        "colab": {
          "base_uri": "https://localhost:8080/",
          "height": 235
        },
        "id": "a886bd1_zHe9",
        "outputId": "373591a0-a18d-4a27-de96-7e8be22c4455"
      },
      "source": [
        "month_ret_df.head()"
      ],
      "execution_count": 28,
      "outputs": [
        {
          "output_type": "execute_result",
          "data": {
            "text/html": [
              "<div>\n",
              "<style scoped>\n",
              "    .dataframe tbody tr th:only-of-type {\n",
              "        vertical-align: middle;\n",
              "    }\n",
              "\n",
              "    .dataframe tbody tr th {\n",
              "        vertical-align: top;\n",
              "    }\n",
              "\n",
              "    .dataframe thead th {\n",
              "        text-align: right;\n",
              "    }\n",
              "</style>\n",
              "<table border=\"1\" class=\"dataframe\">\n",
              "  <thead>\n",
              "    <tr style=\"text-align: right;\">\n",
              "      <th>CODE</th>\n",
              "      <th>AAPL</th>\n",
              "      <th>AMZN</th>\n",
              "      <th>BND</th>\n",
              "    </tr>\n",
              "    <tr>\n",
              "      <th>Date</th>\n",
              "      <th></th>\n",
              "      <th></th>\n",
              "      <th></th>\n",
              "    </tr>\n",
              "  </thead>\n",
              "  <tbody>\n",
              "    <tr>\n",
              "      <th>2010-01-25</th>\n",
              "      <td>0.0</td>\n",
              "      <td>0.0</td>\n",
              "      <td>1.0</td>\n",
              "    </tr>\n",
              "    <tr>\n",
              "      <th>2010-02-22</th>\n",
              "      <td>1.0</td>\n",
              "      <td>0.0</td>\n",
              "      <td>0.0</td>\n",
              "    </tr>\n",
              "    <tr>\n",
              "      <th>2010-03-29</th>\n",
              "      <td>1.0</td>\n",
              "      <td>0.0</td>\n",
              "      <td>0.0</td>\n",
              "    </tr>\n",
              "    <tr>\n",
              "      <th>2010-04-26</th>\n",
              "      <td>1.0</td>\n",
              "      <td>0.0</td>\n",
              "      <td>0.0</td>\n",
              "    </tr>\n",
              "    <tr>\n",
              "      <th>2010-05-31</th>\n",
              "      <td>1.0</td>\n",
              "      <td>0.0</td>\n",
              "      <td>0.0</td>\n",
              "    </tr>\n",
              "  </tbody>\n",
              "</table>\n",
              "</div>"
            ],
            "text/plain": [
              "CODE        AAPL  AMZN  BND\n",
              "Date                       \n",
              "2010-01-25   0.0   0.0  1.0\n",
              "2010-02-22   1.0   0.0  0.0\n",
              "2010-03-29   1.0   0.0  0.0\n",
              "2010-04-26   1.0   0.0  0.0\n",
              "2010-05-31   1.0   0.0  0.0"
            ]
          },
          "metadata": {
            "tags": []
          },
          "execution_count": 28
        }
      ]
    },
    {
      "cell_type": "code",
      "metadata": {
        "id": "ju1LGYD-zcEs"
      },
      "source": [
        "#3단계. 신호 목록으로 트레이딩 + 포지셔닝\n",
        "\n",
        "sig_dict = dict()\n",
        "for date in month_ret_df.index:\n",
        "  ticker_list = list(month_ret_df.loc[date, month_ret_df.loc[date, :] >= 1.0].index)\n",
        "  sig_dict[date] = ticker_list\n",
        "stock_c_matrix = stock_df.pivot('Date','CODE','Adj Close').copy()\n",
        "book = create_trade_book(stock_c_matrix, list(stock_df['CODE'].unique()))"
      ],
      "execution_count": 29,
      "outputs": []
    },
    {
      "cell_type": "code",
      "metadata": {
        "id": "c7rPyy0i0RL0"
      },
      "source": [
        "for date, values in sig_dict.items():\n",
        "  for stock in values:\n",
        "    book.loc[date, 'p '+stock] = 'ready ' + stock"
      ],
      "execution_count": 30,
      "outputs": []
    },
    {
      "cell_type": "code",
      "metadata": {
        "colab": {
          "base_uri": "https://localhost:8080/",
          "height": 235
        },
        "id": "MKdXQSp10hER",
        "outputId": "c40feb3b-0f87-4fc1-cedf-b0947e70dbcf"
      },
      "source": [
        "book.head()"
      ],
      "execution_count": 31,
      "outputs": [
        {
          "output_type": "execute_result",
          "data": {
            "text/html": [
              "<div>\n",
              "<style scoped>\n",
              "    .dataframe tbody tr th:only-of-type {\n",
              "        vertical-align: middle;\n",
              "    }\n",
              "\n",
              "    .dataframe tbody tr th {\n",
              "        vertical-align: top;\n",
              "    }\n",
              "\n",
              "    .dataframe thead th {\n",
              "        text-align: right;\n",
              "    }\n",
              "</style>\n",
              "<table border=\"1\" class=\"dataframe\">\n",
              "  <thead>\n",
              "    <tr style=\"text-align: right;\">\n",
              "      <th>CODE</th>\n",
              "      <th>BND</th>\n",
              "      <th>AAPL</th>\n",
              "      <th>AMZN</th>\n",
              "      <th>STD_YM</th>\n",
              "      <th>p BND</th>\n",
              "      <th>r BND</th>\n",
              "      <th>p AAPL</th>\n",
              "      <th>r AAPL</th>\n",
              "      <th>p AMZN</th>\n",
              "      <th>r AMZN</th>\n",
              "    </tr>\n",
              "    <tr>\n",
              "      <th>Date</th>\n",
              "      <th></th>\n",
              "      <th></th>\n",
              "      <th></th>\n",
              "      <th></th>\n",
              "      <th></th>\n",
              "      <th></th>\n",
              "      <th></th>\n",
              "      <th></th>\n",
              "      <th></th>\n",
              "      <th></th>\n",
              "    </tr>\n",
              "  </thead>\n",
              "  <tbody>\n",
              "    <tr>\n",
              "      <th>2010-01-04</th>\n",
              "      <td>57.169640</td>\n",
              "      <td>6.510078</td>\n",
              "      <td>133.520004</td>\n",
              "      <td>2010-01</td>\n",
              "      <td></td>\n",
              "      <td></td>\n",
              "      <td></td>\n",
              "      <td></td>\n",
              "      <td></td>\n",
              "      <td></td>\n",
              "    </tr>\n",
              "    <tr>\n",
              "      <th>2010-01-11</th>\n",
              "      <td>57.452190</td>\n",
              "      <td>6.324279</td>\n",
              "      <td>127.139999</td>\n",
              "      <td>2010-01</td>\n",
              "      <td></td>\n",
              "      <td></td>\n",
              "      <td></td>\n",
              "      <td></td>\n",
              "      <td></td>\n",
              "      <td></td>\n",
              "    </tr>\n",
              "    <tr>\n",
              "      <th>2010-01-18</th>\n",
              "      <td>57.604393</td>\n",
              "      <td>6.073064</td>\n",
              "      <td>121.430000</td>\n",
              "      <td>2010-01</td>\n",
              "      <td></td>\n",
              "      <td></td>\n",
              "      <td></td>\n",
              "      <td></td>\n",
              "      <td></td>\n",
              "      <td></td>\n",
              "    </tr>\n",
              "    <tr>\n",
              "      <th>2010-01-25</th>\n",
              "      <td>57.676796</td>\n",
              "      <td>5.898319</td>\n",
              "      <td>125.410004</td>\n",
              "      <td>2010-01</td>\n",
              "      <td>ready BND</td>\n",
              "      <td></td>\n",
              "      <td></td>\n",
              "      <td></td>\n",
              "      <td></td>\n",
              "      <td></td>\n",
              "    </tr>\n",
              "    <tr>\n",
              "      <th>2010-02-01</th>\n",
              "      <td>57.662350</td>\n",
              "      <td>6.002738</td>\n",
              "      <td>117.389999</td>\n",
              "      <td>2010-02</td>\n",
              "      <td></td>\n",
              "      <td></td>\n",
              "      <td></td>\n",
              "      <td></td>\n",
              "      <td></td>\n",
              "      <td></td>\n",
              "    </tr>\n",
              "  </tbody>\n",
              "</table>\n",
              "</div>"
            ],
            "text/plain": [
              "CODE              BND      AAPL        AMZN  ... r AAPL p AMZN r AMZN\n",
              "Date                                         ...                     \n",
              "2010-01-04  57.169640  6.510078  133.520004  ...                     \n",
              "2010-01-11  57.452190  6.324279  127.139999  ...                     \n",
              "2010-01-18  57.604393  6.073064  121.430000  ...                     \n",
              "2010-01-25  57.676796  5.898319  125.410004  ...                     \n",
              "2010-02-01  57.662350  6.002738  117.389999  ...                     \n",
              "\n",
              "[5 rows x 10 columns]"
            ]
          },
          "metadata": {
            "tags": []
          },
          "execution_count": 31
        }
      ]
    },
    {
      "cell_type": "code",
      "metadata": {
        "colab": {
          "base_uri": "https://localhost:8080/"
        },
        "id": "DnTR9Clw0nW4",
        "outputId": "c068cdf7-f3fb-4d49-ac0a-834beec0d53c"
      },
      "source": [
        "book = tradings(book, stock_codes)\n",
        "multi_returns(book, stock_codes)"
      ],
      "execution_count": 32,
      "outputs": [
        {
          "output_type": "stream",
          "text": [
            "BND\n",
            "AAPL\n",
            "AMZN\n",
            "개별 청산일 :  2010-03-01  종목코드 :  BND long 진입가격 :  57.66235  |  long 청산가격 :  57.762623  | return: 0.17 %\n",
            "개별 청산일 :  2010-07-05  종목코드 :  AAPL long 진입가격 :  6.724133  |  long 청산가격 :  7.973139999999999  | return: 18.57 %\n",
            "개별 청산일 :  2010-09-06  종목코드 :  BND long 진입가격 :  59.823119999999996  |  long 청산가격 :  60.683932999999996  | return: 1.44 %\n",
            "개별 청산일 :  2011-02-07  종목코드 :  AMZN long 진입가격 :  142.440002  |  long 청산가격 :  189.25  | return: 32.86 %\n",
            "개별 청산일 :  2011-04-04  종목코드 :  AAPL long 진입가격 :  10.959155  |  long 청산가격 :  10.289966999999999  | return: -6.11 %\n",
            "개별 청산일 :  2011-06-06  종목코드 :  AMZN long 진입가격 :  184.71000700000002  |  long 청산가격 :  186.529999  | return: 0.99 %\n",
            "개별 청산일 :  2011-07-04  종목코드 :  BND long 진입가격 :  62.476443999999994  |  long 청산가격 :  62.460190000000004  | return: -0.03 %\n",
            "개별 청산일 :  2011-08-01  종목코드 :  AMZN long 진입가격 :  218.27999900000003  |  long 청산가격 :  202.699997  | return: -7.14 %\n",
            "개별 청산일 :  2011-09-05  종목코드 :  AAPL long 진입가격 :  11.474173  |  long 청산가격 :  11.59272  | return: 1.03 %\n",
            "개별 청산일 :  2011-11-07  종목코드 :  AMZN long 진입가격 :  211.38999900000002  |  long 청산가격 :  217.38999900000002  | return: 2.84 %\n",
            "개별 청산일 :  2012-05-07  종목코드 :  AAPL long 진입가격 :  11.811995  |  long 청산가격 :  17.404127  | return: 47.34 %\n",
            "개별 청산일 :  2012-06-04  종목코드 :  AMZN long 진입가격 :  227.67999300000002  |  long 청산가격 :  218.479996  | return: -4.04 %\n",
            "개별 청산일 :  2012-07-02  종목코드 :  BND long 진입가격 :  66.584824  |  long 청산가격 :  66.909203  | return: 0.49 %\n",
            "개별 청산일 :  2012-09-03  종목코드 :  AMZN long 진입가격 :  225.05000299999998  |  long 청산가격 :  259.140015  | return: 15.15 %\n",
            "개별 청산일 :  2012-10-01  종목코드 :  AAPL long 진입가격 :  20.986586  |  long 청산가격 :  20.127623  | return: -4.09 %\n",
            "개별 청산일 :  2012-12-03  종목코드 :  BND long 진입가격 :  67.51799799999999  |  long 청산가격 :  67.680183  | return: 0.24 %\n",
            "개별 청산일 :  2013-02-04  종목코드 :  AMZN long 진입가격 :  253.270004  |  long 청산가격 :  261.950012  | return: 3.43 %\n",
            "개별 청산일 :  2013-03-04  종목코드 :  BND long 진입가격 :  66.811012  |  long 청산가격 :  66.670837  | return: -0.21 %\n",
            "개별 청산일 :  2013-04-01  종목코드 :  AMZN long 진입가격 :  274.190002  |  long 청산가격 :  255.479996  | return: -6.82 %\n",
            "개별 청산일 :  2013-06-03  종목코드 :  AAPL long 진입가격 :  13.188656  |  long 청산가격 :  13.859758  | return: 5.09 %\n",
            "개별 청산일 :  2013-08-05  종목코드 :  AMZN long 진입가격 :  276.869995  |  long 청산가격 :  297.26001  | return: 7.36 %\n",
            "개별 청산일 :  2013-10-07  종목코드 :  AAPL long 진입가격 :  14.256276000000002  |  long 청산가격 :  15.561716  | return: 9.16 %\n",
            "개별 청산일 :  2014-02-03  종목코드 :  AMZN long 진입가격 :  310.890015  |  long 청산가격 :  361.079987  | return: 16.14 %\n",
            "개별 청산일 :  2014-03-03  종목코드 :  BND long 진입가격 :  66.677666  |  long 청산가격 :  66.604118  | return: -0.11 %\n",
            "개별 청산일 :  2014-04-07  종목코드 :  AAPL long 진입가격 :  16.948626  |  long 청산가격 :  16.602583  | return: -2.04 %\n",
            "개별 청산일 :  2014-05-05  종목코드 :  BND long 진입가격 :  67.44742600000001  |  long 청산가격 :  67.743996  | return: 0.44 %\n",
            "개별 청산일 :  2014-07-07  종목코드 :  AAPL long 진입가격 :  18.709185  |  long 청산가격 :  21.416245999999997  | return: 14.47 %\n",
            "개별 청산일 :  2014-08-04  종목코드 :  AMZN long 진입가격 :  346.200012  |  long 청산가격 :  316.799988  | return: -8.49 %\n",
            "개별 청산일 :  2014-12-01  종목코드 :  AAPL long 진입가격 :  21.308287  |  long 청산가격 :  26.1064  | return: 22.52 %\n",
            "개별 청산일 :  2015-01-05  종목코드 :  AMZN long 진입가격 :  312.630005  |  long 청산가격 :  296.929993  | return: -5.02 %\n",
            "개별 청산일 :  2015-02-02  종목코드 :  BND long 진입가격 :  70.293289  |  long 청산가격 :  70.24263  | return: -0.07 %\n",
            "개별 청산일 :  2015-03-02  종목코드 :  AMZN long 진입가격 :  374.27999900000003  |  long 청산가격 :  380.089996  | return: 1.55 %\n",
            "개별 청산일 :  2015-04-06  종목코드 :  AAPL long 진입가격 :  28.853170000000002  |  long 청산가격 :  28.967117  | return: 0.39 %\n",
            "개별 청산일 :  2015-05-04  종목코드 :  BND long 진입가격 :  70.77748100000001  |  long 청산가격 :  70.206345  | return: -0.81 %\n",
            "개별 청산일 :  2015-06-01  종목코드 :  AMZN long 진입가격 :  433.69000199999994  |  long 청산가격 :  426.950012  | return: -1.55 %\n",
            "개별 청산일 :  2015-07-06  종목코드 :  AAPL long 진입가격 :  29.442847999999998  |  long 청산가격 :  28.213871  | return: -4.17 %\n",
            "개별 청산일 :  2015-09-07  종목코드 :  AMZN long 진입가격 :  443.51000999999997  |  long 청산가격 :  529.4400019999999  | return: 19.37 %\n",
            "개별 청산일 :  2015-11-02  종목코드 :  BND long 진입가격 :  69.95694  |  long 청산가격 :  69.623924  | return: -0.48 %\n",
            "개별 청산일 :  2016-02-01  종목코드 :  AMZN long 진입가격 :  659.369995  |  long 청산가격 :  502.130005  | return: -23.85 %\n",
            "개별 청산일 :  2016-03-07  종목코드 :  BND long 진입가격 :  70.812866  |  long 청산가격 :  71.115288  | return: 0.43 %\n",
            "개별 청산일 :  2016-04-04  종목코드 :  AMZN long 진입가격 :  569.6099849999999  |  long 청산가격 :  594.599976  | return: 4.39 %\n",
            "개별 청산일 :  2016-05-02  종목코드 :  AAPL long 진입가격 :  25.22356  |  long 청산가격 :  21.523363  | return: -14.67 %\n",
            "개별 청산일 :  2016-08-01  종목코드 :  AMZN long 진입가격 :  673.950012  |  long 청산가격 :  765.97998  | return: 13.66 %\n",
            "개별 청산일 :  2016-09-05  종목코드 :  AAPL long 진입가격 :  25.101549  |  long 청산가격 :  24.216099  | return: -3.53 %\n",
            "개별 청산일 :  2016-11-07  종목코드 :  AMZN long 진입가격 :  760.1400150000001  |  long 청산가격 :  739.01001  | return: -2.78 %\n",
            "개별 청산일 :  2016-12-05  종목코드 :  BND long 진입가격 :  72.14617199999999  |  long 청산가격 :  71.403252  | return: -1.03 %\n",
            "개별 청산일 :  2017-04-03  종목코드 :  AAPL long 진입가격 :  26.894136  |  long 청산가격 :  33.977352  | return: 26.34 %\n",
            "개별 청산일 :  2017-07-03  종목코드 :  AMZN long 진입가격 :  894.8800050000001  |  long 청산가격 :  978.76001  | return: 9.37 %\n",
            "개별 청산일 :  2017-08-07  종목코드 :  BND long 진입가격 :  72.993332  |  long 청산가격 :  74.32794200000001  | return: 1.83 %\n",
            "개별 청산일 :  2017-10-02  종목코드 :  AAPL long 진입가격 :  37.483177000000005  |  long 청산가격 :  37.109446999999996  | return: -1.0 %\n",
            "개별 청산일 :  2018-03-05  종목코드 :  AMZN long 진입가격 :  989.580017  |  long 청산가격 :  1578.890015  | return: 59.55 %\n",
            "개별 청산일 :  2018-04-02  종목코드 :  AAPL long 진입가격 :  43.337402000000004  |  long 청산가격 :  40.544247  | return: -6.45 %\n",
            "개별 청산일 :  2018-05-07  종목코드 :  BND long 진입가격 :  73.244164  |  long 청산가격 :  72.864311  | return: -0.52 %\n",
            "개별 청산일 :  2018-08-06  종목코드 :  AMZN long 진입가격 :  1602.910034  |  long 청산가격 :  1886.300049  | return: 17.68 %\n",
            "개별 청산일 :  2018-10-01  종목코드 :  AAPL long 진입가격 :  50.16386  |  long 청산가격 :  54.405209  | return: 8.45 %\n",
            "개별 청산일 :  2018-11-05  종목코드 :  AMZN long 진입가격 :  1889.6500239999998  |  long 청산가격 :  1712.430054  | return: -9.38 %\n",
            "개별 청산일 :  2019-02-04  종목코드 :  BND long 진입가격 :  72.904327  |  long 청산가격 :  75.56710799999999  | return: 3.65 %\n",
            "개별 청산일 :  2019-03-04  종목코드 :  AAPL long 진입가격 :  41.479960999999996  |  long 청산가격 :  42.269001  | return: 1.9 %\n",
            "개별 청산일 :  2019-05-06  종목코드 :  AMZN long 진입가격 :  1620.800049  |  long 청산가격 :  1889.97998  | return: 16.61 %\n",
            "개별 청산일 :  2019-06-03  종목코드 :  AAPL long 진입가격 :  48.201965  |  long 청산가격 :  46.662440999999994  | return: -3.19 %\n",
            "개별 청산일 :  2019-07-01  종목코드 :  BND long 진입가격 :  78.41681700000001  |  long 청산가격 :  79.03083000000001  | return: 0.78 %\n",
            "개별 청산일 :  2019-08-05  종목코드 :  AMZN long 진입가격 :  1942.910034  |  long 청산가격 :  1807.5799559999998  | return: -6.97 %\n",
            "개별 청산일 :  2019-09-02  종목코드 :  BND long 진입가격 :  80.532143  |  long 청산가격 :  81.337753  | return: 1.0 %\n",
            "개별 청산일 :  2020-02-03  종목코드 :  AAPL long 진입가격 :  52.532429  |  long 청산가격 :  79.069817  | return: 50.52 %\n",
            "개별 청산일 :  2020-03-02  종목코드 :  AMZN long 진입가격 :  2079.280029  |  long 청산가격 :  1901.089966  | return: -8.57 %\n",
            "개별 청산일 :  2020-04-06  종목코드 :  BND long 진입가격 :  85.468719  |  long 청산가격 :  85.362167  | return: -0.12 %\n",
            "개별 청산일 :  2020-06-01  종목코드 :  AMZN long 진입가격 :  2042.7600100000002  |  long 청산가격 :  2483.0  | return: 21.55 %\n",
            "개별 청산일 :  2020-07-06  종목코드 :  AAPL long 진입가격 :  82.320328  |  long 청산가격 :  95.278015  | return: 15.74 %\n",
            "개별 청산일 :  2020-08-03  종목코드 :  AMZN long 진입가격 :  3200.0  |  long 청산가격 :  3167.459961  | return: -1.02 %\n",
            "개별 청산일 :  2020-11-02  종목코드 :  AAPL long 진입가격 :  110.368835  |  long 청산가격 :  118.108185  | return: 7.01 %\n",
            "개별 청산일 :  2020-12-07  종목코드 :  BND long 진입가격 :  86.835747  |  long 청산가격 :  87.2948  | return: 0.53 %\n",
            "개별 청산일 :  2021-02-01  종목코드 :  AAPL long 진입가격 :  122.020096  |  long 청산가격 :  136.324387  | return: 11.72 %\n",
            "개별 청산일 :  2021-03-01  종목코드 :  AMZN long 진입가격 :  3352.149902  |  long 청산가격 :  3000.459961  | return: -10.49 %\n",
            "개별 청산일 :  2021-04-05  종목코드 :  BND long 진입가격 :  84.649422  |  long 청산가격 :  84.819473  | return: 0.2 %\n",
            "누적 청산일 :  2010-03-01 청산 종목수 :  1 청산 수익률 :  0.0017 누적 수익률 :  1.0017\n",
            "누적 청산일 :  2010-07-05 청산 종목수 :  1 청산 수익률 :  0.1857 누적 수익률 :  1.1878\n",
            "누적 청산일 :  2010-09-06 청산 종목수 :  1 청산 수익률 :  0.0144 누적 수익률 :  1.2049\n",
            "누적 청산일 :  2011-02-07 청산 종목수 :  1 청산 수익률 :  0.3286 누적 수익률 :  1.6009\n",
            "누적 청산일 :  2011-04-04 청산 종목수 :  1 청산 수익률 :  -0.0611 누적 수익률 :  1.5031\n",
            "누적 청산일 :  2011-06-06 청산 종목수 :  1 청산 수익률 :  0.0099 누적 수익률 :  1.5179\n",
            "누적 청산일 :  2011-07-04 청산 종목수 :  1 청산 수익률 :  -0.0003 누적 수익률 :  1.5175\n",
            "누적 청산일 :  2011-08-01 청산 종목수 :  1 청산 수익률 :  -0.0714 누적 수익률 :  1.4092\n",
            "누적 청산일 :  2011-09-05 청산 종목수 :  1 청산 수익률 :  0.0103 누적 수익률 :  1.4238\n",
            "누적 청산일 :  2011-11-07 청산 종목수 :  1 청산 수익률 :  0.0284 누적 수익률 :  1.4642\n",
            "누적 청산일 :  2012-05-07 청산 종목수 :  1 청산 수익률 :  0.4734 누적 수익률 :  2.1574\n",
            "누적 청산일 :  2012-06-04 청산 종목수 :  1 청산 수익률 :  -0.0404 누적 수익률 :  2.0702\n",
            "누적 청산일 :  2012-07-02 청산 종목수 :  1 청산 수익률 :  0.0049 누적 수익률 :  2.0803\n",
            "누적 청산일 :  2012-09-03 청산 종목수 :  1 청산 수익률 :  0.1515 누적 수익률 :  2.3954\n",
            "누적 청산일 :  2012-10-01 청산 종목수 :  1 청산 수익률 :  -0.0409 누적 수익률 :  2.2974\n",
            "누적 청산일 :  2012-12-03 청산 종목수 :  1 청산 수익률 :  0.0024 누적 수익률 :  2.3029\n",
            "누적 청산일 :  2013-02-04 청산 종목수 :  1 청산 수익률 :  0.0343 누적 수익률 :  2.3818\n",
            "누적 청산일 :  2013-03-04 청산 종목수 :  1 청산 수익률 :  -0.0021 누적 수익률 :  2.3768\n",
            "누적 청산일 :  2013-04-01 청산 종목수 :  1 청산 수익률 :  -0.0682 누적 수익률 :  2.2146\n",
            "누적 청산일 :  2013-06-03 청산 종목수 :  1 청산 수익률 :  0.0509 누적 수익률 :  2.3273\n",
            "누적 청산일 :  2013-08-05 청산 종목수 :  1 청산 수익률 :  0.0736 누적 수익률 :  2.4987\n",
            "누적 청산일 :  2013-10-07 청산 종목수 :  1 청산 수익률 :  0.0916 누적 수익률 :  2.7275\n",
            "누적 청산일 :  2014-02-03 청산 종목수 :  1 청산 수익률 :  0.1614 누적 수익률 :  3.1678\n",
            "누적 청산일 :  2014-03-03 청산 종목수 :  1 청산 수익률 :  -0.0011 누적 수익률 :  3.1643\n",
            "누적 청산일 :  2014-04-07 청산 종목수 :  1 청산 수익률 :  -0.0204 누적 수익률 :  3.0997\n",
            "누적 청산일 :  2014-05-05 청산 종목수 :  1 청산 수익률 :  0.0044 누적 수익률 :  3.1134\n",
            "누적 청산일 :  2014-07-07 청산 종목수 :  1 청산 수익률 :  0.1447 누적 수익률 :  3.5638\n",
            "누적 청산일 :  2014-08-04 청산 종목수 :  1 청산 수익률 :  -0.0849 누적 수익률 :  3.2612\n",
            "누적 청산일 :  2014-12-01 청산 종목수 :  1 청산 수익률 :  0.2252 누적 수익률 :  3.9955\n",
            "누적 청산일 :  2015-01-05 청산 종목수 :  1 청산 수익률 :  -0.0502 누적 수익률 :  3.7949\n",
            "누적 청산일 :  2015-02-02 청산 종목수 :  1 청산 수익률 :  -0.0007 누적 수익률 :  3.7922\n",
            "누적 청산일 :  2015-03-02 청산 종목수 :  1 청산 수익률 :  0.0155 누적 수익률 :  3.851\n",
            "누적 청산일 :  2015-04-06 청산 종목수 :  1 청산 수익률 :  0.0039 누적 수익률 :  3.8662\n",
            "누적 청산일 :  2015-05-04 청산 종목수 :  1 청산 수익률 :  -0.0081 누적 수익률 :  3.835\n",
            "누적 청산일 :  2015-06-01 청산 종목수 :  1 청산 수익률 :  -0.0155 누적 수익률 :  3.7754\n",
            "누적 청산일 :  2015-07-06 청산 종목수 :  1 청산 수익률 :  -0.0417 누적 수익률 :  3.6178\n",
            "누적 청산일 :  2015-09-07 청산 종목수 :  1 청산 수익률 :  0.1937 누적 수익률 :  4.3188\n",
            "누적 청산일 :  2015-11-02 청산 종목수 :  1 청산 수익률 :  -0.0048 누적 수익률 :  4.2982\n",
            "누적 청산일 :  2016-02-01 청산 종목수 :  1 청산 수익률 :  -0.2385 누적 수익률 :  3.2732\n",
            "누적 청산일 :  2016-03-07 청산 종목수 :  1 청산 수익률 :  0.0043 누적 수익률 :  3.2872\n",
            "누적 청산일 :  2016-04-04 청산 종목수 :  1 청산 수익률 :  0.0439 누적 수익률 :  3.4314\n",
            "누적 청산일 :  2016-05-02 청산 종목수 :  1 청산 수익률 :  -0.1467 누적 수익률 :  2.9281\n",
            "누적 청산일 :  2016-08-01 청산 종목수 :  1 청산 수익률 :  0.1366 누적 수익률 :  3.3279\n",
            "누적 청산일 :  2016-09-05 청산 종목수 :  1 청산 수익률 :  -0.0353 누적 수익률 :  3.2105\n",
            "누적 청산일 :  2016-11-07 청산 종목수 :  1 청산 수익률 :  -0.0278 누적 수익률 :  3.1213\n",
            "누적 청산일 :  2016-12-05 청산 종목수 :  1 청산 수익률 :  -0.0103 누적 수익률 :  3.0891\n",
            "누적 청산일 :  2017-04-03 청산 종목수 :  1 청산 수익률 :  0.2634 누적 수익률 :  3.9027\n",
            "누적 청산일 :  2017-07-03 청산 종목수 :  1 청산 수익률 :  0.0937 누적 수익률 :  4.2685\n",
            "누적 청산일 :  2017-08-07 청산 종목수 :  1 청산 수익률 :  0.0183 누적 수익률 :  4.3466\n",
            "누적 청산일 :  2017-10-02 청산 종목수 :  1 청산 수익률 :  -0.01 누적 수익률 :  4.3032\n",
            "누적 청산일 :  2018-03-05 청산 종목수 :  1 청산 수익률 :  0.5955 누적 수익률 :  6.8659\n",
            "누적 청산일 :  2018-04-02 청산 종목수 :  1 청산 수익률 :  -0.0645 누적 수익률 :  6.4234\n",
            "누적 청산일 :  2018-05-07 청산 종목수 :  1 청산 수익률 :  -0.0052 누적 수익률 :  6.39\n",
            "누적 청산일 :  2018-08-06 청산 종목수 :  1 청산 수익률 :  0.1768 누적 수익률 :  7.5198\n",
            "누적 청산일 :  2018-10-01 청산 종목수 :  1 청산 수익률 :  0.0845 누적 수익률 :  8.1556\n",
            "누적 청산일 :  2018-11-05 청산 종목수 :  1 청산 수익률 :  -0.0938 누적 수익률 :  7.3907\n",
            "누적 청산일 :  2019-02-04 청산 종목수 :  1 청산 수익률 :  0.0365 누적 수익률 :  7.6606\n",
            "누적 청산일 :  2019-03-04 청산 종목수 :  1 청산 수익률 :  0.019 누적 수익률 :  7.8064\n",
            "누적 청산일 :  2019-05-06 청산 종목수 :  1 청산 수익률 :  0.1661 누적 수익률 :  9.1028\n",
            "누적 청산일 :  2019-06-03 청산 종목수 :  1 청산 수익률 :  -0.0319 누적 수익률 :  8.8121\n",
            "누적 청산일 :  2019-07-01 청산 종목수 :  1 청산 수익률 :  0.0078 누적 수익률 :  8.8811\n",
            "누적 청산일 :  2019-08-05 청산 종목수 :  1 청산 수익률 :  -0.0697 누적 수익률 :  8.2625\n",
            "누적 청산일 :  2019-09-02 청산 종목수 :  1 청산 수익률 :  0.01 누적 수익률 :  8.3452\n",
            "누적 청산일 :  2020-02-03 청산 종목수 :  1 청산 수익률 :  0.5052 누적 수익률 :  12.5608\n",
            "누적 청산일 :  2020-03-02 청산 종목수 :  1 청산 수익률 :  -0.0857 누적 수익률 :  11.4844\n",
            "누적 청산일 :  2020-04-06 청산 종목수 :  1 청산 수익률 :  -0.0012 누적 수익률 :  11.4701\n",
            "누적 청산일 :  2020-06-01 청산 종목수 :  1 청산 수익률 :  0.2155 누적 수익률 :  13.942\n",
            "누적 청산일 :  2020-07-06 청산 종목수 :  1 청산 수익률 :  0.1574 누적 수익률 :  16.1366\n",
            "누적 청산일 :  2020-08-03 청산 종목수 :  1 청산 수익률 :  -0.0102 누적 수익률 :  15.9725\n",
            "누적 청산일 :  2020-11-02 청산 종목수 :  1 청산 수익률 :  0.0701 누적 수익률 :  17.0925\n",
            "누적 청산일 :  2020-12-07 청산 종목수 :  1 청산 수익률 :  0.0053 누적 수익률 :  17.1829\n",
            "누적 청산일 :  2021-02-01 청산 종목수 :  1 청산 수익률 :  0.1172 누적 수익률 :  19.1972\n",
            "누적 청산일 :  2021-03-01 청산 종목수 :  1 청산 수익률 :  -0.1049 누적 수익률 :  17.1831\n",
            "누적 청산일 :  2021-04-05 청산 종목수 :  1 청산 수익률 :  0.002 누적 수익률 :  17.2176\n",
            "누적 수익률 : 17.2176\n"
          ],
          "name": "stdout"
        }
      ]
    }
  ]
}