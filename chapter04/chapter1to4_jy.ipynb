{
  "nbformat": 4,
  "nbformat_minor": 0,
  "metadata": {
    "colab": {
      "name": "FinanceDataReader.ipynb",
      "provenance": [],
      "collapsed_sections": [],
      "toc_visible": true
    },
    "kernelspec": {
      "name": "python3",
      "display_name": "Python 3"
    },
    "language_info": {
      "name": "python"
    }
  },
  "cells": [
    {
      "cell_type": "code",
      "metadata": {
        "id": "rYnXPm9VyE8K",
        "colab": {
          "base_uri": "https://localhost:8080/"
        },
        "outputId": "b1b191e0-c885-4167-ce43-fe0ef69f2144"
      },
      "source": [
        "!pip install -U finance-datareader"
      ],
      "execution_count": 1,
      "outputs": [
        {
          "output_type": "stream",
          "text": [
            "Collecting finance-datareader\n",
            "  Downloading https://files.pythonhosted.org/packages/83/5e/54306e72b5ff5d5ec6cc9f32cdf19602237f9bb70d64efcd527338388be3/finance_datareader-0.9.31-py3-none-any.whl\n",
            "Requirement already satisfied, skipping upgrade: requests>=2.3.0 in /usr/local/lib/python3.7/dist-packages (from finance-datareader) (2.23.0)\n",
            "Requirement already satisfied, skipping upgrade: lxml in /usr/local/lib/python3.7/dist-packages (from finance-datareader) (4.2.6)\n",
            "Collecting requests-file\n",
            "  Downloading https://files.pythonhosted.org/packages/77/86/cdb5e8eaed90796aa83a6d9f75cfbd37af553c47a291cd47bc410ef9bdb2/requests_file-1.5.1-py2.py3-none-any.whl\n",
            "Requirement already satisfied, skipping upgrade: pandas>=0.19.2 in /usr/local/lib/python3.7/dist-packages (from finance-datareader) (1.1.5)\n",
            "Requirement already satisfied, skipping upgrade: tqdm in /usr/local/lib/python3.7/dist-packages (from finance-datareader) (4.41.1)\n",
            "Requirement already satisfied, skipping upgrade: certifi>=2017.4.17 in /usr/local/lib/python3.7/dist-packages (from requests>=2.3.0->finance-datareader) (2020.12.5)\n",
            "Requirement already satisfied, skipping upgrade: urllib3!=1.25.0,!=1.25.1,<1.26,>=1.21.1 in /usr/local/lib/python3.7/dist-packages (from requests>=2.3.0->finance-datareader) (1.24.3)\n",
            "Requirement already satisfied, skipping upgrade: idna<3,>=2.5 in /usr/local/lib/python3.7/dist-packages (from requests>=2.3.0->finance-datareader) (2.10)\n",
            "Requirement already satisfied, skipping upgrade: chardet<4,>=3.0.2 in /usr/local/lib/python3.7/dist-packages (from requests>=2.3.0->finance-datareader) (3.0.4)\n",
            "Requirement already satisfied, skipping upgrade: six in /usr/local/lib/python3.7/dist-packages (from requests-file->finance-datareader) (1.15.0)\n",
            "Requirement already satisfied, skipping upgrade: pytz>=2017.2 in /usr/local/lib/python3.7/dist-packages (from pandas>=0.19.2->finance-datareader) (2018.9)\n",
            "Requirement already satisfied, skipping upgrade: numpy>=1.15.4 in /usr/local/lib/python3.7/dist-packages (from pandas>=0.19.2->finance-datareader) (1.19.5)\n",
            "Requirement already satisfied, skipping upgrade: python-dateutil>=2.7.3 in /usr/local/lib/python3.7/dist-packages (from pandas>=0.19.2->finance-datareader) (2.8.1)\n",
            "Installing collected packages: requests-file, finance-datareader\n",
            "Successfully installed finance-datareader-0.9.31 requests-file-1.5.1\n"
          ],
          "name": "stdout"
        }
      ]
    },
    {
      "cell_type": "code",
      "metadata": {
        "id": "LhxHO-SvyLuG"
      },
      "source": [
        "import FinanceDataReader as fdr\n",
        "import pandas as pd\n"
      ],
      "execution_count": 2,
      "outputs": []
    },
    {
      "cell_type": "markdown",
      "metadata": {
        "id": "N_acbV10c_yS"
      },
      "source": [
        "https://financedata.github.io/posts/finance-data-reader-users-guide.html"
      ]
    },
    {
      "cell_type": "code",
      "metadata": {
        "id": "78btBotpyepX",
        "colab": {
          "base_uri": "https://localhost:8080/",
          "height": 221
        },
        "outputId": "8037e8a3-1033-4740-e3b5-a43dabc38b19"
      },
      "source": [
        "df_krx = fdr.StockListing('KRX')\n",
        "print(len(df_krx))\n",
        "df_krx.head()"
      ],
      "execution_count": 3,
      "outputs": [
        {
          "output_type": "stream",
          "text": [
            "7015\n"
          ],
          "name": "stdout"
        },
        {
          "output_type": "execute_result",
          "data": {
            "text/html": [
              "<div>\n",
              "<style scoped>\n",
              "    .dataframe tbody tr th:only-of-type {\n",
              "        vertical-align: middle;\n",
              "    }\n",
              "\n",
              "    .dataframe tbody tr th {\n",
              "        vertical-align: top;\n",
              "    }\n",
              "\n",
              "    .dataframe thead th {\n",
              "        text-align: right;\n",
              "    }\n",
              "</style>\n",
              "<table border=\"1\" class=\"dataframe\">\n",
              "  <thead>\n",
              "    <tr style=\"text-align: right;\">\n",
              "      <th></th>\n",
              "      <th>Symbol</th>\n",
              "      <th>Market</th>\n",
              "      <th>Name</th>\n",
              "      <th>Sector</th>\n",
              "      <th>Industry</th>\n",
              "      <th>ListingDate</th>\n",
              "      <th>SettleMonth</th>\n",
              "      <th>Representative</th>\n",
              "      <th>HomePage</th>\n",
              "      <th>Region</th>\n",
              "    </tr>\n",
              "  </thead>\n",
              "  <tbody>\n",
              "    <tr>\n",
              "      <th>0</th>\n",
              "      <td>060310</td>\n",
              "      <td>KOSDAQ</td>\n",
              "      <td>3S</td>\n",
              "      <td>특수 목적용 기계 제조업</td>\n",
              "      <td>반도체 웨이퍼 캐리어</td>\n",
              "      <td>2002-04-23</td>\n",
              "      <td>03월</td>\n",
              "      <td>박종익, 김세완 (각자 대표이사)</td>\n",
              "      <td>http://www.3sref.com</td>\n",
              "      <td>서울특별시</td>\n",
              "    </tr>\n",
              "    <tr>\n",
              "      <th>1</th>\n",
              "      <td>095570</td>\n",
              "      <td>KOSPI</td>\n",
              "      <td>AJ네트웍스</td>\n",
              "      <td>산업용 기계 및 장비 임대업</td>\n",
              "      <td>렌탈(파렛트, OA장비, 건설장비)</td>\n",
              "      <td>2015-08-21</td>\n",
              "      <td>12월</td>\n",
              "      <td>이현우, 박대현</td>\n",
              "      <td>http://www.ajnet.co.kr</td>\n",
              "      <td>서울특별시</td>\n",
              "    </tr>\n",
              "    <tr>\n",
              "      <th>2</th>\n",
              "      <td>006840</td>\n",
              "      <td>KOSPI</td>\n",
              "      <td>AK홀딩스</td>\n",
              "      <td>기타 금융업</td>\n",
              "      <td>지주사업</td>\n",
              "      <td>1999-08-11</td>\n",
              "      <td>12월</td>\n",
              "      <td>채형석, 이석주(각자 대표이사)</td>\n",
              "      <td>http://www.aekyunggroup.co.kr</td>\n",
              "      <td>서울특별시</td>\n",
              "    </tr>\n",
              "    <tr>\n",
              "      <th>3</th>\n",
              "      <td>054620</td>\n",
              "      <td>KOSDAQ</td>\n",
              "      <td>APS홀딩스</td>\n",
              "      <td>기타 금융업</td>\n",
              "      <td>인터넷 트래픽 솔루션</td>\n",
              "      <td>2001-12-04</td>\n",
              "      <td>12월</td>\n",
              "      <td>정기로</td>\n",
              "      <td>http://www.apsholdings.co.kr</td>\n",
              "      <td>경기도</td>\n",
              "    </tr>\n",
              "    <tr>\n",
              "      <th>4</th>\n",
              "      <td>265520</td>\n",
              "      <td>KOSDAQ</td>\n",
              "      <td>AP시스템</td>\n",
              "      <td>특수 목적용 기계 제조업</td>\n",
              "      <td>디스플레이 제조 장비</td>\n",
              "      <td>2017-04-07</td>\n",
              "      <td>12월</td>\n",
              "      <td>김영주</td>\n",
              "      <td>http://www.apsystems.co.kr</td>\n",
              "      <td>경기도</td>\n",
              "    </tr>\n",
              "  </tbody>\n",
              "</table>\n",
              "</div>"
            ],
            "text/plain": [
              "   Symbol  Market  ...                       HomePage Region\n",
              "0  060310  KOSDAQ  ...           http://www.3sref.com  서울특별시\n",
              "1  095570   KOSPI  ...         http://www.ajnet.co.kr  서울특별시\n",
              "2  006840   KOSPI  ...  http://www.aekyunggroup.co.kr  서울특별시\n",
              "3  054620  KOSDAQ  ...   http://www.apsholdings.co.kr    경기도\n",
              "4  265520  KOSDAQ  ...     http://www.apsystems.co.kr    경기도\n",
              "\n",
              "[5 rows x 10 columns]"
            ]
          },
          "metadata": {
            "tags": []
          },
          "execution_count": 3
        }
      ]
    },
    {
      "cell_type": "code",
      "metadata": {
        "id": "cuZyQ1GKyqZa",
        "colab": {
          "base_uri": "https://localhost:8080/",
          "height": 221
        },
        "outputId": "4315eb1d-e9d3-4929-bda0-01422646ae51"
      },
      "source": [
        "df_spx = fdr.StockListing('S&P500')\n",
        "print(len(df_spx))\n",
        "df_spx.head()"
      ],
      "execution_count": 4,
      "outputs": [
        {
          "output_type": "stream",
          "text": [
            "505\n"
          ],
          "name": "stdout"
        },
        {
          "output_type": "execute_result",
          "data": {
            "text/html": [
              "<div>\n",
              "<style scoped>\n",
              "    .dataframe tbody tr th:only-of-type {\n",
              "        vertical-align: middle;\n",
              "    }\n",
              "\n",
              "    .dataframe tbody tr th {\n",
              "        vertical-align: top;\n",
              "    }\n",
              "\n",
              "    .dataframe thead th {\n",
              "        text-align: right;\n",
              "    }\n",
              "</style>\n",
              "<table border=\"1\" class=\"dataframe\">\n",
              "  <thead>\n",
              "    <tr style=\"text-align: right;\">\n",
              "      <th></th>\n",
              "      <th>Symbol</th>\n",
              "      <th>Name</th>\n",
              "      <th>Sector</th>\n",
              "      <th>Industry</th>\n",
              "    </tr>\n",
              "  </thead>\n",
              "  <tbody>\n",
              "    <tr>\n",
              "      <th>0</th>\n",
              "      <td>MMM</td>\n",
              "      <td>3M Company</td>\n",
              "      <td>Industrials</td>\n",
              "      <td>Industrial Conglomerates</td>\n",
              "    </tr>\n",
              "    <tr>\n",
              "      <th>1</th>\n",
              "      <td>ABT</td>\n",
              "      <td>Abbott Laboratories</td>\n",
              "      <td>Health Care</td>\n",
              "      <td>Health Care Equipment</td>\n",
              "    </tr>\n",
              "    <tr>\n",
              "      <th>2</th>\n",
              "      <td>ABBV</td>\n",
              "      <td>AbbVie Inc.</td>\n",
              "      <td>Health Care</td>\n",
              "      <td>Pharmaceuticals</td>\n",
              "    </tr>\n",
              "    <tr>\n",
              "      <th>3</th>\n",
              "      <td>ABMD</td>\n",
              "      <td>Abiomed</td>\n",
              "      <td>Health Care</td>\n",
              "      <td>Health Care Equipment</td>\n",
              "    </tr>\n",
              "    <tr>\n",
              "      <th>4</th>\n",
              "      <td>ACN</td>\n",
              "      <td>Accenture</td>\n",
              "      <td>Information Technology</td>\n",
              "      <td>IT Consulting &amp; Other Services</td>\n",
              "    </tr>\n",
              "  </tbody>\n",
              "</table>\n",
              "</div>"
            ],
            "text/plain": [
              "  Symbol  ...                        Industry\n",
              "0    MMM  ...        Industrial Conglomerates\n",
              "1    ABT  ...           Health Care Equipment\n",
              "2   ABBV  ...                 Pharmaceuticals\n",
              "3   ABMD  ...           Health Care Equipment\n",
              "4    ACN  ...  IT Consulting & Other Services\n",
              "\n",
              "[5 rows x 4 columns]"
            ]
          },
          "metadata": {
            "tags": []
          },
          "execution_count": 4
        }
      ]
    },
    {
      "cell_type": "code",
      "metadata": {
        "id": "t2OaPGf8yzYR",
        "colab": {
          "base_uri": "https://localhost:8080/",
          "height": 390
        },
        "outputId": "a63a2889-f867-4570-8aed-56c6c3e90dd4"
      },
      "source": [
        "df = fdr.DataReader('001250','2018') #GS 글로벌, 2018년\n",
        "df.head(10)\n"
      ],
      "execution_count": 5,
      "outputs": [
        {
          "output_type": "execute_result",
          "data": {
            "text/html": [
              "<div>\n",
              "<style scoped>\n",
              "    .dataframe tbody tr th:only-of-type {\n",
              "        vertical-align: middle;\n",
              "    }\n",
              "\n",
              "    .dataframe tbody tr th {\n",
              "        vertical-align: top;\n",
              "    }\n",
              "\n",
              "    .dataframe thead th {\n",
              "        text-align: right;\n",
              "    }\n",
              "</style>\n",
              "<table border=\"1\" class=\"dataframe\">\n",
              "  <thead>\n",
              "    <tr style=\"text-align: right;\">\n",
              "      <th></th>\n",
              "      <th>Open</th>\n",
              "      <th>High</th>\n",
              "      <th>Low</th>\n",
              "      <th>Close</th>\n",
              "      <th>Volume</th>\n",
              "      <th>Change</th>\n",
              "    </tr>\n",
              "    <tr>\n",
              "      <th>Date</th>\n",
              "      <th></th>\n",
              "      <th></th>\n",
              "      <th></th>\n",
              "      <th></th>\n",
              "      <th></th>\n",
              "      <th></th>\n",
              "    </tr>\n",
              "  </thead>\n",
              "  <tbody>\n",
              "    <tr>\n",
              "      <th>2018-01-02</th>\n",
              "      <td>2795</td>\n",
              "      <td>2860</td>\n",
              "      <td>2795</td>\n",
              "      <td>2850</td>\n",
              "      <td>118224</td>\n",
              "      <td>0.019678</td>\n",
              "    </tr>\n",
              "    <tr>\n",
              "      <th>2018-01-03</th>\n",
              "      <td>2850</td>\n",
              "      <td>2860</td>\n",
              "      <td>2820</td>\n",
              "      <td>2845</td>\n",
              "      <td>152892</td>\n",
              "      <td>-0.001754</td>\n",
              "    </tr>\n",
              "    <tr>\n",
              "      <th>2018-01-04</th>\n",
              "      <td>2845</td>\n",
              "      <td>2860</td>\n",
              "      <td>2815</td>\n",
              "      <td>2820</td>\n",
              "      <td>195786</td>\n",
              "      <td>-0.008787</td>\n",
              "    </tr>\n",
              "    <tr>\n",
              "      <th>2018-01-05</th>\n",
              "      <td>2820</td>\n",
              "      <td>2920</td>\n",
              "      <td>2820</td>\n",
              "      <td>2900</td>\n",
              "      <td>283369</td>\n",
              "      <td>0.028369</td>\n",
              "    </tr>\n",
              "    <tr>\n",
              "      <th>2018-01-08</th>\n",
              "      <td>2900</td>\n",
              "      <td>2940</td>\n",
              "      <td>2870</td>\n",
              "      <td>2900</td>\n",
              "      <td>179173</td>\n",
              "      <td>0.000000</td>\n",
              "    </tr>\n",
              "    <tr>\n",
              "      <th>2018-01-09</th>\n",
              "      <td>2920</td>\n",
              "      <td>2945</td>\n",
              "      <td>2860</td>\n",
              "      <td>2875</td>\n",
              "      <td>209231</td>\n",
              "      <td>-0.008621</td>\n",
              "    </tr>\n",
              "    <tr>\n",
              "      <th>2018-01-10</th>\n",
              "      <td>2850</td>\n",
              "      <td>2970</td>\n",
              "      <td>2850</td>\n",
              "      <td>2955</td>\n",
              "      <td>440681</td>\n",
              "      <td>0.027826</td>\n",
              "    </tr>\n",
              "    <tr>\n",
              "      <th>2018-01-11</th>\n",
              "      <td>2975</td>\n",
              "      <td>2975</td>\n",
              "      <td>2930</td>\n",
              "      <td>2940</td>\n",
              "      <td>200819</td>\n",
              "      <td>-0.005076</td>\n",
              "    </tr>\n",
              "    <tr>\n",
              "      <th>2018-01-12</th>\n",
              "      <td>2930</td>\n",
              "      <td>2955</td>\n",
              "      <td>2890</td>\n",
              "      <td>2910</td>\n",
              "      <td>156725</td>\n",
              "      <td>-0.010204</td>\n",
              "    </tr>\n",
              "    <tr>\n",
              "      <th>2018-01-15</th>\n",
              "      <td>2910</td>\n",
              "      <td>2915</td>\n",
              "      <td>2870</td>\n",
              "      <td>2895</td>\n",
              "      <td>245777</td>\n",
              "      <td>-0.005155</td>\n",
              "    </tr>\n",
              "  </tbody>\n",
              "</table>\n",
              "</div>"
            ],
            "text/plain": [
              "            Open  High   Low  Close  Volume    Change\n",
              "Date                                                 \n",
              "2018-01-02  2795  2860  2795   2850  118224  0.019678\n",
              "2018-01-03  2850  2860  2820   2845  152892 -0.001754\n",
              "2018-01-04  2845  2860  2815   2820  195786 -0.008787\n",
              "2018-01-05  2820  2920  2820   2900  283369  0.028369\n",
              "2018-01-08  2900  2940  2870   2900  179173  0.000000\n",
              "2018-01-09  2920  2945  2860   2875  209231 -0.008621\n",
              "2018-01-10  2850  2970  2850   2955  440681  0.027826\n",
              "2018-01-11  2975  2975  2930   2940  200819 -0.005076\n",
              "2018-01-12  2930  2955  2890   2910  156725 -0.010204\n",
              "2018-01-15  2910  2915  2870   2895  245777 -0.005155"
            ]
          },
          "metadata": {
            "tags": []
          },
          "execution_count": 5
        }
      ]
    },
    {
      "cell_type": "code",
      "metadata": {
        "id": "zXSvJLbizHew",
        "colab": {
          "base_uri": "https://localhost:8080/",
          "height": 294
        },
        "outputId": "1d8a5f33-259f-4494-c38c-d015a27b0286"
      },
      "source": [
        "df['Close'].plot()"
      ],
      "execution_count": 6,
      "outputs": [
        {
          "output_type": "execute_result",
          "data": {
            "text/plain": [
              "<matplotlib.axes._subplots.AxesSubplot at 0x7ff17e528090>"
            ]
          },
          "metadata": {
            "tags": []
          },
          "execution_count": 6
        },
        {
          "output_type": "display_data",
          "data": {
            "image/png": "[encoded data removed]",
            "text/plain": [
              "<Figure size 432x288 with 1 Axes>"
            ]
          },
          "metadata": {
            "tags": [],
            "needs_background": "light"
          }
        }
      ]
    },
    {
      "cell_type": "code",
      "metadata": {
        "id": "wZc6McBgzSfx",
        "colab": {
          "base_uri": "https://localhost:8080/",
          "height": 390
        },
        "outputId": "bd055cce-aa0d-4437-a6ca-eba84664ca0e"
      },
      "source": [
        "appl = fdr.DataReader('AAPL', '2017') # apple, 2017년\n",
        "appl.head(10)"
      ],
      "execution_count": 7,
      "outputs": [
        {
          "output_type": "execute_result",
          "data": {
            "text/html": [
              "<div>\n",
              "<style scoped>\n",
              "    .dataframe tbody tr th:only-of-type {\n",
              "        vertical-align: middle;\n",
              "    }\n",
              "\n",
              "    .dataframe tbody tr th {\n",
              "        vertical-align: top;\n",
              "    }\n",
              "\n",
              "    .dataframe thead th {\n",
              "        text-align: right;\n",
              "    }\n",
              "</style>\n",
              "<table border=\"1\" class=\"dataframe\">\n",
              "  <thead>\n",
              "    <tr style=\"text-align: right;\">\n",
              "      <th></th>\n",
              "      <th>Close</th>\n",
              "      <th>Open</th>\n",
              "      <th>High</th>\n",
              "      <th>Low</th>\n",
              "      <th>Volume</th>\n",
              "      <th>Change</th>\n",
              "    </tr>\n",
              "    <tr>\n",
              "      <th>Date</th>\n",
              "      <th></th>\n",
              "      <th></th>\n",
              "      <th></th>\n",
              "      <th></th>\n",
              "      <th></th>\n",
              "      <th></th>\n",
              "    </tr>\n",
              "  </thead>\n",
              "  <tbody>\n",
              "    <tr>\n",
              "      <th>2017-01-03</th>\n",
              "      <td>29.04</td>\n",
              "      <td>28.95</td>\n",
              "      <td>29.08</td>\n",
              "      <td>28.69</td>\n",
              "      <td>115130000.0</td>\n",
              "      <td>0.0031</td>\n",
              "    </tr>\n",
              "    <tr>\n",
              "      <th>2017-01-04</th>\n",
              "      <td>29.00</td>\n",
              "      <td>28.96</td>\n",
              "      <td>29.13</td>\n",
              "      <td>28.94</td>\n",
              "      <td>84470000.0</td>\n",
              "      <td>-0.0014</td>\n",
              "    </tr>\n",
              "    <tr>\n",
              "      <th>2017-01-05</th>\n",
              "      <td>29.15</td>\n",
              "      <td>28.98</td>\n",
              "      <td>29.22</td>\n",
              "      <td>28.95</td>\n",
              "      <td>88770000.0</td>\n",
              "      <td>0.0052</td>\n",
              "    </tr>\n",
              "    <tr>\n",
              "      <th>2017-01-06</th>\n",
              "      <td>29.48</td>\n",
              "      <td>29.20</td>\n",
              "      <td>29.54</td>\n",
              "      <td>29.12</td>\n",
              "      <td>127010000.0</td>\n",
              "      <td>0.0113</td>\n",
              "    </tr>\n",
              "    <tr>\n",
              "      <th>2017-01-09</th>\n",
              "      <td>29.75</td>\n",
              "      <td>29.49</td>\n",
              "      <td>29.86</td>\n",
              "      <td>29.48</td>\n",
              "      <td>134250000.0</td>\n",
              "      <td>0.0092</td>\n",
              "    </tr>\n",
              "    <tr>\n",
              "      <th>2017-01-10</th>\n",
              "      <td>29.78</td>\n",
              "      <td>29.69</td>\n",
              "      <td>29.84</td>\n",
              "      <td>29.57</td>\n",
              "      <td>97850000.0</td>\n",
              "      <td>0.0010</td>\n",
              "    </tr>\n",
              "    <tr>\n",
              "      <th>2017-01-11</th>\n",
              "      <td>29.94</td>\n",
              "      <td>29.68</td>\n",
              "      <td>29.98</td>\n",
              "      <td>29.65</td>\n",
              "      <td>110350000.0</td>\n",
              "      <td>0.0054</td>\n",
              "    </tr>\n",
              "    <tr>\n",
              "      <th>2017-01-12</th>\n",
              "      <td>29.81</td>\n",
              "      <td>29.72</td>\n",
              "      <td>29.82</td>\n",
              "      <td>29.55</td>\n",
              "      <td>108340000.0</td>\n",
              "      <td>-0.0043</td>\n",
              "    </tr>\n",
              "    <tr>\n",
              "      <th>2017-01-13</th>\n",
              "      <td>29.76</td>\n",
              "      <td>29.78</td>\n",
              "      <td>29.91</td>\n",
              "      <td>29.70</td>\n",
              "      <td>104450000.0</td>\n",
              "      <td>-0.0017</td>\n",
              "    </tr>\n",
              "    <tr>\n",
              "      <th>2017-01-17</th>\n",
              "      <td>30.00</td>\n",
              "      <td>29.59</td>\n",
              "      <td>30.06</td>\n",
              "      <td>29.55</td>\n",
              "      <td>137760000.0</td>\n",
              "      <td>0.0081</td>\n",
              "    </tr>\n",
              "  </tbody>\n",
              "</table>\n",
              "</div>"
            ],
            "text/plain": [
              "            Close   Open   High    Low       Volume  Change\n",
              "Date                                                       \n",
              "2017-01-03  29.04  28.95  29.08  28.69  115130000.0  0.0031\n",
              "2017-01-04  29.00  28.96  29.13  28.94   84470000.0 -0.0014\n",
              "2017-01-05  29.15  28.98  29.22  28.95   88770000.0  0.0052\n",
              "2017-01-06  29.48  29.20  29.54  29.12  127010000.0  0.0113\n",
              "2017-01-09  29.75  29.49  29.86  29.48  134250000.0  0.0092\n",
              "2017-01-10  29.78  29.69  29.84  29.57   97850000.0  0.0010\n",
              "2017-01-11  29.94  29.68  29.98  29.65  110350000.0  0.0054\n",
              "2017-01-12  29.81  29.72  29.82  29.55  108340000.0 -0.0043\n",
              "2017-01-13  29.76  29.78  29.91  29.70  104450000.0 -0.0017\n",
              "2017-01-17  30.00  29.59  30.06  29.55  137760000.0  0.0081"
            ]
          },
          "metadata": {
            "tags": []
          },
          "execution_count": 7
        }
      ]
    },
    {
      "cell_type": "code",
      "metadata": {
        "id": "pXQ_JF73zywO",
        "colab": {
          "base_uri": "https://localhost:8080/",
          "height": 294
        },
        "outputId": "8898be3a-3a43-4031-ee61-81a7ec1168af"
      },
      "source": [
        "appl['Close'].plot()"
      ],
      "execution_count": 8,
      "outputs": [
        {
          "output_type": "execute_result",
          "data": {
            "text/plain": [
              "<matplotlib.axes._subplots.AxesSubplot at 0x7ff17e3f3310>"
            ]
          },
          "metadata": {
            "tags": []
          },
          "execution_count": 8
        },
        {
          "output_type": "display_data",
          "data": {
            "image/png": "[encoded data removed]",
            "text/plain": [
              "<Figure size 432x288 with 1 Axes>"
            ]
          },
          "metadata": {
            "tags": [],
            "needs_background": "light"
          }
        }
      ]
    },
    {
      "cell_type": "code",
      "metadata": {
        "id": "R96AIT8uz4lo",
        "colab": {
          "base_uri": "https://localhost:8080/"
        },
        "outputId": "a0418b86-002a-4017-e919-83566771f0df"
      },
      "source": [
        "# Apple(AAPL), 2017-01-01 ~ Now\n",
        "appl = fdr.DataReader('AAPL', '2017')\n",
        "appl.head(), appl.tail()"
      ],
      "execution_count": 9,
      "outputs": [
        {
          "output_type": "execute_result",
          "data": {
            "text/plain": [
              "(            Close   Open   High    Low       Volume  Change\n",
              " Date                                                       \n",
              " 2017-01-03  29.04  28.95  29.08  28.69  115130000.0  0.0031\n",
              " 2017-01-04  29.00  28.96  29.13  28.94   84470000.0 -0.0014\n",
              " 2017-01-05  29.15  28.98  29.22  28.95   88770000.0  0.0052\n",
              " 2017-01-06  29.48  29.20  29.54  29.12  127010000.0  0.0113\n",
              " 2017-01-09  29.75  29.49  29.86  29.48  134250000.0  0.0092,\n",
              "              Close    Open    High     Low       Volume  Change\n",
              " Date                                                           \n",
              " 2021-04-07  127.90  125.83  127.90  125.17   83470000.0  0.0134\n",
              " 2021-04-08  130.36  128.95  130.39  128.52   88850000.0  0.0192\n",
              " 2021-04-09  133.00  129.80  133.04  129.47  106690000.0  0.0203\n",
              " 2021-04-12  131.24  132.44  132.78  130.64   91420000.0 -0.0132\n",
              " 2021-04-13  134.43  132.31  134.63  132.00   91270000.0  0.0243)"
            ]
          },
          "metadata": {
            "tags": []
          },
          "execution_count": 9
        }
      ]
    },
    {
      "cell_type": "code",
      "metadata": {
        "id": "GN1Z0ch-6MA_",
        "colab": {
          "base_uri": "https://localhost:8080/",
          "height": 235
        },
        "outputId": "9b537e07-9dfe-4877-93fb-44954f611932"
      },
      "source": [
        "\n",
        "# Ford(F), 1980-01-01 ~ 2019-12-30 (40년 데이터)\n",
        "f = fdr.DataReader('F', '1980-01-01', '2019-12-30')\n",
        "f.head()"
      ],
      "execution_count": 10,
      "outputs": [
        {
          "output_type": "execute_result",
          "data": {
            "text/html": [
              "<div>\n",
              "<style scoped>\n",
              "    .dataframe tbody tr th:only-of-type {\n",
              "        vertical-align: middle;\n",
              "    }\n",
              "\n",
              "    .dataframe tbody tr th {\n",
              "        vertical-align: top;\n",
              "    }\n",
              "\n",
              "    .dataframe thead th {\n",
              "        text-align: right;\n",
              "    }\n",
              "</style>\n",
              "<table border=\"1\" class=\"dataframe\">\n",
              "  <thead>\n",
              "    <tr style=\"text-align: right;\">\n",
              "      <th></th>\n",
              "      <th>Close</th>\n",
              "      <th>Open</th>\n",
              "      <th>High</th>\n",
              "      <th>Low</th>\n",
              "      <th>Volume</th>\n",
              "      <th>Change</th>\n",
              "    </tr>\n",
              "    <tr>\n",
              "      <th>Date</th>\n",
              "      <th></th>\n",
              "      <th></th>\n",
              "      <th></th>\n",
              "      <th></th>\n",
              "      <th></th>\n",
              "      <th></th>\n",
              "    </tr>\n",
              "  </thead>\n",
              "  <tbody>\n",
              "    <tr>\n",
              "      <th>1980-03-18</th>\n",
              "      <td>1.85</td>\n",
              "      <td>1.85</td>\n",
              "      <td>1.88</td>\n",
              "      <td>1.84</td>\n",
              "      <td>3770000.0</td>\n",
              "      <td>-0.0160</td>\n",
              "    </tr>\n",
              "    <tr>\n",
              "      <th>1980-03-19</th>\n",
              "      <td>1.87</td>\n",
              "      <td>1.87</td>\n",
              "      <td>1.88</td>\n",
              "      <td>1.85</td>\n",
              "      <td>1560000.0</td>\n",
              "      <td>0.0108</td>\n",
              "    </tr>\n",
              "    <tr>\n",
              "      <th>1980-03-20</th>\n",
              "      <td>1.88</td>\n",
              "      <td>1.88</td>\n",
              "      <td>1.90</td>\n",
              "      <td>1.87</td>\n",
              "      <td>1450000.0</td>\n",
              "      <td>0.0053</td>\n",
              "    </tr>\n",
              "    <tr>\n",
              "      <th>1980-03-21</th>\n",
              "      <td>1.80</td>\n",
              "      <td>1.80</td>\n",
              "      <td>1.87</td>\n",
              "      <td>1.78</td>\n",
              "      <td>5020000.0</td>\n",
              "      <td>-0.0426</td>\n",
              "    </tr>\n",
              "    <tr>\n",
              "      <th>1980-03-24</th>\n",
              "      <td>1.73</td>\n",
              "      <td>1.73</td>\n",
              "      <td>1.77</td>\n",
              "      <td>1.68</td>\n",
              "      <td>3330000.0</td>\n",
              "      <td>-0.0389</td>\n",
              "    </tr>\n",
              "  </tbody>\n",
              "</table>\n",
              "</div>"
            ],
            "text/plain": [
              "            Close  Open  High   Low     Volume  Change\n",
              "Date                                                  \n",
              "1980-03-18   1.85  1.85  1.88  1.84  3770000.0 -0.0160\n",
              "1980-03-19   1.87  1.87  1.88  1.85  1560000.0  0.0108\n",
              "1980-03-20   1.88  1.88  1.90  1.87  1450000.0  0.0053\n",
              "1980-03-21   1.80  1.80  1.87  1.78  5020000.0 -0.0426\n",
              "1980-03-24   1.73  1.73  1.77  1.68  3330000.0 -0.0389"
            ]
          },
          "metadata": {
            "tags": []
          },
          "execution_count": 10
        }
      ]
    },
    {
      "cell_type": "code",
      "metadata": {
        "id": "Ge8-X1Ey6OSd",
        "colab": {
          "base_uri": "https://localhost:8080/"
        },
        "outputId": "0a5b493b-3e2c-488d-ac5d-1d45be57207d"
      },
      "source": [
        "\n",
        "# AMAZON(AMZN), 2017\n",
        "amzn = fdr.DataReader('AMZN', '2017-01-01', '2019-12-31')\n",
        "\n",
        "# Samsung(005930), 1992-01-01 ~ 2018-10-31\n",
        "samsung = fdr.DataReader('068270', '1992-01-01', '2019-10-31')\n",
        "\n",
        "# country code: ex) 000150: Doosan(KR), Yihua Healthcare(CN)\n",
        "df1 = fdr.DataReader('000150', '2018-01-01', '2019-10-30') # KRX\n",
        "df2 = fdr.DataReader('000150', '2018-01-01', '2019-10-30', exchange='KRX') # KRX\n",
        "df3 = fdr.DataReader('000150', '2018-01-01', '2019-10-30', exchange='SZSE') # SZSE\n",
        "df4 = fdr.DataReader('000150', '2018-01-01', '2019-10-30', exchange='심천') # SZSE\n",
        "\n",
        "df1.head(), df2.head(), df3.head(), df4.head()\n"
      ],
      "execution_count": 11,
      "outputs": [
        {
          "output_type": "execute_result",
          "data": {
            "text/plain": [
              "(             Open   High    Low  Close  Volume    Change\n",
              " Date                                                    \n",
              " 2018-01-02  90195  90589  88620  89408   61421  0.004426\n",
              " 2018-01-03  89014  91377  89014  90590   44593  0.013220\n",
              " 2018-01-04  90983  94528  90195  93741   63435  0.034783\n",
              " 2018-01-05  93346  94528  91771  92559   38898 -0.012609\n",
              " 2018-01-08  93346  93346  89014  90590   98178 -0.021273,\n",
              "              Open   High    Low  Close  Volume    Change\n",
              " Date                                                    \n",
              " 2018-01-02  90195  90589  88620  89408   61421  0.004426\n",
              " 2018-01-03  89014  91377  89014  90590   44593  0.013220\n",
              " 2018-01-04  90983  94528  90195  93741   63435  0.034783\n",
              " 2018-01-05  93346  94528  91771  92559   38898 -0.012609\n",
              " 2018-01-08  93346  93346  89014  90590   98178 -0.021273,\n",
              "             Close   Open   High    Low     Volume  Change\n",
              " Date                                                     \n",
              " 2018-01-02  15.47  15.61  15.67  15.21  2510000.0 -0.0083\n",
              " 2018-01-03  15.46  15.44  15.56  15.27  1910000.0 -0.0006\n",
              " 2018-01-04  15.49  15.46  15.61  15.36  1100000.0  0.0019\n",
              " 2018-01-05  15.26  15.36  15.49  15.21  2030000.0 -0.0148\n",
              " 2018-01-08  15.26  15.31  15.31  15.20  1160000.0  0.0000,\n",
              "             Close   Open   High    Low     Volume  Change\n",
              " Date                                                     \n",
              " 2018-01-02  15.47  15.61  15.67  15.21  2510000.0 -0.0083\n",
              " 2018-01-03  15.46  15.44  15.56  15.27  1910000.0 -0.0006\n",
              " 2018-01-04  15.49  15.46  15.61  15.36  1100000.0  0.0019\n",
              " 2018-01-05  15.26  15.36  15.49  15.21  2030000.0 -0.0148\n",
              " 2018-01-08  15.26  15.31  15.31  15.20  1160000.0  0.0000)"
            ]
          },
          "metadata": {
            "tags": []
          },
          "execution_count": 11
        }
      ]
    },
    {
      "cell_type": "code",
      "metadata": {
        "id": "wKsWV_Gz7rcE",
        "colab": {
          "base_uri": "https://localhost:8080/"
        },
        "outputId": "89b8ea79-3645-4e48-fc18-0f076dcd95b7"
      },
      "source": [
        "\n",
        "# KRX delisting stock data 상장폐지 종목 데이터 (상장일~상장폐지일)\n",
        "df = fdr.DataReader('036360', exchange='krx-delisting')\n",
        "df.head()\n",
        "df['Date'].describe()"
      ],
      "execution_count": 13,
      "outputs": [
        {
          "output_type": "stream",
          "text": [
            "/usr/local/lib/python3.7/dist-packages/ipykernel_launcher.py:5: FutureWarning: Treating datetime data as categorical rather than numeric in `.describe` is deprecated and will be removed in a future version of pandas. Specify `datetime_is_numeric=True` to silence this warning and adopt the future behavior now.\n",
            "  \"\"\"\n"
          ],
          "name": "stderr"
        },
        {
          "output_type": "execute_result",
          "data": {
            "text/plain": [
              "count                    2045\n",
              "unique                   2045\n",
              "top       2001-07-04 00:00:00\n",
              "freq                        1\n",
              "first     2001-01-18 00:00:00\n",
              "last      2009-04-28 00:00:00\n",
              "Name: Date, dtype: object"
            ]
          },
          "metadata": {
            "tags": []
          },
          "execution_count": 13
        }
      ]
    },
    {
      "cell_type": "code",
      "metadata": {
        "id": "wu3MfcwM8jDK",
        "colab": {
          "base_uri": "https://localhost:8080/",
          "height": 235
        },
        "outputId": "d065f8c1-a201-49dc-ef4b-7e63048bbc5a"
      },
      "source": [
        "\n",
        "# KOSPI index, 2015 ~ Now\n",
        "ks11 = fdr.DataReader('KS11', '2015-01-01')\n",
        "ks11.head()"
      ],
      "execution_count": 15,
      "outputs": [
        {
          "output_type": "execute_result",
          "data": {
            "text/html": [
              "<div>\n",
              "<style scoped>\n",
              "    .dataframe tbody tr th:only-of-type {\n",
              "        vertical-align: middle;\n",
              "    }\n",
              "\n",
              "    .dataframe tbody tr th {\n",
              "        vertical-align: top;\n",
              "    }\n",
              "\n",
              "    .dataframe thead th {\n",
              "        text-align: right;\n",
              "    }\n",
              "</style>\n",
              "<table border=\"1\" class=\"dataframe\">\n",
              "  <thead>\n",
              "    <tr style=\"text-align: right;\">\n",
              "      <th></th>\n",
              "      <th>Close</th>\n",
              "      <th>Open</th>\n",
              "      <th>High</th>\n",
              "      <th>Low</th>\n",
              "      <th>Volume</th>\n",
              "      <th>Change</th>\n",
              "    </tr>\n",
              "    <tr>\n",
              "      <th>Date</th>\n",
              "      <th></th>\n",
              "      <th></th>\n",
              "      <th></th>\n",
              "      <th></th>\n",
              "      <th></th>\n",
              "      <th></th>\n",
              "    </tr>\n",
              "  </thead>\n",
              "  <tbody>\n",
              "    <tr>\n",
              "      <th>2015-01-02</th>\n",
              "      <td>1926.44</td>\n",
              "      <td>1914.24</td>\n",
              "      <td>1929.15</td>\n",
              "      <td>1909.67</td>\n",
              "      <td>258780000.0</td>\n",
              "      <td>0.0057</td>\n",
              "    </tr>\n",
              "    <tr>\n",
              "      <th>2015-01-05</th>\n",
              "      <td>1915.75</td>\n",
              "      <td>1921.96</td>\n",
              "      <td>1921.96</td>\n",
              "      <td>1903.37</td>\n",
              "      <td>313440000.0</td>\n",
              "      <td>-0.0055</td>\n",
              "    </tr>\n",
              "    <tr>\n",
              "      <th>2015-01-06</th>\n",
              "      <td>1882.45</td>\n",
              "      <td>1895.48</td>\n",
              "      <td>1900.02</td>\n",
              "      <td>1877.38</td>\n",
              "      <td>303690000.0</td>\n",
              "      <td>-0.0174</td>\n",
              "    </tr>\n",
              "    <tr>\n",
              "      <th>2015-01-07</th>\n",
              "      <td>1883.83</td>\n",
              "      <td>1878.90</td>\n",
              "      <td>1887.60</td>\n",
              "      <td>1876.27</td>\n",
              "      <td>280510000.0</td>\n",
              "      <td>0.0007</td>\n",
              "    </tr>\n",
              "    <tr>\n",
              "      <th>2015-01-08</th>\n",
              "      <td>1904.65</td>\n",
              "      <td>1895.85</td>\n",
              "      <td>1907.23</td>\n",
              "      <td>1891.77</td>\n",
              "      <td>262210000.0</td>\n",
              "      <td>0.0111</td>\n",
              "    </tr>\n",
              "  </tbody>\n",
              "</table>\n",
              "</div>"
            ],
            "text/plain": [
              "              Close     Open     High      Low       Volume  Change\n",
              "Date                                                               \n",
              "2015-01-02  1926.44  1914.24  1929.15  1909.67  258780000.0  0.0057\n",
              "2015-01-05  1915.75  1921.96  1921.96  1903.37  313440000.0 -0.0055\n",
              "2015-01-06  1882.45  1895.48  1900.02  1877.38  303690000.0 -0.0174\n",
              "2015-01-07  1883.83  1878.90  1887.60  1876.27  280510000.0  0.0007\n",
              "2015-01-08  1904.65  1895.85  1907.23  1891.77  262210000.0  0.0111"
            ]
          },
          "metadata": {
            "tags": []
          },
          "execution_count": 15
        }
      ]
    },
    {
      "cell_type": "code",
      "metadata": {
        "id": "P5flgESA9LXJ",
        "colab": {
          "base_uri": "https://localhost:8080/",
          "height": 235
        },
        "outputId": "e82ff9a6-7663-49a4-d9f8-cdea6f8a7fdb"
      },
      "source": [
        "\n",
        "# Dow Jones Industrial(DJI), 2015 ~ Now\n",
        "dji = fdr.DataReader('DJI', '2015-01-01')\n",
        "dji.head()"
      ],
      "execution_count": 16,
      "outputs": [
        {
          "output_type": "execute_result",
          "data": {
            "text/html": [
              "<div>\n",
              "<style scoped>\n",
              "    .dataframe tbody tr th:only-of-type {\n",
              "        vertical-align: middle;\n",
              "    }\n",
              "\n",
              "    .dataframe tbody tr th {\n",
              "        vertical-align: top;\n",
              "    }\n",
              "\n",
              "    .dataframe thead th {\n",
              "        text-align: right;\n",
              "    }\n",
              "</style>\n",
              "<table border=\"1\" class=\"dataframe\">\n",
              "  <thead>\n",
              "    <tr style=\"text-align: right;\">\n",
              "      <th></th>\n",
              "      <th>Close</th>\n",
              "      <th>Open</th>\n",
              "      <th>High</th>\n",
              "      <th>Low</th>\n",
              "      <th>Volume</th>\n",
              "      <th>Change</th>\n",
              "    </tr>\n",
              "    <tr>\n",
              "      <th>Date</th>\n",
              "      <th></th>\n",
              "      <th></th>\n",
              "      <th></th>\n",
              "      <th></th>\n",
              "      <th></th>\n",
              "      <th></th>\n",
              "    </tr>\n",
              "  </thead>\n",
              "  <tbody>\n",
              "    <tr>\n",
              "      <th>2015-01-02</th>\n",
              "      <td>17832.99</td>\n",
              "      <td>17823.07</td>\n",
              "      <td>17951.78</td>\n",
              "      <td>17731.30</td>\n",
              "      <td>76270000.0</td>\n",
              "      <td>0.0006</td>\n",
              "    </tr>\n",
              "    <tr>\n",
              "      <th>2015-01-05</th>\n",
              "      <td>17501.65</td>\n",
              "      <td>17821.30</td>\n",
              "      <td>17821.30</td>\n",
              "      <td>17475.93</td>\n",
              "      <td>116160000.0</td>\n",
              "      <td>-0.0186</td>\n",
              "    </tr>\n",
              "    <tr>\n",
              "      <th>2015-01-06</th>\n",
              "      <td>17371.64</td>\n",
              "      <td>17504.18</td>\n",
              "      <td>17581.05</td>\n",
              "      <td>17262.37</td>\n",
              "      <td>101870000.0</td>\n",
              "      <td>-0.0074</td>\n",
              "    </tr>\n",
              "    <tr>\n",
              "      <th>2015-01-07</th>\n",
              "      <td>17584.52</td>\n",
              "      <td>17374.78</td>\n",
              "      <td>17597.08</td>\n",
              "      <td>17374.78</td>\n",
              "      <td>91030000.0</td>\n",
              "      <td>0.0123</td>\n",
              "    </tr>\n",
              "    <tr>\n",
              "      <th>2015-01-08</th>\n",
              "      <td>17907.87</td>\n",
              "      <td>17591.97</td>\n",
              "      <td>17916.04</td>\n",
              "      <td>17591.97</td>\n",
              "      <td>114890000.0</td>\n",
              "      <td>0.0184</td>\n",
              "    </tr>\n",
              "  </tbody>\n",
              "</table>\n",
              "</div>"
            ],
            "text/plain": [
              "               Close      Open      High       Low       Volume  Change\n",
              "Date                                                                   \n",
              "2015-01-02  17832.99  17823.07  17951.78  17731.30   76270000.0  0.0006\n",
              "2015-01-05  17501.65  17821.30  17821.30  17475.93  116160000.0 -0.0186\n",
              "2015-01-06  17371.64  17504.18  17581.05  17262.37  101870000.0 -0.0074\n",
              "2015-01-07  17584.52  17374.78  17597.08  17374.78   91030000.0  0.0123\n",
              "2015-01-08  17907.87  17591.97  17916.04  17591.97  114890000.0  0.0184"
            ]
          },
          "metadata": {
            "tags": []
          },
          "execution_count": 16
        }
      ]
    },
    {
      "cell_type": "code",
      "metadata": {
        "id": "2CH-rY0Z9RCI",
        "colab": {
          "base_uri": "https://localhost:8080/",
          "height": 235
        },
        "outputId": "04f22062-4ae5-42a4-fec2-aedbe3ae7274"
      },
      "source": [
        "\n",
        "# USD/KRW, 1995~Now\n",
        "usdkrw = fdr.DataReader('USD/KRW', '1995-01-01')\n",
        "usdkrw.head()"
      ],
      "execution_count": 17,
      "outputs": [
        {
          "output_type": "execute_result",
          "data": {
            "text/html": [
              "<div>\n",
              "<style scoped>\n",
              "    .dataframe tbody tr th:only-of-type {\n",
              "        vertical-align: middle;\n",
              "    }\n",
              "\n",
              "    .dataframe tbody tr th {\n",
              "        vertical-align: top;\n",
              "    }\n",
              "\n",
              "    .dataframe thead th {\n",
              "        text-align: right;\n",
              "    }\n",
              "</style>\n",
              "<table border=\"1\" class=\"dataframe\">\n",
              "  <thead>\n",
              "    <tr style=\"text-align: right;\">\n",
              "      <th></th>\n",
              "      <th>Close</th>\n",
              "      <th>Open</th>\n",
              "      <th>High</th>\n",
              "      <th>Low</th>\n",
              "      <th>Change</th>\n",
              "    </tr>\n",
              "    <tr>\n",
              "      <th>Date</th>\n",
              "      <th></th>\n",
              "      <th></th>\n",
              "      <th></th>\n",
              "      <th></th>\n",
              "      <th></th>\n",
              "    </tr>\n",
              "  </thead>\n",
              "  <tbody>\n",
              "    <tr>\n",
              "      <th>1995-01-02</th>\n",
              "      <td>788.50</td>\n",
              "      <td>788.50</td>\n",
              "      <td>788.50</td>\n",
              "      <td>788.50</td>\n",
              "      <td>0.0000</td>\n",
              "    </tr>\n",
              "    <tr>\n",
              "      <th>1995-01-03</th>\n",
              "      <td>788.65</td>\n",
              "      <td>788.05</td>\n",
              "      <td>788.85</td>\n",
              "      <td>787.55</td>\n",
              "      <td>0.0002</td>\n",
              "    </tr>\n",
              "    <tr>\n",
              "      <th>1995-01-04</th>\n",
              "      <td>789.95</td>\n",
              "      <td>788.65</td>\n",
              "      <td>790.05</td>\n",
              "      <td>788.45</td>\n",
              "      <td>0.0016</td>\n",
              "    </tr>\n",
              "    <tr>\n",
              "      <th>1995-01-05</th>\n",
              "      <td>789.90</td>\n",
              "      <td>789.80</td>\n",
              "      <td>790.20</td>\n",
              "      <td>789.30</td>\n",
              "      <td>-0.0001</td>\n",
              "    </tr>\n",
              "    <tr>\n",
              "      <th>1995-01-06</th>\n",
              "      <td>791.55</td>\n",
              "      <td>789.75</td>\n",
              "      <td>791.65</td>\n",
              "      <td>789.65</td>\n",
              "      <td>0.0021</td>\n",
              "    </tr>\n",
              "  </tbody>\n",
              "</table>\n",
              "</div>"
            ],
            "text/plain": [
              "             Close    Open    High     Low  Change\n",
              "Date                                              \n",
              "1995-01-02  788.50  788.50  788.50  788.50  0.0000\n",
              "1995-01-03  788.65  788.05  788.85  787.55  0.0002\n",
              "1995-01-04  789.95  788.65  790.05  788.45  0.0016\n",
              "1995-01-05  789.90  789.80  790.20  789.30 -0.0001\n",
              "1995-01-06  791.55  789.75  791.65  789.65  0.0021"
            ]
          },
          "metadata": {
            "tags": []
          },
          "execution_count": 17
        }
      ]
    },
    {
      "cell_type": "code",
      "metadata": {
        "id": "-Ep8hcK99XGN",
        "colab": {
          "base_uri": "https://localhost:8080/",
          "height": 235
        },
        "outputId": "1e57d717-4de7-43a9-bec3-56527ae70d33"
      },
      "source": [
        "\n",
        "# Bitcoin KRW price (Bithumbs), 2016 ~ Now\n",
        "btc = fdr.DataReader('BTC/KRW', '2016-01-01')\n",
        "btc.head()"
      ],
      "execution_count": 18,
      "outputs": [
        {
          "output_type": "execute_result",
          "data": {
            "text/html": [
              "<div>\n",
              "<style scoped>\n",
              "    .dataframe tbody tr th:only-of-type {\n",
              "        vertical-align: middle;\n",
              "    }\n",
              "\n",
              "    .dataframe tbody tr th {\n",
              "        vertical-align: top;\n",
              "    }\n",
              "\n",
              "    .dataframe thead th {\n",
              "        text-align: right;\n",
              "    }\n",
              "</style>\n",
              "<table border=\"1\" class=\"dataframe\">\n",
              "  <thead>\n",
              "    <tr style=\"text-align: right;\">\n",
              "      <th></th>\n",
              "      <th>Close</th>\n",
              "      <th>Open</th>\n",
              "      <th>High</th>\n",
              "      <th>Low</th>\n",
              "      <th>Volume</th>\n",
              "      <th>Change</th>\n",
              "    </tr>\n",
              "    <tr>\n",
              "      <th>Date</th>\n",
              "      <th></th>\n",
              "      <th></th>\n",
              "      <th></th>\n",
              "      <th></th>\n",
              "      <th></th>\n",
              "      <th></th>\n",
              "    </tr>\n",
              "  </thead>\n",
              "  <tbody>\n",
              "    <tr>\n",
              "      <th>2017-05-23</th>\n",
              "      <td>3206000</td>\n",
              "      <td>3104000</td>\n",
              "      <td>3281000</td>\n",
              "      <td>3081000</td>\n",
              "      <td>21580.0</td>\n",
              "      <td>0.0329</td>\n",
              "    </tr>\n",
              "    <tr>\n",
              "      <th>2017-05-24</th>\n",
              "      <td>4175000</td>\n",
              "      <td>3206000</td>\n",
              "      <td>4314000</td>\n",
              "      <td>3206000</td>\n",
              "      <td>34680.0</td>\n",
              "      <td>0.3022</td>\n",
              "    </tr>\n",
              "    <tr>\n",
              "      <th>2017-05-25</th>\n",
              "      <td>4199000</td>\n",
              "      <td>4175000</td>\n",
              "      <td>4840000</td>\n",
              "      <td>3102000</td>\n",
              "      <td>35910.0</td>\n",
              "      <td>0.0057</td>\n",
              "    </tr>\n",
              "    <tr>\n",
              "      <th>2017-05-26</th>\n",
              "      <td>3227000</td>\n",
              "      <td>4199000</td>\n",
              "      <td>4200000</td>\n",
              "      <td>2900000</td>\n",
              "      <td>36650.0</td>\n",
              "      <td>-0.2315</td>\n",
              "    </tr>\n",
              "    <tr>\n",
              "      <th>2017-05-27</th>\n",
              "      <td>3152000</td>\n",
              "      <td>3227000</td>\n",
              "      <td>3288000</td>\n",
              "      <td>2460000</td>\n",
              "      <td>33750.0</td>\n",
              "      <td>-0.0232</td>\n",
              "    </tr>\n",
              "  </tbody>\n",
              "</table>\n",
              "</div>"
            ],
            "text/plain": [
              "              Close     Open     High      Low   Volume  Change\n",
              "Date                                                           \n",
              "2017-05-23  3206000  3104000  3281000  3081000  21580.0  0.0329\n",
              "2017-05-24  4175000  3206000  4314000  3206000  34680.0  0.3022\n",
              "2017-05-25  4199000  4175000  4840000  3102000  35910.0  0.0057\n",
              "2017-05-26  3227000  4199000  4200000  2900000  36650.0 -0.2315\n",
              "2017-05-27  3152000  3227000  3288000  2460000  33750.0 -0.0232"
            ]
          },
          "metadata": {
            "tags": []
          },
          "execution_count": 18
        }
      ]
    },
    {
      "cell_type": "code",
      "metadata": {
        "id": "HmSulatn9Z4h",
        "colab": {
          "base_uri": "https://localhost:8080/",
          "height": 204
        },
        "outputId": "d02137c6-9fac-4604-dcda-7e312a00ab2a"
      },
      "source": [
        "\n",
        "# KRX stock symbol list and names\n",
        "krx = fdr.StockListing('KRX')\n",
        "krx.head()"
      ],
      "execution_count": 19,
      "outputs": [
        {
          "output_type": "execute_result",
          "data": {
            "text/html": [
              "<div>\n",
              "<style scoped>\n",
              "    .dataframe tbody tr th:only-of-type {\n",
              "        vertical-align: middle;\n",
              "    }\n",
              "\n",
              "    .dataframe tbody tr th {\n",
              "        vertical-align: top;\n",
              "    }\n",
              "\n",
              "    .dataframe thead th {\n",
              "        text-align: right;\n",
              "    }\n",
              "</style>\n",
              "<table border=\"1\" class=\"dataframe\">\n",
              "  <thead>\n",
              "    <tr style=\"text-align: right;\">\n",
              "      <th></th>\n",
              "      <th>Symbol</th>\n",
              "      <th>Market</th>\n",
              "      <th>Name</th>\n",
              "      <th>Sector</th>\n",
              "      <th>Industry</th>\n",
              "      <th>ListingDate</th>\n",
              "      <th>SettleMonth</th>\n",
              "      <th>Representative</th>\n",
              "      <th>HomePage</th>\n",
              "      <th>Region</th>\n",
              "    </tr>\n",
              "  </thead>\n",
              "  <tbody>\n",
              "    <tr>\n",
              "      <th>0</th>\n",
              "      <td>060310</td>\n",
              "      <td>KOSDAQ</td>\n",
              "      <td>3S</td>\n",
              "      <td>특수 목적용 기계 제조업</td>\n",
              "      <td>반도체 웨이퍼 캐리어</td>\n",
              "      <td>2002-04-23</td>\n",
              "      <td>03월</td>\n",
              "      <td>박종익, 김세완 (각자 대표이사)</td>\n",
              "      <td>http://www.3sref.com</td>\n",
              "      <td>서울특별시</td>\n",
              "    </tr>\n",
              "    <tr>\n",
              "      <th>1</th>\n",
              "      <td>095570</td>\n",
              "      <td>KOSPI</td>\n",
              "      <td>AJ네트웍스</td>\n",
              "      <td>산업용 기계 및 장비 임대업</td>\n",
              "      <td>렌탈(파렛트, OA장비, 건설장비)</td>\n",
              "      <td>2015-08-21</td>\n",
              "      <td>12월</td>\n",
              "      <td>이현우, 박대현</td>\n",
              "      <td>http://www.ajnet.co.kr</td>\n",
              "      <td>서울특별시</td>\n",
              "    </tr>\n",
              "    <tr>\n",
              "      <th>2</th>\n",
              "      <td>006840</td>\n",
              "      <td>KOSPI</td>\n",
              "      <td>AK홀딩스</td>\n",
              "      <td>기타 금융업</td>\n",
              "      <td>지주사업</td>\n",
              "      <td>1999-08-11</td>\n",
              "      <td>12월</td>\n",
              "      <td>채형석, 이석주(각자 대표이사)</td>\n",
              "      <td>http://www.aekyunggroup.co.kr</td>\n",
              "      <td>서울특별시</td>\n",
              "    </tr>\n",
              "    <tr>\n",
              "      <th>3</th>\n",
              "      <td>054620</td>\n",
              "      <td>KOSDAQ</td>\n",
              "      <td>APS홀딩스</td>\n",
              "      <td>기타 금융업</td>\n",
              "      <td>인터넷 트래픽 솔루션</td>\n",
              "      <td>2001-12-04</td>\n",
              "      <td>12월</td>\n",
              "      <td>정기로</td>\n",
              "      <td>http://www.apsholdings.co.kr</td>\n",
              "      <td>경기도</td>\n",
              "    </tr>\n",
              "    <tr>\n",
              "      <th>4</th>\n",
              "      <td>265520</td>\n",
              "      <td>KOSDAQ</td>\n",
              "      <td>AP시스템</td>\n",
              "      <td>특수 목적용 기계 제조업</td>\n",
              "      <td>디스플레이 제조 장비</td>\n",
              "      <td>2017-04-07</td>\n",
              "      <td>12월</td>\n",
              "      <td>김영주</td>\n",
              "      <td>http://www.apsystems.co.kr</td>\n",
              "      <td>경기도</td>\n",
              "    </tr>\n",
              "  </tbody>\n",
              "</table>\n",
              "</div>"
            ],
            "text/plain": [
              "   Symbol  Market  ...                       HomePage Region\n",
              "0  060310  KOSDAQ  ...           http://www.3sref.com  서울특별시\n",
              "1  095570   KOSPI  ...         http://www.ajnet.co.kr  서울특별시\n",
              "2  006840   KOSPI  ...  http://www.aekyunggroup.co.kr  서울특별시\n",
              "3  054620  KOSDAQ  ...   http://www.apsholdings.co.kr    경기도\n",
              "4  265520  KOSDAQ  ...     http://www.apsystems.co.kr    경기도\n",
              "\n",
              "[5 rows x 10 columns]"
            ]
          },
          "metadata": {
            "tags": []
          },
          "execution_count": 19
        }
      ]
    },
    {
      "cell_type": "code",
      "metadata": {
        "id": "PpNOst-19dZe",
        "colab": {
          "base_uri": "https://localhost:8080/",
          "height": 204
        },
        "outputId": "7fcb78cc-f959-4e4a-b0f5-baf4b0bc6067"
      },
      "source": [
        "\n",
        "# KRX stock delisting symbol list and names 상장폐지 종목 전체 리스트\n",
        "krx_delisting = fdr.StockListing('KRX-DELISTING')\n",
        "krx_delisting.head()"
      ],
      "execution_count": 20,
      "outputs": [
        {
          "output_type": "execute_result",
          "data": {
            "text/html": [
              "<div>\n",
              "<style scoped>\n",
              "    .dataframe tbody tr th:only-of-type {\n",
              "        vertical-align: middle;\n",
              "    }\n",
              "\n",
              "    .dataframe tbody tr th {\n",
              "        vertical-align: top;\n",
              "    }\n",
              "\n",
              "    .dataframe thead th {\n",
              "        text-align: right;\n",
              "    }\n",
              "</style>\n",
              "<table border=\"1\" class=\"dataframe\">\n",
              "  <thead>\n",
              "    <tr style=\"text-align: right;\">\n",
              "      <th></th>\n",
              "      <th>Symbol</th>\n",
              "      <th>Name</th>\n",
              "      <th>Market</th>\n",
              "      <th>SecuGroup</th>\n",
              "      <th>Kind</th>\n",
              "      <th>ListingDate</th>\n",
              "      <th>DelistingDate</th>\n",
              "      <th>Reason</th>\n",
              "      <th>ArrantEnforceDate</th>\n",
              "      <th>ArrantEndDate</th>\n",
              "      <th>Industry</th>\n",
              "      <th>ParValue</th>\n",
              "      <th>ListingShares</th>\n",
              "      <th>ToSymbol</th>\n",
              "      <th>ToName</th>\n",
              "    </tr>\n",
              "  </thead>\n",
              "  <tbody>\n",
              "    <tr>\n",
              "      <th>0</th>\n",
              "      <td>06031012</td>\n",
              "      <td>3S R</td>\n",
              "      <td>KOSDAQ</td>\n",
              "      <td>신주인수권증서</td>\n",
              "      <td>보통주</td>\n",
              "      <td>2012-05-14</td>\n",
              "      <td>2012-05-21</td>\n",
              "      <td></td>\n",
              "      <td>NaT</td>\n",
              "      <td>NaT</td>\n",
              "      <td></td>\n",
              "      <td>0.0</td>\n",
              "      <td>1194422.0</td>\n",
              "      <td></td>\n",
              "      <td></td>\n",
              "    </tr>\n",
              "    <tr>\n",
              "      <th>1</th>\n",
              "      <td>00684014</td>\n",
              "      <td>AK홀딩스8R</td>\n",
              "      <td>KOSPI</td>\n",
              "      <td>신주인수권증서</td>\n",
              "      <td>보통주</td>\n",
              "      <td>2014-07-28</td>\n",
              "      <td>2014-08-04</td>\n",
              "      <td></td>\n",
              "      <td>NaT</td>\n",
              "      <td>NaT</td>\n",
              "      <td></td>\n",
              "      <td>0.0</td>\n",
              "      <td>1278299.0</td>\n",
              "      <td></td>\n",
              "      <td></td>\n",
              "    </tr>\n",
              "    <tr>\n",
              "      <th>2</th>\n",
              "      <td>13893015</td>\n",
              "      <td>BNK금융지주 8R</td>\n",
              "      <td>KOSPI</td>\n",
              "      <td>신주인수권증서</td>\n",
              "      <td>보통주</td>\n",
              "      <td>2015-12-24</td>\n",
              "      <td>2016-01-05</td>\n",
              "      <td></td>\n",
              "      <td>NaT</td>\n",
              "      <td>NaT</td>\n",
              "      <td></td>\n",
              "      <td>0.0</td>\n",
              "      <td>55969410.0</td>\n",
              "      <td></td>\n",
              "      <td></td>\n",
              "    </tr>\n",
              "    <tr>\n",
              "      <th>3</th>\n",
              "      <td>13893014</td>\n",
              "      <td>BS금융지주5R</td>\n",
              "      <td>KOSPI</td>\n",
              "      <td>신주인수권증서</td>\n",
              "      <td>보통주</td>\n",
              "      <td>2014-06-18</td>\n",
              "      <td>2014-06-25</td>\n",
              "      <td></td>\n",
              "      <td>NaT</td>\n",
              "      <td>NaT</td>\n",
              "      <td></td>\n",
              "      <td>0.0</td>\n",
              "      <td>32791220.0</td>\n",
              "      <td></td>\n",
              "      <td></td>\n",
              "    </tr>\n",
              "    <tr>\n",
              "      <th>4</th>\n",
              "      <td>03204017</td>\n",
              "      <td>C&amp;S자산관리 34R</td>\n",
              "      <td>KOSDAQ</td>\n",
              "      <td>신주인수권증서</td>\n",
              "      <td>보통주</td>\n",
              "      <td>2017-02-02</td>\n",
              "      <td>2017-02-09</td>\n",
              "      <td></td>\n",
              "      <td>NaT</td>\n",
              "      <td>NaT</td>\n",
              "      <td></td>\n",
              "      <td>0.0</td>\n",
              "      <td>3995063.0</td>\n",
              "      <td></td>\n",
              "      <td></td>\n",
              "    </tr>\n",
              "  </tbody>\n",
              "</table>\n",
              "</div>"
            ],
            "text/plain": [
              "     Symbol         Name  Market  ... ListingShares ToSymbol ToName\n",
              "0  06031012         3S R  KOSDAQ  ...     1194422.0                \n",
              "1  00684014      AK홀딩스8R   KOSPI  ...     1278299.0                \n",
              "2  13893015   BNK금융지주 8R   KOSPI  ...    55969410.0                \n",
              "3  13893014     BS금융지주5R   KOSPI  ...    32791220.0                \n",
              "4  03204017  C&S자산관리 34R  KOSDAQ  ...     3995063.0                \n",
              "\n",
              "[5 rows x 15 columns]"
            ]
          },
          "metadata": {
            "tags": []
          },
          "execution_count": 20
        }
      ]
    },
    {
      "cell_type": "code",
      "metadata": {
        "id": "tVUsoEeY9hT0",
        "colab": {
          "base_uri": "https://localhost:8080/",
          "height": 204
        },
        "outputId": "5abf5321-b4ed-4241-e38c-1eef7f8f5e2b"
      },
      "source": [
        "\n",
        "# S&P 500 symbol list\n",
        "sp500 = fdr.StockListing('S&P500')\n",
        "sp500.head()"
      ],
      "execution_count": 21,
      "outputs": [
        {
          "output_type": "execute_result",
          "data": {
            "text/html": [
              "<div>\n",
              "<style scoped>\n",
              "    .dataframe tbody tr th:only-of-type {\n",
              "        vertical-align: middle;\n",
              "    }\n",
              "\n",
              "    .dataframe tbody tr th {\n",
              "        vertical-align: top;\n",
              "    }\n",
              "\n",
              "    .dataframe thead th {\n",
              "        text-align: right;\n",
              "    }\n",
              "</style>\n",
              "<table border=\"1\" class=\"dataframe\">\n",
              "  <thead>\n",
              "    <tr style=\"text-align: right;\">\n",
              "      <th></th>\n",
              "      <th>Symbol</th>\n",
              "      <th>Name</th>\n",
              "      <th>Sector</th>\n",
              "      <th>Industry</th>\n",
              "    </tr>\n",
              "  </thead>\n",
              "  <tbody>\n",
              "    <tr>\n",
              "      <th>0</th>\n",
              "      <td>MMM</td>\n",
              "      <td>3M Company</td>\n",
              "      <td>Industrials</td>\n",
              "      <td>Industrial Conglomerates</td>\n",
              "    </tr>\n",
              "    <tr>\n",
              "      <th>1</th>\n",
              "      <td>ABT</td>\n",
              "      <td>Abbott Laboratories</td>\n",
              "      <td>Health Care</td>\n",
              "      <td>Health Care Equipment</td>\n",
              "    </tr>\n",
              "    <tr>\n",
              "      <th>2</th>\n",
              "      <td>ABBV</td>\n",
              "      <td>AbbVie Inc.</td>\n",
              "      <td>Health Care</td>\n",
              "      <td>Pharmaceuticals</td>\n",
              "    </tr>\n",
              "    <tr>\n",
              "      <th>3</th>\n",
              "      <td>ABMD</td>\n",
              "      <td>Abiomed</td>\n",
              "      <td>Health Care</td>\n",
              "      <td>Health Care Equipment</td>\n",
              "    </tr>\n",
              "    <tr>\n",
              "      <th>4</th>\n",
              "      <td>ACN</td>\n",
              "      <td>Accenture</td>\n",
              "      <td>Information Technology</td>\n",
              "      <td>IT Consulting &amp; Other Services</td>\n",
              "    </tr>\n",
              "  </tbody>\n",
              "</table>\n",
              "</div>"
            ],
            "text/plain": [
              "  Symbol  ...                        Industry\n",
              "0    MMM  ...        Industrial Conglomerates\n",
              "1    ABT  ...           Health Care Equipment\n",
              "2   ABBV  ...                 Pharmaceuticals\n",
              "3   ABMD  ...           Health Care Equipment\n",
              "4    ACN  ...  IT Consulting & Other Services\n",
              "\n",
              "[5 rows x 4 columns]"
            ]
          },
          "metadata": {
            "tags": []
          },
          "execution_count": 21
        }
      ]
    },
    {
      "cell_type": "code",
      "metadata": {
        "id": "JUDCPPrG9khm",
        "colab": {
          "base_uri": "https://localhost:8080/"
        },
        "outputId": "4a1f105f-02f9-40c0-c54f-5b91657f9b71"
      },
      "source": [
        "len(sp500['Symbol'].unique())"
      ],
      "execution_count": 22,
      "outputs": [
        {
          "output_type": "execute_result",
          "data": {
            "text/plain": [
              "505"
            ]
          },
          "metadata": {
            "tags": []
          },
          "execution_count": 22
        }
      ]
    },
    {
      "cell_type": "code",
      "metadata": {
        "id": "r43NhCpW9oW8",
        "colab": {
          "base_uri": "https://localhost:8080/"
        },
        "outputId": "8f6134a1-d140-49f2-9205-0c98bd019e81"
      },
      "source": [
        "appl.info()"
      ],
      "execution_count": 23,
      "outputs": [
        {
          "output_type": "stream",
          "text": [
            "<class 'pandas.core.frame.DataFrame'>\n",
            "DatetimeIndex: 1076 entries, 2017-01-03 to 2021-04-13\n",
            "Data columns (total 6 columns):\n",
            " #   Column  Non-Null Count  Dtype  \n",
            "---  ------  --------------  -----  \n",
            " 0   Close   1076 non-null   float64\n",
            " 1   Open    1076 non-null   float64\n",
            " 2   High    1076 non-null   float64\n",
            " 3   Low     1076 non-null   float64\n",
            " 4   Volume  1076 non-null   float64\n",
            " 5   Change  1076 non-null   float64\n",
            "dtypes: float64(6)\n",
            "memory usage: 58.8 KB\n"
          ],
          "name": "stdout"
        }
      ]
    },
    {
      "cell_type": "code",
      "metadata": {
        "id": "8imh303b-V-m",
        "colab": {
          "base_uri": "https://localhost:8080/"
        },
        "outputId": "ef599020-524e-4231-d901-13727534800f"
      },
      "source": [
        "appl.isna().sum()"
      ],
      "execution_count": 24,
      "outputs": [
        {
          "output_type": "execute_result",
          "data": {
            "text/plain": [
              "Close     0\n",
              "Open      0\n",
              "High      0\n",
              "Low       0\n",
              "Volume    0\n",
              "Change    0\n",
              "dtype: int64"
            ]
          },
          "metadata": {
            "tags": []
          },
          "execution_count": 24
        }
      ]
    },
    {
      "cell_type": "code",
      "metadata": {
        "id": "65MmuaHD_CW6",
        "colab": {
          "base_uri": "https://localhost:8080/",
          "height": 235
        },
        "outputId": "1ea1781f-c9c5-492c-bc42-d11b17dd0378"
      },
      "source": [
        "appl[['Open','Close']].head()"
      ],
      "execution_count": 25,
      "outputs": [
        {
          "output_type": "execute_result",
          "data": {
            "text/html": [
              "<div>\n",
              "<style scoped>\n",
              "    .dataframe tbody tr th:only-of-type {\n",
              "        vertical-align: middle;\n",
              "    }\n",
              "\n",
              "    .dataframe tbody tr th {\n",
              "        vertical-align: top;\n",
              "    }\n",
              "\n",
              "    .dataframe thead th {\n",
              "        text-align: right;\n",
              "    }\n",
              "</style>\n",
              "<table border=\"1\" class=\"dataframe\">\n",
              "  <thead>\n",
              "    <tr style=\"text-align: right;\">\n",
              "      <th></th>\n",
              "      <th>Open</th>\n",
              "      <th>Close</th>\n",
              "    </tr>\n",
              "    <tr>\n",
              "      <th>Date</th>\n",
              "      <th></th>\n",
              "      <th></th>\n",
              "    </tr>\n",
              "  </thead>\n",
              "  <tbody>\n",
              "    <tr>\n",
              "      <th>2017-01-03</th>\n",
              "      <td>28.95</td>\n",
              "      <td>29.04</td>\n",
              "    </tr>\n",
              "    <tr>\n",
              "      <th>2017-01-04</th>\n",
              "      <td>28.96</td>\n",
              "      <td>29.00</td>\n",
              "    </tr>\n",
              "    <tr>\n",
              "      <th>2017-01-05</th>\n",
              "      <td>28.98</td>\n",
              "      <td>29.15</td>\n",
              "    </tr>\n",
              "    <tr>\n",
              "      <th>2017-01-06</th>\n",
              "      <td>29.20</td>\n",
              "      <td>29.48</td>\n",
              "    </tr>\n",
              "    <tr>\n",
              "      <th>2017-01-09</th>\n",
              "      <td>29.49</td>\n",
              "      <td>29.75</td>\n",
              "    </tr>\n",
              "  </tbody>\n",
              "</table>\n",
              "</div>"
            ],
            "text/plain": [
              "             Open  Close\n",
              "Date                    \n",
              "2017-01-03  28.95  29.04\n",
              "2017-01-04  28.96  29.00\n",
              "2017-01-05  28.98  29.15\n",
              "2017-01-06  29.20  29.48\n",
              "2017-01-09  29.49  29.75"
            ]
          },
          "metadata": {
            "tags": []
          },
          "execution_count": 25
        }
      ]
    },
    {
      "cell_type": "code",
      "metadata": {
        "id": "Kcc3vTD2_Ofo",
        "colab": {
          "base_uri": "https://localhost:8080/",
          "height": 173
        },
        "outputId": "251fdba9-f727-4af3-c882-9a8a293858ea"
      },
      "source": [
        "appl[0:3]"
      ],
      "execution_count": 26,
      "outputs": [
        {
          "output_type": "execute_result",
          "data": {
            "text/html": [
              "<div>\n",
              "<style scoped>\n",
              "    .dataframe tbody tr th:only-of-type {\n",
              "        vertical-align: middle;\n",
              "    }\n",
              "\n",
              "    .dataframe tbody tr th {\n",
              "        vertical-align: top;\n",
              "    }\n",
              "\n",
              "    .dataframe thead th {\n",
              "        text-align: right;\n",
              "    }\n",
              "</style>\n",
              "<table border=\"1\" class=\"dataframe\">\n",
              "  <thead>\n",
              "    <tr style=\"text-align: right;\">\n",
              "      <th></th>\n",
              "      <th>Close</th>\n",
              "      <th>Open</th>\n",
              "      <th>High</th>\n",
              "      <th>Low</th>\n",
              "      <th>Volume</th>\n",
              "      <th>Change</th>\n",
              "    </tr>\n",
              "    <tr>\n",
              "      <th>Date</th>\n",
              "      <th></th>\n",
              "      <th></th>\n",
              "      <th></th>\n",
              "      <th></th>\n",
              "      <th></th>\n",
              "      <th></th>\n",
              "    </tr>\n",
              "  </thead>\n",
              "  <tbody>\n",
              "    <tr>\n",
              "      <th>2017-01-03</th>\n",
              "      <td>29.04</td>\n",
              "      <td>28.95</td>\n",
              "      <td>29.08</td>\n",
              "      <td>28.69</td>\n",
              "      <td>115130000.0</td>\n",
              "      <td>0.0031</td>\n",
              "    </tr>\n",
              "    <tr>\n",
              "      <th>2017-01-04</th>\n",
              "      <td>29.00</td>\n",
              "      <td>28.96</td>\n",
              "      <td>29.13</td>\n",
              "      <td>28.94</td>\n",
              "      <td>84470000.0</td>\n",
              "      <td>-0.0014</td>\n",
              "    </tr>\n",
              "    <tr>\n",
              "      <th>2017-01-05</th>\n",
              "      <td>29.15</td>\n",
              "      <td>28.98</td>\n",
              "      <td>29.22</td>\n",
              "      <td>28.95</td>\n",
              "      <td>88770000.0</td>\n",
              "      <td>0.0052</td>\n",
              "    </tr>\n",
              "  </tbody>\n",
              "</table>\n",
              "</div>"
            ],
            "text/plain": [
              "            Close   Open   High    Low       Volume  Change\n",
              "Date                                                       \n",
              "2017-01-03  29.04  28.95  29.08  28.69  115130000.0  0.0031\n",
              "2017-01-04  29.00  28.96  29.13  28.94   84470000.0 -0.0014\n",
              "2017-01-05  29.15  28.98  29.22  28.95   88770000.0  0.0052"
            ]
          },
          "metadata": {
            "tags": []
          },
          "execution_count": 26
        }
      ]
    },
    {
      "cell_type": "code",
      "metadata": {
        "id": "8VIb69un_Qr0",
        "colab": {
          "base_uri": "https://localhost:8080/",
          "height": 235
        },
        "outputId": "be868a47-ed9d-45a4-9706-43cc5b15b8c7"
      },
      "source": [
        "appl.loc['November 1, 2017':'November 20, 2017'].head()"
      ],
      "execution_count": 27,
      "outputs": [
        {
          "output_type": "execute_result",
          "data": {
            "text/html": [
              "<div>\n",
              "<style scoped>\n",
              "    .dataframe tbody tr th:only-of-type {\n",
              "        vertical-align: middle;\n",
              "    }\n",
              "\n",
              "    .dataframe tbody tr th {\n",
              "        vertical-align: top;\n",
              "    }\n",
              "\n",
              "    .dataframe thead th {\n",
              "        text-align: right;\n",
              "    }\n",
              "</style>\n",
              "<table border=\"1\" class=\"dataframe\">\n",
              "  <thead>\n",
              "    <tr style=\"text-align: right;\">\n",
              "      <th></th>\n",
              "      <th>Close</th>\n",
              "      <th>Open</th>\n",
              "      <th>High</th>\n",
              "      <th>Low</th>\n",
              "      <th>Volume</th>\n",
              "      <th>Change</th>\n",
              "    </tr>\n",
              "    <tr>\n",
              "      <th>Date</th>\n",
              "      <th></th>\n",
              "      <th></th>\n",
              "      <th></th>\n",
              "      <th></th>\n",
              "      <th></th>\n",
              "      <th></th>\n",
              "    </tr>\n",
              "  </thead>\n",
              "  <tbody>\n",
              "    <tr>\n",
              "      <th>2017-11-01</th>\n",
              "      <td>41.72</td>\n",
              "      <td>42.47</td>\n",
              "      <td>42.48</td>\n",
              "      <td>41.40</td>\n",
              "      <td>134550000.0</td>\n",
              "      <td>-0.0128</td>\n",
              "    </tr>\n",
              "    <tr>\n",
              "      <th>2017-11-02</th>\n",
              "      <td>42.03</td>\n",
              "      <td>41.91</td>\n",
              "      <td>42.12</td>\n",
              "      <td>41.32</td>\n",
              "      <td>165570000.0</td>\n",
              "      <td>0.0074</td>\n",
              "    </tr>\n",
              "    <tr>\n",
              "      <th>2017-11-03</th>\n",
              "      <td>43.12</td>\n",
              "      <td>43.50</td>\n",
              "      <td>43.56</td>\n",
              "      <td>42.78</td>\n",
              "      <td>237590000.0</td>\n",
              "      <td>0.0259</td>\n",
              "    </tr>\n",
              "    <tr>\n",
              "      <th>2017-11-06</th>\n",
              "      <td>43.56</td>\n",
              "      <td>43.09</td>\n",
              "      <td>43.75</td>\n",
              "      <td>42.93</td>\n",
              "      <td>140110000.0</td>\n",
              "      <td>0.0102</td>\n",
              "    </tr>\n",
              "    <tr>\n",
              "      <th>2017-11-07</th>\n",
              "      <td>43.70</td>\n",
              "      <td>43.48</td>\n",
              "      <td>43.81</td>\n",
              "      <td>43.40</td>\n",
              "      <td>97450000.0</td>\n",
              "      <td>0.0032</td>\n",
              "    </tr>\n",
              "  </tbody>\n",
              "</table>\n",
              "</div>"
            ],
            "text/plain": [
              "            Close   Open   High    Low       Volume  Change\n",
              "Date                                                       \n",
              "2017-11-01  41.72  42.47  42.48  41.40  134550000.0 -0.0128\n",
              "2017-11-02  42.03  41.91  42.12  41.32  165570000.0  0.0074\n",
              "2017-11-03  43.12  43.50  43.56  42.78  237590000.0  0.0259\n",
              "2017-11-06  43.56  43.09  43.75  42.93  140110000.0  0.0102\n",
              "2017-11-07  43.70  43.48  43.81  43.40   97450000.0  0.0032"
            ]
          },
          "metadata": {
            "tags": []
          },
          "execution_count": 27
        }
      ]
    },
    {
      "cell_type": "code",
      "metadata": {
        "id": "6H2eBD8r_VuE",
        "colab": {
          "base_uri": "https://localhost:8080/"
        },
        "outputId": "7e2c4637-ba5c-494f-ff19-b5a5b1a55033"
      },
      "source": [
        "appl.loc['2017-11-01'].head(), appl.loc['2017-11'].head(), appl.loc['2017'].head()"
      ],
      "execution_count": 28,
      "outputs": [
        {
          "output_type": "execute_result",
          "data": {
            "text/plain": [
              "(Close     4.172000e+01\n",
              " Open      4.247000e+01\n",
              " High      4.248000e+01\n",
              " Low       4.140000e+01\n",
              " Volume    1.345500e+08\n",
              " Name: 2017-11-01 00:00:00, dtype: float64,\n",
              "             Close   Open   High    Low       Volume  Change\n",
              " Date                                                       \n",
              " 2017-11-01  41.72  42.47  42.48  41.40  134550000.0 -0.0128\n",
              " 2017-11-02  42.03  41.91  42.12  41.32  165570000.0  0.0074\n",
              " 2017-11-03  43.12  43.50  43.56  42.78  237590000.0  0.0259\n",
              " 2017-11-06  43.56  43.09  43.75  42.93  140110000.0  0.0102\n",
              " 2017-11-07  43.70  43.48  43.81  43.40   97450000.0  0.0032,\n",
              "             Close   Open   High    Low       Volume  Change\n",
              " Date                                                       \n",
              " 2017-01-03  29.04  28.95  29.08  28.69  115130000.0  0.0031\n",
              " 2017-01-04  29.00  28.96  29.13  28.94   84470000.0 -0.0014\n",
              " 2017-01-05  29.15  28.98  29.22  28.95   88770000.0  0.0052\n",
              " 2017-01-06  29.48  29.20  29.54  29.12  127010000.0  0.0113\n",
              " 2017-01-09  29.75  29.49  29.86  29.48  134250000.0  0.0092)"
            ]
          },
          "metadata": {
            "tags": []
          },
          "execution_count": 28
        }
      ]
    },
    {
      "cell_type": "code",
      "metadata": {
        "id": "yM657O-h_1TV",
        "colab": {
          "base_uri": "https://localhost:8080/"
        },
        "outputId": "0ccc6115-74bc-4ceb-e788-bc314f622d5b"
      },
      "source": [
        "appl.loc['2017':'2018', [\"Close\"]].head(), appl.loc['2017':'2018',[\"Close\"]].tail()"
      ],
      "execution_count": 29,
      "outputs": [
        {
          "output_type": "execute_result",
          "data": {
            "text/plain": [
              "(            Close\n",
              " Date             \n",
              " 2017-01-03  29.04\n",
              " 2017-01-04  29.00\n",
              " 2017-01-05  29.15\n",
              " 2017-01-06  29.48\n",
              " 2017-01-09  29.75,             Close\n",
              " Date             \n",
              " 2018-12-24  36.71\n",
              " 2018-12-26  39.29\n",
              " 2018-12-27  39.04\n",
              " 2018-12-28  39.06\n",
              " 2018-12-31  39.44)"
            ]
          },
          "metadata": {
            "tags": []
          },
          "execution_count": 29
        }
      ]
    },
    {
      "cell_type": "code",
      "metadata": {
        "id": "zubt7Z5tANt-",
        "colab": {
          "base_uri": "https://localhost:8080/"
        },
        "outputId": "adc1d7cb-7f22-4799-a65b-9d2c1c808b08"
      },
      "source": [
        "mondays= pd.date_range('2019','2020', freq=\"W-MON\")\n",
        "type(mondays)\n",
        "mondays[0]\n",
        "mondays"
      ],
      "execution_count": 30,
      "outputs": [
        {
          "output_type": "execute_result",
          "data": {
            "text/plain": [
              "DatetimeIndex(['2019-01-07', '2019-01-14', '2019-01-21', '2019-01-28',\n",
              "               '2019-02-04', '2019-02-11', '2019-02-18', '2019-02-25',\n",
              "               '2019-03-04', '2019-03-11', '2019-03-18', '2019-03-25',\n",
              "               '2019-04-01', '2019-04-08', '2019-04-15', '2019-04-22',\n",
              "               '2019-04-29', '2019-05-06', '2019-05-13', '2019-05-20',\n",
              "               '2019-05-27', '2019-06-03', '2019-06-10', '2019-06-17',\n",
              "               '2019-06-24', '2019-07-01', '2019-07-08', '2019-07-15',\n",
              "               '2019-07-22', '2019-07-29', '2019-08-05', '2019-08-12',\n",
              "               '2019-08-19', '2019-08-26', '2019-09-02', '2019-09-09',\n",
              "               '2019-09-16', '2019-09-23', '2019-09-30', '2019-10-07',\n",
              "               '2019-10-14', '2019-10-21', '2019-10-28', '2019-11-04',\n",
              "               '2019-11-11', '2019-11-18', '2019-11-25', '2019-12-02',\n",
              "               '2019-12-09', '2019-12-16', '2019-12-23', '2019-12-30'],\n",
              "              dtype='datetime64[ns]', freq='W-MON')"
            ]
          },
          "metadata": {
            "tags": []
          },
          "execution_count": 30
        }
      ]
    },
    {
      "cell_type": "code",
      "metadata": {
        "id": "DuxtUXHTB8vi",
        "colab": {
          "base_uri": "https://localhost:8080/"
        },
        "outputId": "b3f5a130-8ce3-4dd5-9360-201ba95d54ac"
      },
      "source": [
        "print(mondays[0].date())\n",
        "pd.to_datetime(mondays)\n",
        "mondays"
      ],
      "execution_count": 32,
      "outputs": [
        {
          "output_type": "stream",
          "text": [
            "2019-01-07\n"
          ],
          "name": "stdout"
        },
        {
          "output_type": "execute_result",
          "data": {
            "text/plain": [
              "DatetimeIndex(['2019-01-07', '2019-01-14', '2019-01-21', '2019-01-28',\n",
              "               '2019-02-04', '2019-02-11', '2019-02-18', '2019-02-25',\n",
              "               '2019-03-04', '2019-03-11', '2019-03-18', '2019-03-25',\n",
              "               '2019-04-01', '2019-04-08', '2019-04-15', '2019-04-22',\n",
              "               '2019-04-29', '2019-05-06', '2019-05-13', '2019-05-20',\n",
              "               '2019-05-27', '2019-06-03', '2019-06-10', '2019-06-17',\n",
              "               '2019-06-24', '2019-07-01', '2019-07-08', '2019-07-15',\n",
              "               '2019-07-22', '2019-07-29', '2019-08-05', '2019-08-12',\n",
              "               '2019-08-19', '2019-08-26', '2019-09-02', '2019-09-09',\n",
              "               '2019-09-16', '2019-09-23', '2019-09-30', '2019-10-07',\n",
              "               '2019-10-14', '2019-10-21', '2019-10-28', '2019-11-04',\n",
              "               '2019-11-11', '2019-11-18', '2019-11-25', '2019-12-02',\n",
              "               '2019-12-09', '2019-12-16', '2019-12-23', '2019-12-30'],\n",
              "              dtype='datetime64[ns]', freq='W-MON')"
            ]
          },
          "metadata": {
            "tags": []
          },
          "execution_count": 32
        }
      ]
    },
    {
      "cell_type": "code",
      "metadata": {
        "id": "5HlE9gSbDWre"
      },
      "source": [
        "# appl.loc[mondays.array].head()"
      ],
      "execution_count": null,
      "outputs": []
    },
    {
      "cell_type": "code",
      "metadata": {
        "id": "1lxfwbJqAuby"
      },
      "source": [
        " # appl[mondays].head()"
      ],
      "execution_count": null,
      "outputs": []
    },
    {
      "cell_type": "code",
      "metadata": {
        "id": "eyfRfI3VBGQw",
        "colab": {
          "base_uri": "https://localhost:8080/",
          "height": 204
        },
        "outputId": "0aa4ad41-c971-4e5a-de2d-4f5e1e359048"
      },
      "source": [
        "sp500.head()"
      ],
      "execution_count": 34,
      "outputs": [
        {
          "output_type": "execute_result",
          "data": {
            "text/html": [
              "<div>\n",
              "<style scoped>\n",
              "    .dataframe tbody tr th:only-of-type {\n",
              "        vertical-align: middle;\n",
              "    }\n",
              "\n",
              "    .dataframe tbody tr th {\n",
              "        vertical-align: top;\n",
              "    }\n",
              "\n",
              "    .dataframe thead th {\n",
              "        text-align: right;\n",
              "    }\n",
              "</style>\n",
              "<table border=\"1\" class=\"dataframe\">\n",
              "  <thead>\n",
              "    <tr style=\"text-align: right;\">\n",
              "      <th></th>\n",
              "      <th>Symbol</th>\n",
              "      <th>Name</th>\n",
              "      <th>Sector</th>\n",
              "      <th>Industry</th>\n",
              "    </tr>\n",
              "  </thead>\n",
              "  <tbody>\n",
              "    <tr>\n",
              "      <th>0</th>\n",
              "      <td>MMM</td>\n",
              "      <td>3M Company</td>\n",
              "      <td>Industrials</td>\n",
              "      <td>Industrial Conglomerates</td>\n",
              "    </tr>\n",
              "    <tr>\n",
              "      <th>1</th>\n",
              "      <td>ABT</td>\n",
              "      <td>Abbott Laboratories</td>\n",
              "      <td>Health Care</td>\n",
              "      <td>Health Care Equipment</td>\n",
              "    </tr>\n",
              "    <tr>\n",
              "      <th>2</th>\n",
              "      <td>ABBV</td>\n",
              "      <td>AbbVie Inc.</td>\n",
              "      <td>Health Care</td>\n",
              "      <td>Pharmaceuticals</td>\n",
              "    </tr>\n",
              "    <tr>\n",
              "      <th>3</th>\n",
              "      <td>ABMD</td>\n",
              "      <td>Abiomed</td>\n",
              "      <td>Health Care</td>\n",
              "      <td>Health Care Equipment</td>\n",
              "    </tr>\n",
              "    <tr>\n",
              "      <th>4</th>\n",
              "      <td>ACN</td>\n",
              "      <td>Accenture</td>\n",
              "      <td>Information Technology</td>\n",
              "      <td>IT Consulting &amp; Other Services</td>\n",
              "    </tr>\n",
              "  </tbody>\n",
              "</table>\n",
              "</div>"
            ],
            "text/plain": [
              "  Symbol  ...                        Industry\n",
              "0    MMM  ...        Industrial Conglomerates\n",
              "1    ABT  ...           Health Care Equipment\n",
              "2   ABBV  ...                 Pharmaceuticals\n",
              "3   ABMD  ...           Health Care Equipment\n",
              "4    ACN  ...  IT Consulting & Other Services\n",
              "\n",
              "[5 rows x 4 columns]"
            ]
          },
          "metadata": {
            "tags": []
          },
          "execution_count": 34
        }
      ]
    },
    {
      "cell_type": "code",
      "metadata": {
        "id": "Fsig6z1S4u4w",
        "colab": {
          "base_uri": "https://localhost:8080/",
          "height": 80
        },
        "outputId": "ac8cef90-2699-4352-f954-70b6fa78f502"
      },
      "source": [
        "sp500[sp500['Symbol'] == 'AAPL']"
      ],
      "execution_count": 35,
      "outputs": [
        {
          "output_type": "execute_result",
          "data": {
            "text/html": [
              "<div>\n",
              "<style scoped>\n",
              "    .dataframe tbody tr th:only-of-type {\n",
              "        vertical-align: middle;\n",
              "    }\n",
              "\n",
              "    .dataframe tbody tr th {\n",
              "        vertical-align: top;\n",
              "    }\n",
              "\n",
              "    .dataframe thead th {\n",
              "        text-align: right;\n",
              "    }\n",
              "</style>\n",
              "<table border=\"1\" class=\"dataframe\">\n",
              "  <thead>\n",
              "    <tr style=\"text-align: right;\">\n",
              "      <th></th>\n",
              "      <th>Symbol</th>\n",
              "      <th>Name</th>\n",
              "      <th>Sector</th>\n",
              "      <th>Industry</th>\n",
              "    </tr>\n",
              "  </thead>\n",
              "  <tbody>\n",
              "    <tr>\n",
              "      <th>45</th>\n",
              "      <td>AAPL</td>\n",
              "      <td>Apple Inc.</td>\n",
              "      <td>Information Technology</td>\n",
              "      <td>Technology Hardware, Storage &amp; Peripherals</td>\n",
              "    </tr>\n",
              "  </tbody>\n",
              "</table>\n",
              "</div>"
            ],
            "text/plain": [
              "   Symbol  ...                                    Industry\n",
              "45   AAPL  ...  Technology Hardware, Storage & Peripherals\n",
              "\n",
              "[1 rows x 4 columns]"
            ]
          },
          "metadata": {
            "tags": []
          },
          "execution_count": 35
        }
      ]
    },
    {
      "cell_type": "code",
      "metadata": {
        "id": "pn1TJ5AI40WO",
        "colab": {
          "base_uri": "https://localhost:8080/",
          "height": 390
        },
        "outputId": "00bf9de6-c2bb-4535-e874-05a27970c0d4"
      },
      "source": [
        "appl = fdr.DataReader('AAPL', '1997') # apple, 1997년\n",
        "appl.head(10)"
      ],
      "execution_count": 36,
      "outputs": [
        {
          "output_type": "execute_result",
          "data": {
            "text/html": [
              "<div>\n",
              "<style scoped>\n",
              "    .dataframe tbody tr th:only-of-type {\n",
              "        vertical-align: middle;\n",
              "    }\n",
              "\n",
              "    .dataframe tbody tr th {\n",
              "        vertical-align: top;\n",
              "    }\n",
              "\n",
              "    .dataframe thead th {\n",
              "        text-align: right;\n",
              "    }\n",
              "</style>\n",
              "<table border=\"1\" class=\"dataframe\">\n",
              "  <thead>\n",
              "    <tr style=\"text-align: right;\">\n",
              "      <th></th>\n",
              "      <th>Close</th>\n",
              "      <th>Open</th>\n",
              "      <th>High</th>\n",
              "      <th>Low</th>\n",
              "      <th>Volume</th>\n",
              "      <th>Change</th>\n",
              "    </tr>\n",
              "    <tr>\n",
              "      <th>Date</th>\n",
              "      <th></th>\n",
              "      <th></th>\n",
              "      <th></th>\n",
              "      <th></th>\n",
              "      <th></th>\n",
              "      <th></th>\n",
              "    </tr>\n",
              "  </thead>\n",
              "  <tbody>\n",
              "    <tr>\n",
              "      <th>1997-01-02</th>\n",
              "      <td>0.19</td>\n",
              "      <td>0.19</td>\n",
              "      <td>0.19</td>\n",
              "      <td>0.19</td>\n",
              "      <td>1.431100e+08</td>\n",
              "      <td>0.0000</td>\n",
              "    </tr>\n",
              "    <tr>\n",
              "      <th>1997-01-03</th>\n",
              "      <td>0.19</td>\n",
              "      <td>0.19</td>\n",
              "      <td>0.20</td>\n",
              "      <td>0.19</td>\n",
              "      <td>1.197200e+08</td>\n",
              "      <td>0.0000</td>\n",
              "    </tr>\n",
              "    <tr>\n",
              "      <th>1997-01-06</th>\n",
              "      <td>0.16</td>\n",
              "      <td>0.16</td>\n",
              "      <td>0.16</td>\n",
              "      <td>0.15</td>\n",
              "      <td>1.880000e+09</td>\n",
              "      <td>-0.1579</td>\n",
              "    </tr>\n",
              "    <tr>\n",
              "      <th>1997-01-07</th>\n",
              "      <td>0.16</td>\n",
              "      <td>0.16</td>\n",
              "      <td>0.16</td>\n",
              "      <td>0.16</td>\n",
              "      <td>9.764200e+08</td>\n",
              "      <td>0.0000</td>\n",
              "    </tr>\n",
              "    <tr>\n",
              "      <th>1997-01-08</th>\n",
              "      <td>0.16</td>\n",
              "      <td>0.16</td>\n",
              "      <td>0.16</td>\n",
              "      <td>0.16</td>\n",
              "      <td>1.100000e+09</td>\n",
              "      <td>0.0000</td>\n",
              "    </tr>\n",
              "    <tr>\n",
              "      <th>1997-01-09</th>\n",
              "      <td>0.16</td>\n",
              "      <td>0.16</td>\n",
              "      <td>0.16</td>\n",
              "      <td>0.16</td>\n",
              "      <td>4.465400e+08</td>\n",
              "      <td>0.0000</td>\n",
              "    </tr>\n",
              "    <tr>\n",
              "      <th>1997-01-10</th>\n",
              "      <td>0.16</td>\n",
              "      <td>0.16</td>\n",
              "      <td>0.16</td>\n",
              "      <td>0.16</td>\n",
              "      <td>3.537400e+08</td>\n",
              "      <td>0.0000</td>\n",
              "    </tr>\n",
              "    <tr>\n",
              "      <th>1997-01-13</th>\n",
              "      <td>0.16</td>\n",
              "      <td>0.17</td>\n",
              "      <td>0.17</td>\n",
              "      <td>0.16</td>\n",
              "      <td>3.057500e+08</td>\n",
              "      <td>0.0000</td>\n",
              "    </tr>\n",
              "    <tr>\n",
              "      <th>1997-01-14</th>\n",
              "      <td>0.16</td>\n",
              "      <td>0.16</td>\n",
              "      <td>0.16</td>\n",
              "      <td>0.16</td>\n",
              "      <td>2.557700e+08</td>\n",
              "      <td>0.0000</td>\n",
              "    </tr>\n",
              "    <tr>\n",
              "      <th>1997-01-15</th>\n",
              "      <td>0.15</td>\n",
              "      <td>0.16</td>\n",
              "      <td>0.16</td>\n",
              "      <td>0.15</td>\n",
              "      <td>4.330900e+08</td>\n",
              "      <td>-0.0625</td>\n",
              "    </tr>\n",
              "  </tbody>\n",
              "</table>\n",
              "</div>"
            ],
            "text/plain": [
              "            Close  Open  High   Low        Volume  Change\n",
              "Date                                                     \n",
              "1997-01-02   0.19  0.19  0.19  0.19  1.431100e+08  0.0000\n",
              "1997-01-03   0.19  0.19  0.20  0.19  1.197200e+08  0.0000\n",
              "1997-01-06   0.16  0.16  0.16  0.15  1.880000e+09 -0.1579\n",
              "1997-01-07   0.16  0.16  0.16  0.16  9.764200e+08  0.0000\n",
              "1997-01-08   0.16  0.16  0.16  0.16  1.100000e+09  0.0000\n",
              "1997-01-09   0.16  0.16  0.16  0.16  4.465400e+08  0.0000\n",
              "1997-01-10   0.16  0.16  0.16  0.16  3.537400e+08  0.0000\n",
              "1997-01-13   0.16  0.17  0.17  0.16  3.057500e+08  0.0000\n",
              "1997-01-14   0.16  0.16  0.16  0.16  2.557700e+08  0.0000\n",
              "1997-01-15   0.15  0.16  0.16  0.15  4.330900e+08 -0.0625"
            ]
          },
          "metadata": {
            "tags": []
          },
          "execution_count": 36
        }
      ]
    },
    {
      "cell_type": "code",
      "metadata": {
        "id": "8nl3g1kJ5P4L",
        "colab": {
          "base_uri": "https://localhost:8080/",
          "height": 80
        },
        "outputId": "8f27c902-ab4e-4b9c-a468-9741122efb18"
      },
      "source": [
        "import numpy as np\n",
        "appl[appl.isin([np.nan, np.inf, -np.inf]).any(1)] #하나라도 결측치 있으면 행 출력"
      ],
      "execution_count": 37,
      "outputs": [
        {
          "output_type": "execute_result",
          "data": {
            "text/html": [
              "<div>\n",
              "<style scoped>\n",
              "    .dataframe tbody tr th:only-of-type {\n",
              "        vertical-align: middle;\n",
              "    }\n",
              "\n",
              "    .dataframe tbody tr th {\n",
              "        vertical-align: top;\n",
              "    }\n",
              "\n",
              "    .dataframe thead th {\n",
              "        text-align: right;\n",
              "    }\n",
              "</style>\n",
              "<table border=\"1\" class=\"dataframe\">\n",
              "  <thead>\n",
              "    <tr style=\"text-align: right;\">\n",
              "      <th></th>\n",
              "      <th>Close</th>\n",
              "      <th>Open</th>\n",
              "      <th>High</th>\n",
              "      <th>Low</th>\n",
              "      <th>Volume</th>\n",
              "      <th>Change</th>\n",
              "    </tr>\n",
              "    <tr>\n",
              "      <th>Date</th>\n",
              "      <th></th>\n",
              "      <th></th>\n",
              "      <th></th>\n",
              "      <th></th>\n",
              "      <th></th>\n",
              "      <th></th>\n",
              "    </tr>\n",
              "  </thead>\n",
              "  <tbody>\n",
              "  </tbody>\n",
              "</table>\n",
              "</div>"
            ],
            "text/plain": [
              "Empty DataFrame\n",
              "Columns: [Close, Open, High, Low, Volume, Change]\n",
              "Index: []"
            ]
          },
          "metadata": {
            "tags": []
          },
          "execution_count": 37
        }
      ]
    },
    {
      "cell_type": "code",
      "metadata": {
        "id": "KRghNjzu5gWR",
        "colab": {
          "base_uri": "https://localhost:8080/",
          "height": 531
        },
        "outputId": "d1e23fc4-02f1-406a-9699-afb84986a708"
      },
      "source": [
        "aapl_price_df = appl.loc[:, ['Close']].copy()\n",
        "aapl_price_df.plot(figsize=(16, 9))"
      ],
      "execution_count": 38,
      "outputs": [
        {
          "output_type": "execute_result",
          "data": {
            "text/plain": [
              "<matplotlib.axes._subplots.AxesSubplot at 0x7ff17cf64790>"
            ]
          },
          "metadata": {
            "tags": []
          },
          "execution_count": 38
        },
        {
          "output_type": "display_data",
          "data": {
            "image/png": "[encoded data removed]",
            "text/plain": [
              "<Figure size 1152x648 with 1 Axes>"
            ]
          },
          "metadata": {
            "tags": [],
            "needs_background": "light"
          }
        }
      ]
    },
    {
      "cell_type": "code",
      "metadata": {
        "id": "Bwv-gSdf6DZF",
        "colab": {
          "base_uri": "https://localhost:8080/",
          "height": 390
        },
        "outputId": "df2cddac-09a2-4114-f5e4-fc6013197254"
      },
      "source": [
        "amzn = fdr.DataReader('AMZN', '1997')\n",
        "amzn.head(10)"
      ],
      "execution_count": 39,
      "outputs": [
        {
          "output_type": "execute_result",
          "data": {
            "text/html": [
              "<div>\n",
              "<style scoped>\n",
              "    .dataframe tbody tr th:only-of-type {\n",
              "        vertical-align: middle;\n",
              "    }\n",
              "\n",
              "    .dataframe tbody tr th {\n",
              "        vertical-align: top;\n",
              "    }\n",
              "\n",
              "    .dataframe thead th {\n",
              "        text-align: right;\n",
              "    }\n",
              "</style>\n",
              "<table border=\"1\" class=\"dataframe\">\n",
              "  <thead>\n",
              "    <tr style=\"text-align: right;\">\n",
              "      <th></th>\n",
              "      <th>Close</th>\n",
              "      <th>Open</th>\n",
              "      <th>High</th>\n",
              "      <th>Low</th>\n",
              "      <th>Volume</th>\n",
              "      <th>Change</th>\n",
              "    </tr>\n",
              "    <tr>\n",
              "      <th>Date</th>\n",
              "      <th></th>\n",
              "      <th></th>\n",
              "      <th></th>\n",
              "      <th></th>\n",
              "      <th></th>\n",
              "      <th></th>\n",
              "    </tr>\n",
              "  </thead>\n",
              "  <tbody>\n",
              "    <tr>\n",
              "      <th>1997-05-15</th>\n",
              "      <td>1.96</td>\n",
              "      <td>2.44</td>\n",
              "      <td>2.50</td>\n",
              "      <td>1.93</td>\n",
              "      <td>72160000.0</td>\n",
              "      <td>-0.9962</td>\n",
              "    </tr>\n",
              "    <tr>\n",
              "      <th>1997-05-16</th>\n",
              "      <td>1.73</td>\n",
              "      <td>1.97</td>\n",
              "      <td>1.98</td>\n",
              "      <td>1.71</td>\n",
              "      <td>14700000.0</td>\n",
              "      <td>-0.1173</td>\n",
              "    </tr>\n",
              "    <tr>\n",
              "      <th>1997-05-19</th>\n",
              "      <td>1.71</td>\n",
              "      <td>1.76</td>\n",
              "      <td>1.77</td>\n",
              "      <td>1.62</td>\n",
              "      <td>6110000.0</td>\n",
              "      <td>-0.0116</td>\n",
              "    </tr>\n",
              "    <tr>\n",
              "      <th>1997-05-20</th>\n",
              "      <td>1.64</td>\n",
              "      <td>1.73</td>\n",
              "      <td>1.75</td>\n",
              "      <td>1.64</td>\n",
              "      <td>5470000.0</td>\n",
              "      <td>-0.0409</td>\n",
              "    </tr>\n",
              "    <tr>\n",
              "      <th>1997-05-21</th>\n",
              "      <td>1.43</td>\n",
              "      <td>1.64</td>\n",
              "      <td>1.65</td>\n",
              "      <td>1.37</td>\n",
              "      <td>18850000.0</td>\n",
              "      <td>-0.1280</td>\n",
              "    </tr>\n",
              "    <tr>\n",
              "      <th>1997-05-22</th>\n",
              "      <td>1.40</td>\n",
              "      <td>1.44</td>\n",
              "      <td>1.45</td>\n",
              "      <td>1.31</td>\n",
              "      <td>11670000.0</td>\n",
              "      <td>-0.0210</td>\n",
              "    </tr>\n",
              "    <tr>\n",
              "      <th>1997-05-23</th>\n",
              "      <td>1.50</td>\n",
              "      <td>1.41</td>\n",
              "      <td>1.52</td>\n",
              "      <td>1.33</td>\n",
              "      <td>15940000.0</td>\n",
              "      <td>0.0714</td>\n",
              "    </tr>\n",
              "    <tr>\n",
              "      <th>1997-05-27</th>\n",
              "      <td>1.58</td>\n",
              "      <td>1.51</td>\n",
              "      <td>1.65</td>\n",
              "      <td>1.46</td>\n",
              "      <td>8700000.0</td>\n",
              "      <td>0.0533</td>\n",
              "    </tr>\n",
              "    <tr>\n",
              "      <th>1997-05-28</th>\n",
              "      <td>1.53</td>\n",
              "      <td>1.62</td>\n",
              "      <td>1.64</td>\n",
              "      <td>1.53</td>\n",
              "      <td>4570000.0</td>\n",
              "      <td>-0.0316</td>\n",
              "    </tr>\n",
              "    <tr>\n",
              "      <th>1997-05-29</th>\n",
              "      <td>1.51</td>\n",
              "      <td>1.54</td>\n",
              "      <td>1.54</td>\n",
              "      <td>1.48</td>\n",
              "      <td>3470000.0</td>\n",
              "      <td>-0.0131</td>\n",
              "    </tr>\n",
              "  </tbody>\n",
              "</table>\n",
              "</div>"
            ],
            "text/plain": [
              "            Close  Open  High   Low      Volume  Change\n",
              "Date                                                   \n",
              "1997-05-15   1.96  2.44  2.50  1.93  72160000.0 -0.9962\n",
              "1997-05-16   1.73  1.97  1.98  1.71  14700000.0 -0.1173\n",
              "1997-05-19   1.71  1.76  1.77  1.62   6110000.0 -0.0116\n",
              "1997-05-20   1.64  1.73  1.75  1.64   5470000.0 -0.0409\n",
              "1997-05-21   1.43  1.64  1.65  1.37  18850000.0 -0.1280\n",
              "1997-05-22   1.40  1.44  1.45  1.31  11670000.0 -0.0210\n",
              "1997-05-23   1.50  1.41  1.52  1.33  15940000.0  0.0714\n",
              "1997-05-27   1.58  1.51  1.65  1.46   8700000.0  0.0533\n",
              "1997-05-28   1.53  1.62  1.64  1.53   4570000.0 -0.0316\n",
              "1997-05-29   1.51  1.54  1.54  1.48   3470000.0 -0.0131"
            ]
          },
          "metadata": {
            "tags": []
          },
          "execution_count": 39
        }
      ]
    },
    {
      "cell_type": "code",
      "metadata": {
        "id": "5S7OjrQJ682h",
        "colab": {
          "base_uri": "https://localhost:8080/",
          "height": 531
        },
        "outputId": "e3c63d79-864d-46bf-83e5-f816adbc0dbd"
      },
      "source": [
        "amzn_close_df = amzn.loc[:, ['Close']].copy()\n",
        "amzn_close_df.plot(figsize=(16, 9))"
      ],
      "execution_count": 40,
      "outputs": [
        {
          "output_type": "execute_result",
          "data": {
            "text/plain": [
              "<matplotlib.axes._subplots.AxesSubplot at 0x7ff17d32cc90>"
            ]
          },
          "metadata": {
            "tags": []
          },
          "execution_count": 40
        },
        {
          "output_type": "display_data",
          "data": {
            "image/png": "[encoded data removed]",
            "text/plain": [
              "<Figure size 1152x648 with 1 Axes>"
            ]
          },
          "metadata": {
            "tags": [],
            "needs_background": "light"
          }
        }
      ]
    },
    {
      "cell_type": "code",
      "metadata": {
        "id": "HpjrqInz7XQo",
        "colab": {
          "base_uri": "https://localhost:8080/",
          "height": 531
        },
        "outputId": "40c9b004-45b8-4638-bfba-9d614d59530c"
      },
      "source": [
        "from_date = '1997-01-03'\n",
        "to_date = '2003-01-03'\n",
        "amzn_close_df.loc[from_date:to_date].plot(figsize=(16,9)) # 100에서 10으로 폭락. 하락한 비율 중 최대 하락률을 MDD(maximum draw down)라고 한다."
      ],
      "execution_count": 41,
      "outputs": [
        {
          "output_type": "execute_result",
          "data": {
            "text/plain": [
              "<matplotlib.axes._subplots.AxesSubplot at 0x7ff17d68e3d0>"
            ]
          },
          "metadata": {
            "tags": []
          },
          "execution_count": 41
        },
        {
          "output_type": "display_data",
          "data": {
            "image/png": "[encoded data removed]",
            "text/plain": [
              "<Figure size 1152x648 with 1 Axes>"
            ]
          },
          "metadata": {
            "tags": [],
            "needs_background": "light"
          }
        }
      ]
    },
    {
      "cell_type": "markdown",
      "metadata": {
        "id": "cfNiHYHZ8XGy"
      },
      "source": [
        "## 일별 수익률 계산\n",
        "일별 수익률을 누적으로 곱하면 매수한 시점 대비 매도한 시점의 종가 수익률 계산 가능.\n"
      ]
    },
    {
      "cell_type": "code",
      "metadata": {
        "id": "Invy4kyO78X8",
        "colab": {
          "base_uri": "https://localhost:8080/",
          "height": 390
        },
        "outputId": "9f333001-6c3f-4875-dae5-6a4ef56c8fa1"
      },
      "source": [
        "amzn_close_df['daily_rtn'] = amzn_close_df['Close'].pct_change()\n",
        "amzn_close_df.head(10)"
      ],
      "execution_count": 42,
      "outputs": [
        {
          "output_type": "execute_result",
          "data": {
            "text/html": [
              "<div>\n",
              "<style scoped>\n",
              "    .dataframe tbody tr th:only-of-type {\n",
              "        vertical-align: middle;\n",
              "    }\n",
              "\n",
              "    .dataframe tbody tr th {\n",
              "        vertical-align: top;\n",
              "    }\n",
              "\n",
              "    .dataframe thead th {\n",
              "        text-align: right;\n",
              "    }\n",
              "</style>\n",
              "<table border=\"1\" class=\"dataframe\">\n",
              "  <thead>\n",
              "    <tr style=\"text-align: right;\">\n",
              "      <th></th>\n",
              "      <th>Close</th>\n",
              "      <th>daily_rtn</th>\n",
              "    </tr>\n",
              "    <tr>\n",
              "      <th>Date</th>\n",
              "      <th></th>\n",
              "      <th></th>\n",
              "    </tr>\n",
              "  </thead>\n",
              "  <tbody>\n",
              "    <tr>\n",
              "      <th>1997-05-15</th>\n",
              "      <td>1.96</td>\n",
              "      <td>NaN</td>\n",
              "    </tr>\n",
              "    <tr>\n",
              "      <th>1997-05-16</th>\n",
              "      <td>1.73</td>\n",
              "      <td>-0.117347</td>\n",
              "    </tr>\n",
              "    <tr>\n",
              "      <th>1997-05-19</th>\n",
              "      <td>1.71</td>\n",
              "      <td>-0.011561</td>\n",
              "    </tr>\n",
              "    <tr>\n",
              "      <th>1997-05-20</th>\n",
              "      <td>1.64</td>\n",
              "      <td>-0.040936</td>\n",
              "    </tr>\n",
              "    <tr>\n",
              "      <th>1997-05-21</th>\n",
              "      <td>1.43</td>\n",
              "      <td>-0.128049</td>\n",
              "    </tr>\n",
              "    <tr>\n",
              "      <th>1997-05-22</th>\n",
              "      <td>1.40</td>\n",
              "      <td>-0.020979</td>\n",
              "    </tr>\n",
              "    <tr>\n",
              "      <th>1997-05-23</th>\n",
              "      <td>1.50</td>\n",
              "      <td>0.071429</td>\n",
              "    </tr>\n",
              "    <tr>\n",
              "      <th>1997-05-27</th>\n",
              "      <td>1.58</td>\n",
              "      <td>0.053333</td>\n",
              "    </tr>\n",
              "    <tr>\n",
              "      <th>1997-05-28</th>\n",
              "      <td>1.53</td>\n",
              "      <td>-0.031646</td>\n",
              "    </tr>\n",
              "    <tr>\n",
              "      <th>1997-05-29</th>\n",
              "      <td>1.51</td>\n",
              "      <td>-0.013072</td>\n",
              "    </tr>\n",
              "  </tbody>\n",
              "</table>\n",
              "</div>"
            ],
            "text/plain": [
              "            Close  daily_rtn\n",
              "Date                        \n",
              "1997-05-15   1.96        NaN\n",
              "1997-05-16   1.73  -0.117347\n",
              "1997-05-19   1.71  -0.011561\n",
              "1997-05-20   1.64  -0.040936\n",
              "1997-05-21   1.43  -0.128049\n",
              "1997-05-22   1.40  -0.020979\n",
              "1997-05-23   1.50   0.071429\n",
              "1997-05-27   1.58   0.053333\n",
              "1997-05-28   1.53  -0.031646\n",
              "1997-05-29   1.51  -0.013072"
            ]
          },
          "metadata": {
            "tags": []
          },
          "execution_count": 42
        }
      ]
    },
    {
      "cell_type": "code",
      "metadata": {
        "id": "C-eLF6id7PHA",
        "colab": {
          "base_uri": "https://localhost:8080/",
          "height": 235
        },
        "outputId": "d434180e-28aa-4821-da4f-640841a7c753"
      },
      "source": [
        "amzn_close_df['st_rtn'] = (1+amzn_close_df['daily_rtn']).cumprod()\n",
        "amzn_close_df.head()"
      ],
      "execution_count": 43,
      "outputs": [
        {
          "output_type": "execute_result",
          "data": {
            "text/html": [
              "<div>\n",
              "<style scoped>\n",
              "    .dataframe tbody tr th:only-of-type {\n",
              "        vertical-align: middle;\n",
              "    }\n",
              "\n",
              "    .dataframe tbody tr th {\n",
              "        vertical-align: top;\n",
              "    }\n",
              "\n",
              "    .dataframe thead th {\n",
              "        text-align: right;\n",
              "    }\n",
              "</style>\n",
              "<table border=\"1\" class=\"dataframe\">\n",
              "  <thead>\n",
              "    <tr style=\"text-align: right;\">\n",
              "      <th></th>\n",
              "      <th>Close</th>\n",
              "      <th>daily_rtn</th>\n",
              "      <th>st_rtn</th>\n",
              "    </tr>\n",
              "    <tr>\n",
              "      <th>Date</th>\n",
              "      <th></th>\n",
              "      <th></th>\n",
              "      <th></th>\n",
              "    </tr>\n",
              "  </thead>\n",
              "  <tbody>\n",
              "    <tr>\n",
              "      <th>1997-05-15</th>\n",
              "      <td>1.96</td>\n",
              "      <td>NaN</td>\n",
              "      <td>NaN</td>\n",
              "    </tr>\n",
              "    <tr>\n",
              "      <th>1997-05-16</th>\n",
              "      <td>1.73</td>\n",
              "      <td>-0.117347</td>\n",
              "      <td>0.882653</td>\n",
              "    </tr>\n",
              "    <tr>\n",
              "      <th>1997-05-19</th>\n",
              "      <td>1.71</td>\n",
              "      <td>-0.011561</td>\n",
              "      <td>0.872449</td>\n",
              "    </tr>\n",
              "    <tr>\n",
              "      <th>1997-05-20</th>\n",
              "      <td>1.64</td>\n",
              "      <td>-0.040936</td>\n",
              "      <td>0.836735</td>\n",
              "    </tr>\n",
              "    <tr>\n",
              "      <th>1997-05-21</th>\n",
              "      <td>1.43</td>\n",
              "      <td>-0.128049</td>\n",
              "      <td>0.729592</td>\n",
              "    </tr>\n",
              "  </tbody>\n",
              "</table>\n",
              "</div>"
            ],
            "text/plain": [
              "            Close  daily_rtn    st_rtn\n",
              "Date                                  \n",
              "1997-05-15   1.96        NaN       NaN\n",
              "1997-05-16   1.73  -0.117347  0.882653\n",
              "1997-05-19   1.71  -0.011561  0.872449\n",
              "1997-05-20   1.64  -0.040936  0.836735\n",
              "1997-05-21   1.43  -0.128049  0.729592"
            ]
          },
          "metadata": {
            "tags": []
          },
          "execution_count": 43
        }
      ]
    },
    {
      "cell_type": "code",
      "metadata": {
        "id": "X0QtJ9I3-Nky",
        "colab": {
          "base_uri": "https://localhost:8080/",
          "height": 531
        },
        "outputId": "f670203f-45e2-4888-d21f-8592c8965cf9"
      },
      "source": [
        "amzn_close_df['st_rtn'].plot(figsize = (16, 9))"
      ],
      "execution_count": 44,
      "outputs": [
        {
          "output_type": "execute_result",
          "data": {
            "text/plain": [
              "<matplotlib.axes._subplots.AxesSubplot at 0x7ff17e1df690>"
            ]
          },
          "metadata": {
            "tags": []
          },
          "execution_count": 44
        },
        {
          "output_type": "display_data",
          "data": {
            "image/png": "[encoded data removed]",
            "text/plain": [
              "<Figure size 1152x648 with 1 Axes>"
            ]
          },
          "metadata": {
            "tags": [],
            "needs_background": "light"
          }
        }
      ]
    },
    {
      "cell_type": "code",
      "metadata": {
        "id": "bog-NDAb-oLp",
        "colab": {
          "base_uri": "https://localhost:8080/",
          "height": 550
        },
        "outputId": "1a487360-3e84-492a-f931-fa996c3d3c72"
      },
      "source": [
        "base_date = '2011-01-03'\n",
        "tmp_df = amzn_close_df.loc[base_date:, ['st_rtn']] / amzn_close_df.loc[base_date, ['st_rtn']]\n",
        "last_date = tmp_df.index[-1]\n",
        "print('누적 수익:  {}% '.format(tmp_df.loc[last_date, 'st_rtn'] * 100))\n",
        "tmp_df.plot(figsize=(16, 9))"
      ],
      "execution_count": 45,
      "outputs": [
        {
          "output_type": "stream",
          "text": [
            "누적 수익:  1845.6193681467937% \n"
          ],
          "name": "stdout"
        },
        {
          "output_type": "execute_result",
          "data": {
            "text/plain": [
              "<matplotlib.axes._subplots.AxesSubplot at 0x7ff17e249050>"
            ]
          },
          "metadata": {
            "tags": []
          },
          "execution_count": 45
        },
        {
          "output_type": "display_data",
          "data": {
            "image/png": "[encoded data removed]",
            "text/plain": [
              "<Figure size 1152x648 with 1 Axes>"
            ]
          },
          "metadata": {
            "tags": [],
            "needs_background": "light"
          }
        }
      ]
    },
    {
      "cell_type": "markdown",
      "metadata": {
        "id": "NWMH9k_kBnx9"
      },
      "source": [
        "- CAGR (compound annual growth rate) 연평균 복리 수익률\n",
        "- MDD (maximum draw down) 최대 낙폭\n",
        "- Vol (Valaility) 변동성\n",
        "- Sharpe ratio 샤프 지수"
      ]
    },
    {
      "cell_type": "code",
      "metadata": {
        "id": "ab1MHtgrAGkR"
      },
      "source": [
        "CAGR = amzn_close_df.loc['2019-06-24','st_rtn'] ** (252./len(amzn_close_df.index)) - 1 # 금융공학에서 1년은 252일임. \n",
        "# 최종 누적 수익률에 지난 연도를 제곱하고 1을 빼면 연 평균 복리 수익률이 나온다. index 는 날짜이므로 전체길이로 252를 나눈 수 "
      ],
      "execution_count": 46,
      "outputs": []
    },
    {
      "cell_type": "code",
      "metadata": {
        "id": "kvVHFsMVCWoj",
        "colab": {
          "base_uri": "https://localhost:8080/"
        },
        "outputId": "c019e6f8-b03c-4052-946c-b872f83a557d"
      },
      "source": [
        "CAGR"
      ],
      "execution_count": 47,
      "outputs": [
        {
          "output_type": "execute_result",
          "data": {
            "text/plain": [
              "0.33410583096006996"
            ]
          },
          "metadata": {
            "tags": []
          },
          "execution_count": 47
        }
      ]
    },
    {
      "cell_type": "markdown",
      "metadata": {
        "id": "tZXeIAwyJ2gG"
      },
      "source": [
        "# 최대 낙폭 \n",
        "MDD (maximun draw down)\n",
        "\n",
        "(trough value - peak value)/ peak_value\n",
        "관측 기간 동안 제일 많이 떨어지는 구간에 대한 낙폭.\n",
        "이전 최대값에서 떨어진 비율이다."
      ]
    },
    {
      "cell_type": "code",
      "metadata": {
        "id": "ZETygQx4JuKI",
        "colab": {
          "base_uri": "https://localhost:8080/"
        },
        "outputId": "76b8a0ab-218e-41af-c874-ef351e18496d"
      },
      "source": [
        "peak_value = amzn_close_df[\"Close\"].max()\n",
        "trough_value = amzn_close_df[\"Close\"].min()\n",
        "print(peak_value, trough_value)\n",
        "# 이렇게 구할 수는 없다. 이전 최대값이 아니기 때문에."
      ],
      "execution_count": 48,
      "outputs": [
        {
          "output_type": "stream",
          "text": [
            "3531.45 1.4\n"
          ],
          "name": "stdout"
        }
      ]
    },
    {
      "cell_type": "code",
      "metadata": {
        "id": "BlQgmWGTCXsA",
        "colab": {
          "base_uri": "https://localhost:8080/",
          "height": 507
        },
        "outputId": "4b36a86f-e242-45b7-a128-c5c4d70c319c"
      },
      "source": [
        "historical_max = amzn_close_df['Close'].cummax() #  누적 최대 값\n",
        "print(\"historical max: \", historical_max)\n",
        "daily_drawdown = amzn_close_df['Close']/historical_max - 1.0 # 그날까지의 최대 값 대비 그날의 값의 비율\n",
        "historical_dd = daily_drawdown.cummin() # 이전에 높았다가 떨어진 것의 비율 중 가장 많이 떨어진 것의 누적 최소 값. 크게 떨어지는 날들을 보다가 가장 크게 떨어지는 부분까지의 변화과정을 볼 수 있음. \n",
        "historical_dd.plot()\n",
        "MDD = historical_dd.min()\n",
        "MDD"
      ],
      "execution_count": 49,
      "outputs": [
        {
          "output_type": "stream",
          "text": [
            "historical max:  Date\n",
            "1997-05-15       1.96\n",
            "1997-05-16       1.96\n",
            "1997-05-19       1.96\n",
            "1997-05-20       1.96\n",
            "1997-05-21       1.96\n",
            "               ...   \n",
            "2021-04-07    3531.45\n",
            "2021-04-08    3531.45\n",
            "2021-04-09    3531.45\n",
            "2021-04-12    3531.45\n",
            "2021-04-13    3531.45\n",
            "Name: Close, Length: 6018, dtype: float64\n"
          ],
          "name": "stdout"
        },
        {
          "output_type": "execute_result",
          "data": {
            "text/plain": [
              "-0.9440434904864561"
            ]
          },
          "metadata": {
            "tags": []
          },
          "execution_count": 49
        },
        {
          "output_type": "display_data",
          "data": {
            "image/png": "[encoded data removed]",
            "text/plain": [
              "<Figure size 432x288 with 1 Axes>"
            ]
          },
          "metadata": {
            "tags": [],
            "needs_background": "light"
          }
        }
      ]
    },
    {
      "cell_type": "code",
      "metadata": {
        "id": "qQHezixFEynz"
      },
      "source": [
        "df = pd.DataFrame({'num_legs': [2, 4, 8, 0],\n",
        "                   'num_wings': [2, 0, 0, 0],\n",
        "                   'num_specimen_seen': [10, 2, 1, 8]},\n",
        "                  index=['falcon', 'dog', 'spider', 'fish'])"
      ],
      "execution_count": 50,
      "outputs": []
    },
    {
      "cell_type": "code",
      "metadata": {
        "id": "6ppZyp3gIlyp",
        "colab": {
          "base_uri": "https://localhost:8080/",
          "height": 173
        },
        "outputId": "ee7d7c79-0eb9-400d-8287-5b7e0b32a5c7"
      },
      "source": [
        "df"
      ],
      "execution_count": 51,
      "outputs": [
        {
          "output_type": "execute_result",
          "data": {
            "text/html": [
              "<div>\n",
              "<style scoped>\n",
              "    .dataframe tbody tr th:only-of-type {\n",
              "        vertical-align: middle;\n",
              "    }\n",
              "\n",
              "    .dataframe tbody tr th {\n",
              "        vertical-align: top;\n",
              "    }\n",
              "\n",
              "    .dataframe thead th {\n",
              "        text-align: right;\n",
              "    }\n",
              "</style>\n",
              "<table border=\"1\" class=\"dataframe\">\n",
              "  <thead>\n",
              "    <tr style=\"text-align: right;\">\n",
              "      <th></th>\n",
              "      <th>num_legs</th>\n",
              "      <th>num_wings</th>\n",
              "      <th>num_specimen_seen</th>\n",
              "    </tr>\n",
              "  </thead>\n",
              "  <tbody>\n",
              "    <tr>\n",
              "      <th>falcon</th>\n",
              "      <td>2</td>\n",
              "      <td>2</td>\n",
              "      <td>10</td>\n",
              "    </tr>\n",
              "    <tr>\n",
              "      <th>dog</th>\n",
              "      <td>4</td>\n",
              "      <td>0</td>\n",
              "      <td>2</td>\n",
              "    </tr>\n",
              "    <tr>\n",
              "      <th>spider</th>\n",
              "      <td>8</td>\n",
              "      <td>0</td>\n",
              "      <td>1</td>\n",
              "    </tr>\n",
              "    <tr>\n",
              "      <th>fish</th>\n",
              "      <td>0</td>\n",
              "      <td>0</td>\n",
              "      <td>8</td>\n",
              "    </tr>\n",
              "  </tbody>\n",
              "</table>\n",
              "</div>"
            ],
            "text/plain": [
              "        num_legs  num_wings  num_specimen_seen\n",
              "falcon         2          2                 10\n",
              "dog            4          0                  2\n",
              "spider         8          0                  1\n",
              "fish           0          0                  8"
            ]
          },
          "metadata": {
            "tags": []
          },
          "execution_count": 51
        }
      ]
    },
    {
      "cell_type": "code",
      "metadata": {
        "id": "AsLF52AKIn-U",
        "colab": {
          "base_uri": "https://localhost:8080/"
        },
        "outputId": "e38ec11f-8eb8-4db1-879e-f352bdaf7996"
      },
      "source": [
        "max = df['num_legs'].cummax()\n",
        "max"
      ],
      "execution_count": 52,
      "outputs": [
        {
          "output_type": "execute_result",
          "data": {
            "text/plain": [
              "falcon    2\n",
              "dog       4\n",
              "spider    8\n",
              "fish      8\n",
              "Name: num_legs, dtype: int64"
            ]
          },
          "metadata": {
            "tags": []
          },
          "execution_count": 52
        }
      ]
    },
    {
      "cell_type": "code",
      "metadata": {
        "id": "5ypGeUsfIuq-",
        "colab": {
          "base_uri": "https://localhost:8080/"
        },
        "outputId": "0fb4fb1b-b4ed-4990-fd14-c59708a98b3a"
      },
      "source": [
        "max = df['num_specimen_seen'].cummin()\n",
        "max"
      ],
      "execution_count": 53,
      "outputs": [
        {
          "output_type": "execute_result",
          "data": {
            "text/plain": [
              "falcon    10\n",
              "dog        2\n",
              "spider     1\n",
              "fish       1\n",
              "Name: num_specimen_seen, dtype: int64"
            ]
          },
          "metadata": {
            "tags": []
          },
          "execution_count": 53
        }
      ]
    },
    {
      "cell_type": "markdown",
      "metadata": {
        "id": "hpIS4-tTJi34"
      },
      "source": [
        "# 변동성\n",
        "주가 변화 수익률 관점에서의 변동률"
      ]
    },
    {
      "cell_type": "code",
      "metadata": {
        "id": "Yn09-yt0I0Fl"
      },
      "source": [
        "# 일 단위 변동성은 수익률의 표준 편차로 계산한다. 루이 바슐리에라는 사람이 투기이론에서 주가의 변동폭은 시간의 제곱근에 비례한다는 연구 결과를 내었다. \n",
        "VOL = np.std(amzn_close_df['daily_rtn']) * np.sqrt(252.) # 일단위 변동성을 연율화할 때 252의 제곱근을 곱한다. \n"
      ],
      "execution_count": 54,
      "outputs": []
    },
    {
      "cell_type": "code",
      "metadata": {
        "id": "FZ5fKS2cMOpb",
        "colab": {
          "base_uri": "https://localhost:8080/"
        },
        "outputId": "1250fa8a-b2af-41b8-ca79-f7aa1d6b314b"
      },
      "source": [
        "VOL"
      ],
      "execution_count": 55,
      "outputs": [
        {
          "output_type": "execute_result",
          "data": {
            "text/plain": [
              "0.5842266423446807"
            ]
          },
          "metadata": {
            "tags": []
          },
          "execution_count": 55
        }
      ]
    },
    {
      "cell_type": "markdown",
      "metadata": {
        "id": "ChY75gCOPf0j"
      },
      "source": [
        "# Sharp \n",
        " 샤프 지수는 위험 대비 수익성 지표. \n",
        "실현 수익률의 산술 평균/실현 수익률의 변동성으로 계산.\n"
      ]
    },
    {
      "cell_type": "code",
      "metadata": {
        "id": "iKcHJf9jMPYQ"
      },
      "source": [
        "Sharp = np.mean(amzn_close_df['daily_rtn']) / np.std(amzn_close_df['daily_rtn']) * np.sqrt(252.)"
      ],
      "execution_count": 56,
      "outputs": []
    },
    {
      "cell_type": "code",
      "metadata": {
        "id": "jfj2dv9xOPSD",
        "colab": {
          "base_uri": "https://localhost:8080/"
        },
        "outputId": "a55331c5-252c-4832-ceed-5f5b0239e9d3"
      },
      "source": [
        "Sharp"
      ],
      "execution_count": 57,
      "outputs": [
        {
          "output_type": "execute_result",
          "data": {
            "text/plain": [
              "0.8214049430578757"
            ]
          },
          "metadata": {
            "tags": []
          },
          "execution_count": 57
        }
      ]
    },
    {
      "cell_type": "code",
      "metadata": {
        "colab": {
          "base_uri": "https://localhost:8080/"
        },
        "id": "cCmxUVpEOQZY",
        "outputId": "2c00372a-fe24-4b4c-ea81-83af86a86bdb"
      },
      "source": [
        "print('CAGR: ', round(CAGR * 100, 2), '%')\n",
        "print('Sharpe: ', round(Sharp, 2))\n",
        "print('VOL: ', round(VOL*100, 2), '%')\n",
        "print('MDD: ', round(-1*MDD*100, 2), '%')"
      ],
      "execution_count": 58,
      "outputs": [
        {
          "output_type": "stream",
          "text": [
            "CAGR:  33.41 %\n",
            "Sharpe:  0.82\n",
            "VOL:  58.42 %\n",
            "MDD:  94.4 %\n"
          ],
          "name": "stdout"
        }
      ]
    },
    {
      "cell_type": "markdown",
      "metadata": {
        "id": "OVwAxesZevy7"
      },
      "source": [
        "## 4장"
      ]
    },
    {
      "cell_type": "code",
      "metadata": {
        "colab": {
          "base_uri": "https://localhost:8080/",
          "height": 235
        },
        "id": "l3TWcjHJfJCd",
        "outputId": "a62d26ee-4669-46de-f41d-4296a2250ffc"
      },
      "source": [
        "# df_etf_us = fdr.StockListing('ETF/US')\n",
        "# df = fdr.DataReader('SPY')\n",
        "# df.head()\n",
        "\n",
        "# 이건 수정 종가가 안나와서 야후에서 다시 받음"
      ],
      "execution_count": 69,
      "outputs": [
        {
          "output_type": "execute_result",
          "data": {
            "text/html": [
              "<div>\n",
              "<style scoped>\n",
              "    .dataframe tbody tr th:only-of-type {\n",
              "        vertical-align: middle;\n",
              "    }\n",
              "\n",
              "    .dataframe tbody tr th {\n",
              "        vertical-align: top;\n",
              "    }\n",
              "\n",
              "    .dataframe thead th {\n",
              "        text-align: right;\n",
              "    }\n",
              "</style>\n",
              "<table border=\"1\" class=\"dataframe\">\n",
              "  <thead>\n",
              "    <tr style=\"text-align: right;\">\n",
              "      <th></th>\n",
              "      <th>Close</th>\n",
              "      <th>Open</th>\n",
              "      <th>High</th>\n",
              "      <th>Low</th>\n",
              "      <th>Volume</th>\n",
              "      <th>Change</th>\n",
              "    </tr>\n",
              "    <tr>\n",
              "      <th>Date</th>\n",
              "      <th></th>\n",
              "      <th></th>\n",
              "      <th></th>\n",
              "      <th></th>\n",
              "      <th></th>\n",
              "      <th></th>\n",
              "    </tr>\n",
              "  </thead>\n",
              "  <tbody>\n",
              "    <tr>\n",
              "      <th>1993-02-01</th>\n",
              "      <td>44.25</td>\n",
              "      <td>43.97</td>\n",
              "      <td>44.25</td>\n",
              "      <td>43.97</td>\n",
              "      <td>480500.0</td>\n",
              "      <td>0.0071</td>\n",
              "    </tr>\n",
              "    <tr>\n",
              "      <th>1993-02-02</th>\n",
              "      <td>44.34</td>\n",
              "      <td>44.22</td>\n",
              "      <td>44.38</td>\n",
              "      <td>44.12</td>\n",
              "      <td>201300.0</td>\n",
              "      <td>0.0020</td>\n",
              "    </tr>\n",
              "    <tr>\n",
              "      <th>1993-02-03</th>\n",
              "      <td>44.81</td>\n",
              "      <td>44.41</td>\n",
              "      <td>44.84</td>\n",
              "      <td>44.38</td>\n",
              "      <td>529400.0</td>\n",
              "      <td>0.0106</td>\n",
              "    </tr>\n",
              "    <tr>\n",
              "      <th>1993-02-04</th>\n",
              "      <td>45.00</td>\n",
              "      <td>44.97</td>\n",
              "      <td>45.09</td>\n",
              "      <td>44.88</td>\n",
              "      <td>531500.0</td>\n",
              "      <td>0.0042</td>\n",
              "    </tr>\n",
              "    <tr>\n",
              "      <th>1993-02-05</th>\n",
              "      <td>44.97</td>\n",
              "      <td>44.97</td>\n",
              "      <td>45.06</td>\n",
              "      <td>44.72</td>\n",
              "      <td>492100.0</td>\n",
              "      <td>-0.0007</td>\n",
              "    </tr>\n",
              "  </tbody>\n",
              "</table>\n",
              "</div>"
            ],
            "text/plain": [
              "            Close   Open   High    Low    Volume  Change\n",
              "Date                                                    \n",
              "1993-02-01  44.25  43.97  44.25  43.97  480500.0  0.0071\n",
              "1993-02-02  44.34  44.22  44.38  44.12  201300.0  0.0020\n",
              "1993-02-03  44.81  44.41  44.84  44.38  529400.0  0.0106\n",
              "1993-02-04  45.00  44.97  45.09  44.88  531500.0  0.0042\n",
              "1993-02-05  44.97  44.97  45.06  44.72  492100.0 -0.0007"
            ]
          },
          "metadata": {
            "tags": []
          },
          "execution_count": 69
        }
      ]
    },
    {
      "cell_type": "markdown",
      "metadata": {
        "id": "2Z9iCqYKeyNI"
      },
      "source": [
        "ETF 종목 리스트\n",
        "국가(country)별 ETF 종목 리스트를 가져오는 기능 추가되었습니다. 지원하는 국가는 다음과 같으며 기본값은 'KR'(한국)입니다.\n",
        "\n",
        "- 'KR': 한국 (기본값)\n",
        "- 'US': 미국\n",
        "- 'CN': 중국\n",
        "- 'HK': 홍콩\n",
        "- 'JP': 일본\n",
        "- 'UK': 영국\n",
        "- 'FR': 프랑스\n",
        "\n",
        "- df_etf_kr = fdr.StockListing('ETF/KR') \n",
        "- df_etf_us = fdr.StockListing('ETF/US')\n",
        "현재(2019년 8월 기준) 한국에 상장된 ETF 종목은 모두 436종목 전체의 코드와 종목명을 가져옵니다. 나머지 개별 국가의 ETF 코드와 종목명을 가져옵니다. (미국의 경우 1000개)"
      ]
    },
    {
      "cell_type": "markdown",
      "metadata": {
        "id": "YHiknR5Dh2q_"
      },
      "source": [
        "https://todo-wr-sth.tistory.com/7"
      ]
    },
    {
      "cell_type": "code",
      "metadata": {
        "colab": {
          "base_uri": "https://localhost:8080/"
        },
        "id": "v3yAtdVHwK6P",
        "outputId": "5162f7e4-0fcf-4c1c-9a90-17310ca65be5"
      },
      "source": [
        "from google.colab import drive\n",
        "drive.mount('/content/drive')"
      ],
      "execution_count": 75,
      "outputs": [
        {
          "output_type": "stream",
          "text": [
            "Mounted at /content/drive\n"
          ],
          "name": "stdout"
        }
      ]
    },
    {
      "cell_type": "code",
      "metadata": {
        "id": "13RggmYvQIEZ",
        "colab": {
          "base_uri": "https://localhost:8080/",
          "height": 204
        },
        "outputId": "f5421839-84e5-419f-f828-fac95dfb5d9c"
      },
      "source": [
        "df = pd.read_csv('/content/drive/MyDrive/finance_study/SPY.csv')\n",
        "df.head()"
      ],
      "execution_count": 88,
      "outputs": [
        {
          "output_type": "execute_result",
          "data": {
            "text/html": [
              "<div>\n",
              "<style scoped>\n",
              "    .dataframe tbody tr th:only-of-type {\n",
              "        vertical-align: middle;\n",
              "    }\n",
              "\n",
              "    .dataframe tbody tr th {\n",
              "        vertical-align: top;\n",
              "    }\n",
              "\n",
              "    .dataframe thead th {\n",
              "        text-align: right;\n",
              "    }\n",
              "</style>\n",
              "<table border=\"1\" class=\"dataframe\">\n",
              "  <thead>\n",
              "    <tr style=\"text-align: right;\">\n",
              "      <th></th>\n",
              "      <th>Date</th>\n",
              "      <th>Open</th>\n",
              "      <th>High</th>\n",
              "      <th>Low</th>\n",
              "      <th>Close</th>\n",
              "      <th>Adj Close</th>\n",
              "      <th>Volume</th>\n",
              "    </tr>\n",
              "  </thead>\n",
              "  <tbody>\n",
              "    <tr>\n",
              "      <th>0</th>\n",
              "      <td>1993-01-29</td>\n",
              "      <td>43.96875</td>\n",
              "      <td>43.96875</td>\n",
              "      <td>43.75000</td>\n",
              "      <td>43.93750</td>\n",
              "      <td>25.884184</td>\n",
              "      <td>1003200</td>\n",
              "    </tr>\n",
              "    <tr>\n",
              "      <th>1</th>\n",
              "      <td>1993-02-01</td>\n",
              "      <td>43.96875</td>\n",
              "      <td>44.25000</td>\n",
              "      <td>43.96875</td>\n",
              "      <td>44.25000</td>\n",
              "      <td>26.068277</td>\n",
              "      <td>480500</td>\n",
              "    </tr>\n",
              "    <tr>\n",
              "      <th>2</th>\n",
              "      <td>1993-02-02</td>\n",
              "      <td>44.21875</td>\n",
              "      <td>44.37500</td>\n",
              "      <td>44.12500</td>\n",
              "      <td>44.34375</td>\n",
              "      <td>26.123499</td>\n",
              "      <td>201300</td>\n",
              "    </tr>\n",
              "    <tr>\n",
              "      <th>3</th>\n",
              "      <td>1993-02-03</td>\n",
              "      <td>44.40625</td>\n",
              "      <td>44.84375</td>\n",
              "      <td>44.37500</td>\n",
              "      <td>44.81250</td>\n",
              "      <td>26.399649</td>\n",
              "      <td>529400</td>\n",
              "    </tr>\n",
              "    <tr>\n",
              "      <th>4</th>\n",
              "      <td>1993-02-04</td>\n",
              "      <td>44.96875</td>\n",
              "      <td>45.09375</td>\n",
              "      <td>44.46875</td>\n",
              "      <td>45.00000</td>\n",
              "      <td>26.510111</td>\n",
              "      <td>531500</td>\n",
              "    </tr>\n",
              "  </tbody>\n",
              "</table>\n",
              "</div>"
            ],
            "text/plain": [
              "         Date      Open      High       Low     Close  Adj Close   Volume\n",
              "0  1993-01-29  43.96875  43.96875  43.75000  43.93750  25.884184  1003200\n",
              "1  1993-02-01  43.96875  44.25000  43.96875  44.25000  26.068277   480500\n",
              "2  1993-02-02  44.21875  44.37500  44.12500  44.34375  26.123499   201300\n",
              "3  1993-02-03  44.40625  44.84375  44.37500  44.81250  26.399649   529400\n",
              "4  1993-02-04  44.96875  45.09375  44.46875  45.00000  26.510111   531500"
            ]
          },
          "metadata": {
            "tags": []
          },
          "execution_count": 88
        }
      ]
    },
    {
      "cell_type": "code",
      "metadata": {
        "colab": {
          "base_uri": "https://localhost:8080/",
          "height": 297
        },
        "id": "5hJuPzh5fjt1",
        "outputId": "b72b0772-c2f7-4260-9262-e4f54a76f6ad"
      },
      "source": [
        "df.describe()"
      ],
      "execution_count": 89,
      "outputs": [
        {
          "output_type": "execute_result",
          "data": {
            "text/html": [
              "<div>\n",
              "<style scoped>\n",
              "    .dataframe tbody tr th:only-of-type {\n",
              "        vertical-align: middle;\n",
              "    }\n",
              "\n",
              "    .dataframe tbody tr th {\n",
              "        vertical-align: top;\n",
              "    }\n",
              "\n",
              "    .dataframe thead th {\n",
              "        text-align: right;\n",
              "    }\n",
              "</style>\n",
              "<table border=\"1\" class=\"dataframe\">\n",
              "  <thead>\n",
              "    <tr style=\"text-align: right;\">\n",
              "      <th></th>\n",
              "      <th>Open</th>\n",
              "      <th>High</th>\n",
              "      <th>Low</th>\n",
              "      <th>Close</th>\n",
              "      <th>Adj Close</th>\n",
              "      <th>Volume</th>\n",
              "    </tr>\n",
              "  </thead>\n",
              "  <tbody>\n",
              "    <tr>\n",
              "      <th>count</th>\n",
              "      <td>7102.000000</td>\n",
              "      <td>7102.000000</td>\n",
              "      <td>7102.000000</td>\n",
              "      <td>7102.000000</td>\n",
              "      <td>7102.000000</td>\n",
              "      <td>7.102000e+03</td>\n",
              "    </tr>\n",
              "    <tr>\n",
              "      <th>mean</th>\n",
              "      <td>146.025868</td>\n",
              "      <td>146.893064</td>\n",
              "      <td>145.061949</td>\n",
              "      <td>146.025704</td>\n",
              "      <td>120.659400</td>\n",
              "      <td>8.455724e+07</td>\n",
              "    </tr>\n",
              "    <tr>\n",
              "      <th>std</th>\n",
              "      <td>74.855963</td>\n",
              "      <td>75.191624</td>\n",
              "      <td>74.486306</td>\n",
              "      <td>74.866653</td>\n",
              "      <td>80.284219</td>\n",
              "      <td>9.627217e+07</td>\n",
              "    </tr>\n",
              "    <tr>\n",
              "      <th>min</th>\n",
              "      <td>43.343750</td>\n",
              "      <td>43.531250</td>\n",
              "      <td>42.812500</td>\n",
              "      <td>43.406250</td>\n",
              "      <td>25.571209</td>\n",
              "      <td>5.200000e+03</td>\n",
              "    </tr>\n",
              "    <tr>\n",
              "      <th>25%</th>\n",
              "      <td>100.128750</td>\n",
              "      <td>100.915003</td>\n",
              "      <td>99.287499</td>\n",
              "      <td>100.117500</td>\n",
              "      <td>70.961882</td>\n",
              "      <td>7.914475e+06</td>\n",
              "    </tr>\n",
              "    <tr>\n",
              "      <th>50%</th>\n",
              "      <td>127.580002</td>\n",
              "      <td>128.389999</td>\n",
              "      <td>126.625000</td>\n",
              "      <td>127.554688</td>\n",
              "      <td>93.535691</td>\n",
              "      <td>5.862110e+07</td>\n",
              "    </tr>\n",
              "    <tr>\n",
              "      <th>75%</th>\n",
              "      <td>185.727505</td>\n",
              "      <td>187.037506</td>\n",
              "      <td>184.574997</td>\n",
              "      <td>185.777504</td>\n",
              "      <td>162.634391</td>\n",
              "      <td>1.204625e+08</td>\n",
              "    </tr>\n",
              "    <tr>\n",
              "      <th>max</th>\n",
              "      <td>411.529999</td>\n",
              "      <td>413.529999</td>\n",
              "      <td>411.119995</td>\n",
              "      <td>412.859985</td>\n",
              "      <td>412.859985</td>\n",
              "      <td>8.710263e+08</td>\n",
              "    </tr>\n",
              "  </tbody>\n",
              "</table>\n",
              "</div>"
            ],
            "text/plain": [
              "              Open         High  ...    Adj Close        Volume\n",
              "count  7102.000000  7102.000000  ...  7102.000000  7.102000e+03\n",
              "mean    146.025868   146.893064  ...   120.659400  8.455724e+07\n",
              "std      74.855963    75.191624  ...    80.284219  9.627217e+07\n",
              "min      43.343750    43.531250  ...    25.571209  5.200000e+03\n",
              "25%     100.128750   100.915003  ...    70.961882  7.914475e+06\n",
              "50%     127.580002   128.389999  ...    93.535691  5.862110e+07\n",
              "75%     185.727505   187.037506  ...   162.634391  1.204625e+08\n",
              "max     411.529999   413.529999  ...   412.859985  8.710263e+08\n",
              "\n",
              "[8 rows x 6 columns]"
            ]
          },
          "metadata": {
            "tags": []
          },
          "execution_count": 89
        }
      ]
    },
    {
      "cell_type": "code",
      "metadata": {
        "colab": {
          "base_uri": "https://localhost:8080/",
          "height": 204
        },
        "id": "n5Scu3M0gztZ",
        "outputId": "2672d2c9-fd2a-4c8d-be9a-bd990d244ec2"
      },
      "source": [
        "price_df = df.loc[:, ['Date', 'Adj Close']].copy()\n",
        "price_df.head()"
      ],
      "execution_count": 90,
      "outputs": [
        {
          "output_type": "execute_result",
          "data": {
            "text/html": [
              "<div>\n",
              "<style scoped>\n",
              "    .dataframe tbody tr th:only-of-type {\n",
              "        vertical-align: middle;\n",
              "    }\n",
              "\n",
              "    .dataframe tbody tr th {\n",
              "        vertical-align: top;\n",
              "    }\n",
              "\n",
              "    .dataframe thead th {\n",
              "        text-align: right;\n",
              "    }\n",
              "</style>\n",
              "<table border=\"1\" class=\"dataframe\">\n",
              "  <thead>\n",
              "    <tr style=\"text-align: right;\">\n",
              "      <th></th>\n",
              "      <th>Date</th>\n",
              "      <th>Adj Close</th>\n",
              "    </tr>\n",
              "  </thead>\n",
              "  <tbody>\n",
              "    <tr>\n",
              "      <th>0</th>\n",
              "      <td>1993-01-29</td>\n",
              "      <td>25.884184</td>\n",
              "    </tr>\n",
              "    <tr>\n",
              "      <th>1</th>\n",
              "      <td>1993-02-01</td>\n",
              "      <td>26.068277</td>\n",
              "    </tr>\n",
              "    <tr>\n",
              "      <th>2</th>\n",
              "      <td>1993-02-02</td>\n",
              "      <td>26.123499</td>\n",
              "    </tr>\n",
              "    <tr>\n",
              "      <th>3</th>\n",
              "      <td>1993-02-03</td>\n",
              "      <td>26.399649</td>\n",
              "    </tr>\n",
              "    <tr>\n",
              "      <th>4</th>\n",
              "      <td>1993-02-04</td>\n",
              "      <td>26.510111</td>\n",
              "    </tr>\n",
              "  </tbody>\n",
              "</table>\n",
              "</div>"
            ],
            "text/plain": [
              "         Date  Adj Close\n",
              "0  1993-01-29  25.884184\n",
              "1  1993-02-01  26.068277\n",
              "2  1993-02-02  26.123499\n",
              "3  1993-02-03  26.399649\n",
              "4  1993-02-04  26.510111"
            ]
          },
          "metadata": {
            "tags": []
          },
          "execution_count": 90
        }
      ]
    },
    {
      "cell_type": "code",
      "metadata": {
        "colab": {
          "base_uri": "https://localhost:8080/",
          "height": 235
        },
        "id": "vch9gp9qnmMs",
        "outputId": "3df6b351-1760-4adf-f4f9-4a28be2da74b"
      },
      "source": [
        "price_df.set_index(['Date'], inplace=True)\n",
        "price_df.head()"
      ],
      "execution_count": 91,
      "outputs": [
        {
          "output_type": "execute_result",
          "data": {
            "text/html": [
              "<div>\n",
              "<style scoped>\n",
              "    .dataframe tbody tr th:only-of-type {\n",
              "        vertical-align: middle;\n",
              "    }\n",
              "\n",
              "    .dataframe tbody tr th {\n",
              "        vertical-align: top;\n",
              "    }\n",
              "\n",
              "    .dataframe thead th {\n",
              "        text-align: right;\n",
              "    }\n",
              "</style>\n",
              "<table border=\"1\" class=\"dataframe\">\n",
              "  <thead>\n",
              "    <tr style=\"text-align: right;\">\n",
              "      <th></th>\n",
              "      <th>Adj Close</th>\n",
              "    </tr>\n",
              "    <tr>\n",
              "      <th>Date</th>\n",
              "      <th></th>\n",
              "    </tr>\n",
              "  </thead>\n",
              "  <tbody>\n",
              "    <tr>\n",
              "      <th>1993-01-29</th>\n",
              "      <td>25.884184</td>\n",
              "    </tr>\n",
              "    <tr>\n",
              "      <th>1993-02-01</th>\n",
              "      <td>26.068277</td>\n",
              "    </tr>\n",
              "    <tr>\n",
              "      <th>1993-02-02</th>\n",
              "      <td>26.123499</td>\n",
              "    </tr>\n",
              "    <tr>\n",
              "      <th>1993-02-03</th>\n",
              "      <td>26.399649</td>\n",
              "    </tr>\n",
              "    <tr>\n",
              "      <th>1993-02-04</th>\n",
              "      <td>26.510111</td>\n",
              "    </tr>\n",
              "  </tbody>\n",
              "</table>\n",
              "</div>"
            ],
            "text/plain": [
              "            Adj Close\n",
              "Date                 \n",
              "1993-01-29  25.884184\n",
              "1993-02-01  26.068277\n",
              "1993-02-02  26.123499\n",
              "1993-02-03  26.399649\n",
              "1993-02-04  26.510111"
            ]
          },
          "metadata": {
            "tags": []
          },
          "execution_count": 91
        }
      ]
    },
    {
      "cell_type": "code",
      "metadata": {
        "colab": {
          "base_uri": "https://localhost:8080/",
          "height": 297
        },
        "id": "ce-G7g1Eijad",
        "outputId": "c357303d-4256-446e-e328-d47e2cacd790"
      },
      "source": [
        "price_df['center'] = price_df['Adj Close'].rolling(window=20).mean()\n",
        "price_df.iloc[18:25]"
      ],
      "execution_count": 92,
      "outputs": [
        {
          "output_type": "execute_result",
          "data": {
            "text/html": [
              "<div>\n",
              "<style scoped>\n",
              "    .dataframe tbody tr th:only-of-type {\n",
              "        vertical-align: middle;\n",
              "    }\n",
              "\n",
              "    .dataframe tbody tr th {\n",
              "        vertical-align: top;\n",
              "    }\n",
              "\n",
              "    .dataframe thead th {\n",
              "        text-align: right;\n",
              "    }\n",
              "</style>\n",
              "<table border=\"1\" class=\"dataframe\">\n",
              "  <thead>\n",
              "    <tr style=\"text-align: right;\">\n",
              "      <th></th>\n",
              "      <th>Adj Close</th>\n",
              "      <th>center</th>\n",
              "    </tr>\n",
              "    <tr>\n",
              "      <th>Date</th>\n",
              "      <th></th>\n",
              "      <th></th>\n",
              "    </tr>\n",
              "  </thead>\n",
              "  <tbody>\n",
              "    <tr>\n",
              "      <th>1993-02-25</th>\n",
              "      <td>26.123499</td>\n",
              "      <td>NaN</td>\n",
              "    </tr>\n",
              "    <tr>\n",
              "      <th>1993-02-26</th>\n",
              "      <td>26.160336</td>\n",
              "      <td>26.082083</td>\n",
              "    </tr>\n",
              "    <tr>\n",
              "      <th>1993-03-01</th>\n",
              "      <td>26.086683</td>\n",
              "      <td>26.092208</td>\n",
              "    </tr>\n",
              "    <tr>\n",
              "      <th>1993-03-02</th>\n",
              "      <td>26.473289</td>\n",
              "      <td>26.112459</td>\n",
              "    </tr>\n",
              "    <tr>\n",
              "      <th>1993-03-03</th>\n",
              "      <td>26.583761</td>\n",
              "      <td>26.135472</td>\n",
              "    </tr>\n",
              "    <tr>\n",
              "      <th>1993-03-04</th>\n",
              "      <td>26.436472</td>\n",
              "      <td>26.137313</td>\n",
              "    </tr>\n",
              "    <tr>\n",
              "      <th>1993-03-05</th>\n",
              "      <td>26.362822</td>\n",
              "      <td>26.129949</td>\n",
              "    </tr>\n",
              "  </tbody>\n",
              "</table>\n",
              "</div>"
            ],
            "text/plain": [
              "            Adj Close     center\n",
              "Date                            \n",
              "1993-02-25  26.123499        NaN\n",
              "1993-02-26  26.160336  26.082083\n",
              "1993-03-01  26.086683  26.092208\n",
              "1993-03-02  26.473289  26.112459\n",
              "1993-03-03  26.583761  26.135472\n",
              "1993-03-04  26.436472  26.137313\n",
              "1993-03-05  26.362822  26.129949"
            ]
          },
          "metadata": {
            "tags": []
          },
          "execution_count": 92
        }
      ]
    },
    {
      "cell_type": "code",
      "metadata": {
        "colab": {
          "base_uri": "https://localhost:8080/",
          "height": 297
        },
        "id": "P9DnBD03zhIr",
        "outputId": "1ddaad43-e0f7-4853-bfbf-6f5a7863366d"
      },
      "source": [
        "price_df['ub'] = price_df['center'] + 2 * price_df['Adj Close'].rolling(window=20).std()\n",
        "price_df.iloc[18:25]"
      ],
      "execution_count": 93,
      "outputs": [
        {
          "output_type": "execute_result",
          "data": {
            "text/html": [
              "<div>\n",
              "<style scoped>\n",
              "    .dataframe tbody tr th:only-of-type {\n",
              "        vertical-align: middle;\n",
              "    }\n",
              "\n",
              "    .dataframe tbody tr th {\n",
              "        vertical-align: top;\n",
              "    }\n",
              "\n",
              "    .dataframe thead th {\n",
              "        text-align: right;\n",
              "    }\n",
              "</style>\n",
              "<table border=\"1\" class=\"dataframe\">\n",
              "  <thead>\n",
              "    <tr style=\"text-align: right;\">\n",
              "      <th></th>\n",
              "      <th>Adj Close</th>\n",
              "      <th>center</th>\n",
              "      <th>ub</th>\n",
              "    </tr>\n",
              "    <tr>\n",
              "      <th>Date</th>\n",
              "      <th></th>\n",
              "      <th></th>\n",
              "      <th></th>\n",
              "    </tr>\n",
              "  </thead>\n",
              "  <tbody>\n",
              "    <tr>\n",
              "      <th>1993-02-25</th>\n",
              "      <td>26.123499</td>\n",
              "      <td>NaN</td>\n",
              "      <td>NaN</td>\n",
              "    </tr>\n",
              "    <tr>\n",
              "      <th>1993-02-26</th>\n",
              "      <td>26.160336</td>\n",
              "      <td>26.082083</td>\n",
              "      <td>26.748047</td>\n",
              "    </tr>\n",
              "    <tr>\n",
              "      <th>1993-03-01</th>\n",
              "      <td>26.086683</td>\n",
              "      <td>26.092208</td>\n",
              "      <td>26.751629</td>\n",
              "    </tr>\n",
              "    <tr>\n",
              "      <th>1993-03-02</th>\n",
              "      <td>26.473289</td>\n",
              "      <td>26.112459</td>\n",
              "      <td>26.793312</td>\n",
              "    </tr>\n",
              "    <tr>\n",
              "      <th>1993-03-03</th>\n",
              "      <td>26.583761</td>\n",
              "      <td>26.135472</td>\n",
              "      <td>26.848262</td>\n",
              "    </tr>\n",
              "    <tr>\n",
              "      <th>1993-03-04</th>\n",
              "      <td>26.436472</td>\n",
              "      <td>26.137313</td>\n",
              "      <td>26.853160</td>\n",
              "    </tr>\n",
              "    <tr>\n",
              "      <th>1993-03-05</th>\n",
              "      <td>26.362822</td>\n",
              "      <td>26.129949</td>\n",
              "      <td>26.832555</td>\n",
              "    </tr>\n",
              "  </tbody>\n",
              "</table>\n",
              "</div>"
            ],
            "text/plain": [
              "            Adj Close     center         ub\n",
              "Date                                       \n",
              "1993-02-25  26.123499        NaN        NaN\n",
              "1993-02-26  26.160336  26.082083  26.748047\n",
              "1993-03-01  26.086683  26.092208  26.751629\n",
              "1993-03-02  26.473289  26.112459  26.793312\n",
              "1993-03-03  26.583761  26.135472  26.848262\n",
              "1993-03-04  26.436472  26.137313  26.853160\n",
              "1993-03-05  26.362822  26.129949  26.832555"
            ]
          },
          "metadata": {
            "tags": []
          },
          "execution_count": 93
        }
      ]
    },
    {
      "cell_type": "code",
      "metadata": {
        "colab": {
          "base_uri": "https://localhost:8080/",
          "height": 297
        },
        "id": "Pk92GlBMzx3O",
        "outputId": "21344ee1-3774-4f9e-972c-6b6adbd40f2c"
      },
      "source": [
        "price_df['lb'] = price_df['center'] - 2 * price_df['Adj Close'].rolling(window=20).std()\n",
        "price_df.iloc[18:25]"
      ],
      "execution_count": 94,
      "outputs": [
        {
          "output_type": "execute_result",
          "data": {
            "text/html": [
              "<div>\n",
              "<style scoped>\n",
              "    .dataframe tbody tr th:only-of-type {\n",
              "        vertical-align: middle;\n",
              "    }\n",
              "\n",
              "    .dataframe tbody tr th {\n",
              "        vertical-align: top;\n",
              "    }\n",
              "\n",
              "    .dataframe thead th {\n",
              "        text-align: right;\n",
              "    }\n",
              "</style>\n",
              "<table border=\"1\" class=\"dataframe\">\n",
              "  <thead>\n",
              "    <tr style=\"text-align: right;\">\n",
              "      <th></th>\n",
              "      <th>Adj Close</th>\n",
              "      <th>center</th>\n",
              "      <th>ub</th>\n",
              "      <th>lb</th>\n",
              "    </tr>\n",
              "    <tr>\n",
              "      <th>Date</th>\n",
              "      <th></th>\n",
              "      <th></th>\n",
              "      <th></th>\n",
              "      <th></th>\n",
              "    </tr>\n",
              "  </thead>\n",
              "  <tbody>\n",
              "    <tr>\n",
              "      <th>1993-02-25</th>\n",
              "      <td>26.123499</td>\n",
              "      <td>NaN</td>\n",
              "      <td>NaN</td>\n",
              "      <td>NaN</td>\n",
              "    </tr>\n",
              "    <tr>\n",
              "      <th>1993-02-26</th>\n",
              "      <td>26.160336</td>\n",
              "      <td>26.082083</td>\n",
              "      <td>26.748047</td>\n",
              "      <td>25.416120</td>\n",
              "    </tr>\n",
              "    <tr>\n",
              "      <th>1993-03-01</th>\n",
              "      <td>26.086683</td>\n",
              "      <td>26.092208</td>\n",
              "      <td>26.751629</td>\n",
              "      <td>25.432788</td>\n",
              "    </tr>\n",
              "    <tr>\n",
              "      <th>1993-03-02</th>\n",
              "      <td>26.473289</td>\n",
              "      <td>26.112459</td>\n",
              "      <td>26.793312</td>\n",
              "      <td>25.431606</td>\n",
              "    </tr>\n",
              "    <tr>\n",
              "      <th>1993-03-03</th>\n",
              "      <td>26.583761</td>\n",
              "      <td>26.135472</td>\n",
              "      <td>26.848262</td>\n",
              "      <td>25.422683</td>\n",
              "    </tr>\n",
              "    <tr>\n",
              "      <th>1993-03-04</th>\n",
              "      <td>26.436472</td>\n",
              "      <td>26.137313</td>\n",
              "      <td>26.853160</td>\n",
              "      <td>25.421467</td>\n",
              "    </tr>\n",
              "    <tr>\n",
              "      <th>1993-03-05</th>\n",
              "      <td>26.362822</td>\n",
              "      <td>26.129949</td>\n",
              "      <td>26.832555</td>\n",
              "      <td>25.427343</td>\n",
              "    </tr>\n",
              "  </tbody>\n",
              "</table>\n",
              "</div>"
            ],
            "text/plain": [
              "            Adj Close     center         ub         lb\n",
              "Date                                                  \n",
              "1993-02-25  26.123499        NaN        NaN        NaN\n",
              "1993-02-26  26.160336  26.082083  26.748047  25.416120\n",
              "1993-03-01  26.086683  26.092208  26.751629  25.432788\n",
              "1993-03-02  26.473289  26.112459  26.793312  25.431606\n",
              "1993-03-03  26.583761  26.135472  26.848262  25.422683\n",
              "1993-03-04  26.436472  26.137313  26.853160  25.421467\n",
              "1993-03-05  26.362822  26.129949  26.832555  25.427343"
            ]
          },
          "metadata": {
            "tags": []
          },
          "execution_count": 94
        }
      ]
    },
    {
      "cell_type": "code",
      "metadata": {
        "id": "2a0FTVAX2WRq"
      },
      "source": [
        "n = 20\n",
        "sigma = 2\n",
        "def bollinger_band(price_df, n, sigma):\n",
        "  bb = price_df.copy()\n",
        "  bb['center'] = price_df['Adj Close'].rolling(n).mean() # 중앙 이동 평균선\n",
        "  bb['ub'] = bb['center'] + sigma * price_df['Adj Close'].rolling(n).std() # 상단 밴드\n",
        "  bb['lb'] = bb['center'] - sigma * price_df['Adj Close'].rolling(n).std() # 하단 밴드\n",
        "  return bb\n",
        "\n",
        "bollinger = bollinger_band(price_df, n, sigma)"
      ],
      "execution_count": 95,
      "outputs": []
    },
    {
      "cell_type": "code",
      "metadata": {
        "colab": {
          "base_uri": "https://localhost:8080/",
          "height": 235
        },
        "id": "8_g5dd5z3hP9",
        "outputId": "7d9b7163-2296-44dc-c0bc-f8c239f5f499"
      },
      "source": [
        "base_date = '2009-01-02'\n",
        "sample = bollinger.loc[base_date:]\n",
        "sample.head()"
      ],
      "execution_count": 96,
      "outputs": [
        {
          "output_type": "execute_result",
          "data": {
            "text/html": [
              "<div>\n",
              "<style scoped>\n",
              "    .dataframe tbody tr th:only-of-type {\n",
              "        vertical-align: middle;\n",
              "    }\n",
              "\n",
              "    .dataframe tbody tr th {\n",
              "        vertical-align: top;\n",
              "    }\n",
              "\n",
              "    .dataframe thead th {\n",
              "        text-align: right;\n",
              "    }\n",
              "</style>\n",
              "<table border=\"1\" class=\"dataframe\">\n",
              "  <thead>\n",
              "    <tr style=\"text-align: right;\">\n",
              "      <th></th>\n",
              "      <th>Adj Close</th>\n",
              "      <th>center</th>\n",
              "      <th>ub</th>\n",
              "      <th>lb</th>\n",
              "    </tr>\n",
              "    <tr>\n",
              "      <th>Date</th>\n",
              "      <th></th>\n",
              "      <th></th>\n",
              "      <th></th>\n",
              "      <th></th>\n",
              "    </tr>\n",
              "  </thead>\n",
              "  <tbody>\n",
              "    <tr>\n",
              "      <th>2009-01-02</th>\n",
              "      <td>72.786407</td>\n",
              "      <td>69.180483</td>\n",
              "      <td>72.242441</td>\n",
              "      <td>66.118525</td>\n",
              "    </tr>\n",
              "    <tr>\n",
              "      <th>2009-01-05</th>\n",
              "      <td>72.700264</td>\n",
              "      <td>69.502950</td>\n",
              "      <td>72.623708</td>\n",
              "      <td>66.382192</td>\n",
              "    </tr>\n",
              "    <tr>\n",
              "      <th>2009-01-06</th>\n",
              "      <td>73.185722</td>\n",
              "      <td>69.747557</td>\n",
              "      <td>73.216652</td>\n",
              "      <td>66.278462</td>\n",
              "    </tr>\n",
              "    <tr>\n",
              "      <th>2009-01-07</th>\n",
              "      <td>70.993355</td>\n",
              "      <td>69.763324</td>\n",
              "      <td>73.253031</td>\n",
              "      <td>66.273618</td>\n",
              "    </tr>\n",
              "    <tr>\n",
              "      <th>2009-01-08</th>\n",
              "      <td>71.283081</td>\n",
              "      <td>69.851829</td>\n",
              "      <td>73.404029</td>\n",
              "      <td>66.299630</td>\n",
              "    </tr>\n",
              "  </tbody>\n",
              "</table>\n",
              "</div>"
            ],
            "text/plain": [
              "            Adj Close     center         ub         lb\n",
              "Date                                                  \n",
              "2009-01-02  72.786407  69.180483  72.242441  66.118525\n",
              "2009-01-05  72.700264  69.502950  72.623708  66.382192\n",
              "2009-01-06  73.185722  69.747557  73.216652  66.278462\n",
              "2009-01-07  70.993355  69.763324  73.253031  66.273618\n",
              "2009-01-08  71.283081  69.851829  73.404029  66.299630"
            ]
          },
          "metadata": {
            "tags": []
          },
          "execution_count": 96
        }
      ]
    },
    {
      "cell_type": "code",
      "metadata": {
        "colab": {
          "base_uri": "https://localhost:8080/",
          "height": 235
        },
        "id": "ba_3XxAv3qbj",
        "outputId": "e8ea09d9-9a4e-4c20-9862-9aab630ab991"
      },
      "source": [
        "book = sample[['Adj Close']].copy()\n",
        "book['trade'] = ''\n",
        "book.head()"
      ],
      "execution_count": 98,
      "outputs": [
        {
          "output_type": "execute_result",
          "data": {
            "text/html": [
              "<div>\n",
              "<style scoped>\n",
              "    .dataframe tbody tr th:only-of-type {\n",
              "        vertical-align: middle;\n",
              "    }\n",
              "\n",
              "    .dataframe tbody tr th {\n",
              "        vertical-align: top;\n",
              "    }\n",
              "\n",
              "    .dataframe thead th {\n",
              "        text-align: right;\n",
              "    }\n",
              "</style>\n",
              "<table border=\"1\" class=\"dataframe\">\n",
              "  <thead>\n",
              "    <tr style=\"text-align: right;\">\n",
              "      <th></th>\n",
              "      <th>Adj Close</th>\n",
              "      <th>trade</th>\n",
              "    </tr>\n",
              "    <tr>\n",
              "      <th>Date</th>\n",
              "      <th></th>\n",
              "      <th></th>\n",
              "    </tr>\n",
              "  </thead>\n",
              "  <tbody>\n",
              "    <tr>\n",
              "      <th>2009-01-02</th>\n",
              "      <td>72.786407</td>\n",
              "      <td></td>\n",
              "    </tr>\n",
              "    <tr>\n",
              "      <th>2009-01-05</th>\n",
              "      <td>72.700264</td>\n",
              "      <td></td>\n",
              "    </tr>\n",
              "    <tr>\n",
              "      <th>2009-01-06</th>\n",
              "      <td>73.185722</td>\n",
              "      <td></td>\n",
              "    </tr>\n",
              "    <tr>\n",
              "      <th>2009-01-07</th>\n",
              "      <td>70.993355</td>\n",
              "      <td></td>\n",
              "    </tr>\n",
              "    <tr>\n",
              "      <th>2009-01-08</th>\n",
              "      <td>71.283081</td>\n",
              "      <td></td>\n",
              "    </tr>\n",
              "  </tbody>\n",
              "</table>\n",
              "</div>"
            ],
            "text/plain": [
              "            Adj Close trade\n",
              "Date                       \n",
              "2009-01-02  72.786407      \n",
              "2009-01-05  72.700264      \n",
              "2009-01-06  73.185722      \n",
              "2009-01-07  70.993355      \n",
              "2009-01-08  71.283081      "
            ]
          },
          "metadata": {
            "tags": []
          },
          "execution_count": 98
        }
      ]
    },
    {
      "cell_type": "code",
      "metadata": {
        "id": "6cUce7664zl9"
      },
      "source": [
        "def create_trade_book(sample):\n",
        "  book = sample[['Adj Close']].copy()\n",
        "  book['trade'] = ''\n",
        "  return book"
      ],
      "execution_count": 99,
      "outputs": []
    },
    {
      "cell_type": "code",
      "metadata": {
        "id": "eeNMZMnK5GW4"
      },
      "source": [
        "def tradings(sample, book):\n",
        "  for i in sample.index:\n",
        "    if sample.loc[i, 'Adj Close'] > sample.loc[i, 'ub']: # 상단 밴드 이탈 시 동작 안함\n",
        "      book.loc[i, 'trade'] == ''\n",
        "    elif sample.loc[i, 'lb'] > sample.loc[i, 'Adj Close']: # 하단 밴드 이탈 시 매수\n",
        "      if book.shift(1).loc[i, 'trade'] == 'buy': # 이미 매수 상태라면\n",
        "        book.loc[i, 'trade'] = 'buy' # 매수 상태 유지\n",
        "      else:\n",
        "        book.loc[i, 'trade'] = 'buy'\n",
        "    elif sample.loc[i, 'ub'] >= sample.loc[i, 'Adj Close'] and sample.loc[i, 'Adj Close'] >= sample.loc[i, 'lb']: # 볼린저 밴드 안에 있을 시\n",
        "      if book.shift(1).loc[i, 'trade'] == 'buy':\n",
        "        book.loc[i, 'trade'] = 'buy' # 매수 상태 유지\n",
        "      else:\n",
        "        book.loc[i, 'trade'] = '' # 동작 안함\n",
        "  return book"
      ],
      "execution_count": 104,
      "outputs": []
    },
    {
      "cell_type": "code",
      "metadata": {
        "colab": {
          "base_uri": "https://localhost:8080/",
          "height": 390
        },
        "id": "zFUHqEamCvxK",
        "outputId": "657b8e0d-5f83-4bba-f3c8-5e927b63d02b"
      },
      "source": [
        "book = tradings(sample, book)\n",
        "book.tail(10)"
      ],
      "execution_count": 105,
      "outputs": [
        {
          "output_type": "execute_result",
          "data": {
            "text/html": [
              "<div>\n",
              "<style scoped>\n",
              "    .dataframe tbody tr th:only-of-type {\n",
              "        vertical-align: middle;\n",
              "    }\n",
              "\n",
              "    .dataframe tbody tr th {\n",
              "        vertical-align: top;\n",
              "    }\n",
              "\n",
              "    .dataframe thead th {\n",
              "        text-align: right;\n",
              "    }\n",
              "</style>\n",
              "<table border=\"1\" class=\"dataframe\">\n",
              "  <thead>\n",
              "    <tr style=\"text-align: right;\">\n",
              "      <th></th>\n",
              "      <th>Adj Close</th>\n",
              "      <th>trade</th>\n",
              "    </tr>\n",
              "    <tr>\n",
              "      <th>Date</th>\n",
              "      <th></th>\n",
              "      <th></th>\n",
              "    </tr>\n",
              "  </thead>\n",
              "  <tbody>\n",
              "    <tr>\n",
              "      <th>2021-03-30</th>\n",
              "      <td>394.730011</td>\n",
              "      <td>buy</td>\n",
              "    </tr>\n",
              "    <tr>\n",
              "      <th>2021-03-31</th>\n",
              "      <td>396.329987</td>\n",
              "      <td>buy</td>\n",
              "    </tr>\n",
              "    <tr>\n",
              "      <th>2021-04-01</th>\n",
              "      <td>400.609985</td>\n",
              "      <td>buy</td>\n",
              "    </tr>\n",
              "    <tr>\n",
              "      <th>2021-04-05</th>\n",
              "      <td>406.359985</td>\n",
              "      <td></td>\n",
              "    </tr>\n",
              "    <tr>\n",
              "      <th>2021-04-06</th>\n",
              "      <td>406.119995</td>\n",
              "      <td></td>\n",
              "    </tr>\n",
              "    <tr>\n",
              "      <th>2021-04-07</th>\n",
              "      <td>406.589996</td>\n",
              "      <td></td>\n",
              "    </tr>\n",
              "    <tr>\n",
              "      <th>2021-04-08</th>\n",
              "      <td>408.519989</td>\n",
              "      <td></td>\n",
              "    </tr>\n",
              "    <tr>\n",
              "      <th>2021-04-09</th>\n",
              "      <td>411.489990</td>\n",
              "      <td></td>\n",
              "    </tr>\n",
              "    <tr>\n",
              "      <th>2021-04-12</th>\n",
              "      <td>411.640015</td>\n",
              "      <td></td>\n",
              "    </tr>\n",
              "    <tr>\n",
              "      <th>2021-04-13</th>\n",
              "      <td>412.859985</td>\n",
              "      <td></td>\n",
              "    </tr>\n",
              "  </tbody>\n",
              "</table>\n",
              "</div>"
            ],
            "text/plain": [
              "             Adj Close trade\n",
              "Date                        \n",
              "2021-03-30  394.730011   buy\n",
              "2021-03-31  396.329987   buy\n",
              "2021-04-01  400.609985   buy\n",
              "2021-04-05  406.359985      \n",
              "2021-04-06  406.119995      \n",
              "2021-04-07  406.589996      \n",
              "2021-04-08  408.519989      \n",
              "2021-04-09  411.489990      \n",
              "2021-04-12  411.640015      \n",
              "2021-04-13  412.859985      "
            ]
          },
          "metadata": {
            "tags": []
          },
          "execution_count": 105
        }
      ]
    },
    {
      "cell_type": "code",
      "metadata": {
        "id": "61PAUT4dC-7D"
      },
      "source": [
        "def returns(book):\n",
        "  # 손익 계산\n",
        "  rtn = 1.0\n",
        "  book['return'] = 1\n",
        "  buy = 0.0\n",
        "  sell = 0.0\n",
        "  for i in book.index:\n",
        "    # long 진입\n",
        "    if book.loc[i, 'trade'] == 'buy' and book.shift(1).loc[i, 'trade'] == '':\n",
        "      buy = book.loc[i, 'Adj Close']\n",
        "      print('진입일: ', i, 'long 진입 가격: ', buy)\n",
        "    # long 청산\n",
        "    elif book.loc[i, 'trade'] == '' and book.shift(1).loc[i, 'trade'] == 'buy':\n",
        "      sell = book.loc[i, 'Adj Close']\n",
        "      rtn = (sell - buy) / buy + 1 # 손익 계산\n",
        "      book.loc[i, 'return'] = rtn \n",
        "      print('청산일 : ', i , 'long 진입 가격: ', buy, '| long 청산 가격: ', \\\n",
        "            sell, ' | return: ', round(rtn, 4))\n",
        "      \n",
        "    if book.loc[i, 'trade'] == '': # 제로 포지션\n",
        "      buy = 0.0\n",
        "      sell = 0.0\n",
        "  acc_rtn = 1.0\n",
        "  for i in book.index:\n",
        "    rtn = book.loc[i, 'return'] \n",
        "    acc_rtn = acc_rtn * rtn # 누적 수익률 계산\n",
        "    book.loc[i, 'acc_return'] = acc_rtn\n",
        "  print('Accumulated return :', round(acc_rtn, 4))\n",
        "  return(round(acc_rtn, 4))"
      ],
      "execution_count": 106,
      "outputs": []
    },
    {
      "cell_type": "code",
      "metadata": {
        "colab": {
          "base_uri": "https://localhost:8080/"
        },
        "id": "VkSU2UsPIEJM",
        "outputId": "ae871def-55a4-4719-ff99-f2a34b55bc85"
      },
      "source": [
        "print(returns(book))"
      ],
      "execution_count": 107,
      "outputs": [
        {
          "output_type": "stream",
          "text": [
            "진입일:  2009-01-20 long 진입 가격:  63.085213\n",
            "청산일 :  2009-03-23 long 진입 가격:  63.085213 | long 청산 가격:  64.837929  | return:  1.0278\n",
            "진입일:  2010-01-22 long 진입 가격:  87.489502\n",
            "청산일 :  2010-04-14 long 진입 가격:  87.489502 | long 청산 가격:  97.486603  | return:  1.1143\n",
            "진입일:  2010-05-04 long 진입 가격:  94.534447\n",
            "청산일 :  2010-10-13 long 진입 가격:  94.534447 | long 청산 가격:  95.817719  | return:  1.0136\n",
            "진입일:  2011-03-10 long 진입 가격:  106.140022\n",
            "청산일 :  2011-04-26 long 진입 가격:  106.140022 | long 청산 가격:  110.58000200000001  | return:  1.0418\n",
            "진입일:  2011-05-23 long 진입 가격:  108.340332\n",
            "청산일 :  2011-06-30 long 진입 가격:  108.340332 | long 청산 가격:  108.803261  | return:  1.0043\n",
            "진입일:  2011-08-02 long 진입 가격:  103.4608\n",
            "청산일 :  2012-02-03 long 진입 가격:  103.4608 | long 청산 가격:  112.20308700000001  | return:  1.0845\n",
            "진입일:  2012-04-10 long 진입 가격:  113.83398400000002\n",
            "청산일 :  2012-07-03 long 진입 가격:  113.83398400000002 | long 청산 가격:  115.69519  | return:  1.0164\n",
            "진입일:  2012-10-23 long 진입 가격:  119.70713\n",
            "청산일 :  2012-12-18 long 진입 가격:  119.70713 | long 청산 가격:  123.05066699999999  | return:  1.0279\n",
            "진입일:  2013-06-05 long 진입 가격:  138.089111\n",
            "청산일 :  2013-07-11 long 진입 가격:  138.089111 | long 청산 가격:  144.130905  | return:  1.0438\n",
            "진입일:  2013-08-15 long 진입 가격:  143.218445\n",
            "청산일 :  2013-09-11 long 진입 가격:  143.218445 | long 청산 가격:  145.81800800000002  | return:  1.0182\n",
            "진입일:  2013-10-08 long 진입 가격:  143.13806200000002\n",
            "청산일 :  2013-10-17 long 진입 가격:  143.13806200000002 | long 청산 가격:  149.833038  | return:  1.0468\n",
            "진입일:  2014-01-24 long 진입 가격:  155.577576\n",
            "청산일 :  2014-04-02 long 진입 가격:  155.577576 | long 청산 가격:  164.990723  | return:  1.0605\n",
            "진입일:  2014-04-11 long 진입 가격:  158.55281100000002\n",
            "청산일 :  2014-05-27 long 진입 가격:  158.55281100000002 | long 청산 가격:  167.296829  | return:  1.0551\n",
            "진입일:  2014-07-31 long 진입 가격:  169.47644\n",
            "청산일 :  2014-09-18 long 진입 가격:  169.47644 | long 청산 가격:  177.13884  | return:  1.0452\n",
            "진입일:  2014-09-25 long 진입 가격:  173.13453700000002\n",
            "청산일 :  2016-04-13 long 진입 가격:  173.13453700000002 | long 청산 가격:  189.205368  | return:  1.0928\n",
            "진입일:  2016-06-24 long 진입 가격:  185.836945\n",
            "청산일 :  2016-08-11 long 진입 가격:  185.836945 | long 청산 가격:  199.927399  | return:  1.0758\n",
            "진입일:  2016-09-09 long 진입 가격:  195.017227\n",
            "청산일 :  2016-12-07 long 진입 가격:  195.017227 | long 청산 가격:  206.40528899999998  | return:  1.0584\n",
            "진입일:  2017-03-21 long 진입 가격:  217.001648\n",
            "청산일 :  2017-04-24 long 진입 가격:  217.001648 | long 청산 가격:  220.19547999999998  | return:  1.0147\n",
            "진입일:  2017-07-06 long 진입 가격:  224.42268399999998\n",
            "청산일 :  2017-07-14 long 진입 가격:  224.42268399999998 | long 청산 가격:  229.096802  | return:  1.0208\n",
            "진입일:  2017-08-10 long 진입 가격:  227.41745\n",
            "청산일 :  2017-09-11 long 진입 가격:  227.41745 | long 청산 가격:  232.50206  | return:  1.0224\n",
            "진입일:  2018-02-05 long 진입 가격:  248.722015\n",
            "청산일 :  2018-05-10 long 진입 가격:  248.722015 | long 청산 가격:  257.37255899999997  | return:  1.0348\n",
            "진입일:  2018-06-27 long 진입 가격:  255.990707\n",
            "청산일 :  2018-08-07 long 진입 가격:  255.990707 | long 청산 가격:  271.415771  | return:  1.0603\n",
            "진입일:  2018-10-10 long 진입 가격:  265.694153\n",
            "청산일 :  2019-03-18 long 진입 가격:  265.694153 | long 청산 가격:  272.309814  | return:  1.0249\n",
            "진입일:  2019-05-13 long 진입 가격:  270.891968\n",
            "청산일 :  2019-07-03 long 진입 가격:  270.891968 | long 청산 가격:  289.596954  | return:  1.069\n",
            "진입일:  2019-08-01 long 진입 가격:  285.758942\n",
            "청산일 :  2019-09-05 long 진입 가격:  285.758942 | long 청산 가격:  288.647125  | return:  1.0101\n",
            "진입일:  2019-10-01 long 진입 가격:  285.52063\n",
            "청산일 :  2019-12-12 long 진입 가격:  285.52063 | long 청산 가격:  308.78179900000003  | return:  1.0815\n",
            "진입일:  2020-02-25 long 진입 가격:  305.916382\n",
            "청산일 :  2020-05-27 long 진입 가격:  305.916382 | long 청산 가격:  298.739227  | return:  0.9765\n",
            "진입일:  2020-10-28 long 진입 가격:  324.211609\n",
            "청산일 :  2020-12-31 long 진입 가격:  324.211609 | long 청산 가격:  372.659454  | return:  1.1494\n",
            "진입일:  2021-03-04 long 진입 가격:  375.47024500000003\n",
            "청산일 :  2021-04-05 long 진입 가격:  375.47024500000003 | long 청산 가격:  406.359985  | return:  1.0823\n",
            "Accumulated return : 3.7635\n",
            "3.7635\n"
          ],
          "name": "stdout"
        }
      ]
    },
    {
      "cell_type": "code",
      "metadata": {
        "colab": {
          "base_uri": "https://localhost:8080/",
          "height": 948
        },
        "id": "F3u6XoT6KCuy",
        "outputId": "bb02aa83-3b01-40b8-bfd9-9028e78c6b48"
      },
      "source": [
        "book[book['return']>1.0]"
      ],
      "execution_count": 113,
      "outputs": [
        {
          "output_type": "execute_result",
          "data": {
            "text/html": [
              "<div>\n",
              "<style scoped>\n",
              "    .dataframe tbody tr th:only-of-type {\n",
              "        vertical-align: middle;\n",
              "    }\n",
              "\n",
              "    .dataframe tbody tr th {\n",
              "        vertical-align: top;\n",
              "    }\n",
              "\n",
              "    .dataframe thead th {\n",
              "        text-align: right;\n",
              "    }\n",
              "</style>\n",
              "<table border=\"1\" class=\"dataframe\">\n",
              "  <thead>\n",
              "    <tr style=\"text-align: right;\">\n",
              "      <th></th>\n",
              "      <th>Adj Close</th>\n",
              "      <th>trade</th>\n",
              "      <th>return</th>\n",
              "      <th>acc_return</th>\n",
              "    </tr>\n",
              "    <tr>\n",
              "      <th>Date</th>\n",
              "      <th></th>\n",
              "      <th></th>\n",
              "      <th></th>\n",
              "      <th></th>\n",
              "    </tr>\n",
              "  </thead>\n",
              "  <tbody>\n",
              "    <tr>\n",
              "      <th>2009-03-23</th>\n",
              "      <td>64.837929</td>\n",
              "      <td></td>\n",
              "      <td>1.027783</td>\n",
              "      <td>1.027783</td>\n",
              "    </tr>\n",
              "    <tr>\n",
              "      <th>2010-04-14</th>\n",
              "      <td>97.486603</td>\n",
              "      <td></td>\n",
              "      <td>1.114266</td>\n",
              "      <td>1.145224</td>\n",
              "    </tr>\n",
              "    <tr>\n",
              "      <th>2010-10-13</th>\n",
              "      <td>95.817719</td>\n",
              "      <td></td>\n",
              "      <td>1.013575</td>\n",
              "      <td>1.160770</td>\n",
              "    </tr>\n",
              "    <tr>\n",
              "      <th>2011-04-26</th>\n",
              "      <td>110.580002</td>\n",
              "      <td></td>\n",
              "      <td>1.041831</td>\n",
              "      <td>1.209327</td>\n",
              "    </tr>\n",
              "    <tr>\n",
              "      <th>2011-06-30</th>\n",
              "      <td>108.803261</td>\n",
              "      <td></td>\n",
              "      <td>1.004273</td>\n",
              "      <td>1.214494</td>\n",
              "    </tr>\n",
              "    <tr>\n",
              "      <th>2012-02-03</th>\n",
              "      <td>112.203087</td>\n",
              "      <td></td>\n",
              "      <td>1.084499</td>\n",
              "      <td>1.317117</td>\n",
              "    </tr>\n",
              "    <tr>\n",
              "      <th>2012-07-03</th>\n",
              "      <td>115.695190</td>\n",
              "      <td></td>\n",
              "      <td>1.016350</td>\n",
              "      <td>1.338652</td>\n",
              "    </tr>\n",
              "    <tr>\n",
              "      <th>2012-12-18</th>\n",
              "      <td>123.050667</td>\n",
              "      <td></td>\n",
              "      <td>1.027931</td>\n",
              "      <td>1.376042</td>\n",
              "    </tr>\n",
              "    <tr>\n",
              "      <th>2013-07-11</th>\n",
              "      <td>144.130905</td>\n",
              "      <td></td>\n",
              "      <td>1.043753</td>\n",
              "      <td>1.436248</td>\n",
              "    </tr>\n",
              "    <tr>\n",
              "      <th>2013-09-11</th>\n",
              "      <td>145.818008</td>\n",
              "      <td></td>\n",
              "      <td>1.018151</td>\n",
              "      <td>1.462317</td>\n",
              "    </tr>\n",
              "    <tr>\n",
              "      <th>2013-10-17</th>\n",
              "      <td>149.833038</td>\n",
              "      <td></td>\n",
              "      <td>1.046773</td>\n",
              "      <td>1.530714</td>\n",
              "    </tr>\n",
              "    <tr>\n",
              "      <th>2014-04-02</th>\n",
              "      <td>164.990723</td>\n",
              "      <td></td>\n",
              "      <td>1.060505</td>\n",
              "      <td>1.623329</td>\n",
              "    </tr>\n",
              "    <tr>\n",
              "      <th>2014-05-27</th>\n",
              "      <td>167.296829</td>\n",
              "      <td></td>\n",
              "      <td>1.055149</td>\n",
              "      <td>1.712854</td>\n",
              "    </tr>\n",
              "    <tr>\n",
              "      <th>2014-09-18</th>\n",
              "      <td>177.138840</td>\n",
              "      <td></td>\n",
              "      <td>1.045212</td>\n",
              "      <td>1.790296</td>\n",
              "    </tr>\n",
              "    <tr>\n",
              "      <th>2016-04-13</th>\n",
              "      <td>189.205368</td>\n",
              "      <td></td>\n",
              "      <td>1.092823</td>\n",
              "      <td>1.956476</td>\n",
              "    </tr>\n",
              "    <tr>\n",
              "      <th>2016-08-11</th>\n",
              "      <td>199.927399</td>\n",
              "      <td></td>\n",
              "      <td>1.075822</td>\n",
              "      <td>2.104819</td>\n",
              "    </tr>\n",
              "    <tr>\n",
              "      <th>2016-12-07</th>\n",
              "      <td>206.405289</td>\n",
              "      <td></td>\n",
              "      <td>1.058395</td>\n",
              "      <td>2.227731</td>\n",
              "    </tr>\n",
              "    <tr>\n",
              "      <th>2017-04-24</th>\n",
              "      <td>220.195480</td>\n",
              "      <td></td>\n",
              "      <td>1.014718</td>\n",
              "      <td>2.260518</td>\n",
              "    </tr>\n",
              "    <tr>\n",
              "      <th>2017-07-14</th>\n",
              "      <td>229.096802</td>\n",
              "      <td></td>\n",
              "      <td>1.020827</td>\n",
              "      <td>2.307599</td>\n",
              "    </tr>\n",
              "    <tr>\n",
              "      <th>2017-09-11</th>\n",
              "      <td>232.502060</td>\n",
              "      <td></td>\n",
              "      <td>1.022358</td>\n",
              "      <td>2.359192</td>\n",
              "    </tr>\n",
              "    <tr>\n",
              "      <th>2018-05-10</th>\n",
              "      <td>257.372559</td>\n",
              "      <td></td>\n",
              "      <td>1.034780</td>\n",
              "      <td>2.441245</td>\n",
              "    </tr>\n",
              "    <tr>\n",
              "      <th>2018-08-07</th>\n",
              "      <td>271.415771</td>\n",
              "      <td></td>\n",
              "      <td>1.060256</td>\n",
              "      <td>2.588346</td>\n",
              "    </tr>\n",
              "    <tr>\n",
              "      <th>2019-03-18</th>\n",
              "      <td>272.309814</td>\n",
              "      <td></td>\n",
              "      <td>1.024900</td>\n",
              "      <td>2.652794</td>\n",
              "    </tr>\n",
              "    <tr>\n",
              "      <th>2019-07-03</th>\n",
              "      <td>289.596954</td>\n",
              "      <td></td>\n",
              "      <td>1.069050</td>\n",
              "      <td>2.835969</td>\n",
              "    </tr>\n",
              "    <tr>\n",
              "      <th>2019-09-05</th>\n",
              "      <td>288.647125</td>\n",
              "      <td></td>\n",
              "      <td>1.010107</td>\n",
              "      <td>2.864632</td>\n",
              "    </tr>\n",
              "    <tr>\n",
              "      <th>2019-12-12</th>\n",
              "      <td>308.781799</td>\n",
              "      <td></td>\n",
              "      <td>1.081469</td>\n",
              "      <td>3.098011</td>\n",
              "    </tr>\n",
              "    <tr>\n",
              "      <th>2020-12-31</th>\n",
              "      <td>372.659454</td>\n",
              "      <td></td>\n",
              "      <td>1.149433</td>\n",
              "      <td>3.477412</td>\n",
              "    </tr>\n",
              "    <tr>\n",
              "      <th>2021-04-05</th>\n",
              "      <td>406.359985</td>\n",
              "      <td></td>\n",
              "      <td>1.082269</td>\n",
              "      <td>3.763497</td>\n",
              "    </tr>\n",
              "  </tbody>\n",
              "</table>\n",
              "</div>"
            ],
            "text/plain": [
              "             Adj Close trade    return  acc_return\n",
              "Date                                              \n",
              "2009-03-23   64.837929        1.027783    1.027783\n",
              "2010-04-14   97.486603        1.114266    1.145224\n",
              "2010-10-13   95.817719        1.013575    1.160770\n",
              "2011-04-26  110.580002        1.041831    1.209327\n",
              "2011-06-30  108.803261        1.004273    1.214494\n",
              "2012-02-03  112.203087        1.084499    1.317117\n",
              "2012-07-03  115.695190        1.016350    1.338652\n",
              "2012-12-18  123.050667        1.027931    1.376042\n",
              "2013-07-11  144.130905        1.043753    1.436248\n",
              "2013-09-11  145.818008        1.018151    1.462317\n",
              "2013-10-17  149.833038        1.046773    1.530714\n",
              "2014-04-02  164.990723        1.060505    1.623329\n",
              "2014-05-27  167.296829        1.055149    1.712854\n",
              "2014-09-18  177.138840        1.045212    1.790296\n",
              "2016-04-13  189.205368        1.092823    1.956476\n",
              "2016-08-11  199.927399        1.075822    2.104819\n",
              "2016-12-07  206.405289        1.058395    2.227731\n",
              "2017-04-24  220.195480        1.014718    2.260518\n",
              "2017-07-14  229.096802        1.020827    2.307599\n",
              "2017-09-11  232.502060        1.022358    2.359192\n",
              "2018-05-10  257.372559        1.034780    2.441245\n",
              "2018-08-07  271.415771        1.060256    2.588346\n",
              "2019-03-18  272.309814        1.024900    2.652794\n",
              "2019-07-03  289.596954        1.069050    2.835969\n",
              "2019-09-05  288.647125        1.010107    2.864632\n",
              "2019-12-12  308.781799        1.081469    3.098011\n",
              "2020-12-31  372.659454        1.149433    3.477412\n",
              "2021-04-05  406.359985        1.082269    3.763497"
            ]
          },
          "metadata": {
            "tags": []
          },
          "execution_count": 113
        }
      ]
    },
    {
      "cell_type": "code",
      "metadata": {
        "colab": {
          "base_uri": "https://localhost:8080/",
          "height": 296
        },
        "id": "LQwyMZXZIGQm",
        "outputId": "1e8fcd42-7a63-446a-aa12-cf512394fcf6"
      },
      "source": [
        "import matplotlib.pylab as plt\n",
        "book['acc_return'].plot()"
      ],
      "execution_count": 109,
      "outputs": [
        {
          "output_type": "execute_result",
          "data": {
            "text/plain": [
              "<matplotlib.axes._subplots.AxesSubplot at 0x7ff17d44df50>"
            ]
          },
          "metadata": {
            "tags": []
          },
          "execution_count": 109
        },
        {
          "output_type": "display_data",
          "data": {
            "image/png": "[encoded data removed]",
            "text/plain": [
              "<Figure size 432x288 with 1 Axes>"
            ]
          },
          "metadata": {
            "tags": [],
            "needs_background": "light"
          }
        }
      ]
    },
    {
      "cell_type": "code",
      "metadata": {
        "id": "AsnWjvDdIZPs"
      },
      "source": [
        ""
      ],
      "execution_count": null,
      "outputs": []
    }
  ]
}