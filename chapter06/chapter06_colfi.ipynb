{
  "nbformat": 4,
  "nbformat_minor": 0,
  "metadata": {
    "colab": {
      "name": "chapter06.ipynb",
      "provenance": [],
      "collapsed_sections": []
    },
    "kernelspec": {
      "display_name": "Python 3",
      "name": "python3"
    },
    "language_info": {
      "name": "python"
    }
  },
  "cells": [
    {
      "cell_type": "code",
      "metadata": {
        "id": "P7m3gzrNDrJP"
      },
      "source": [
        "import warnings\n",
        "warnings.filterwarnings('ignore')\n",
        "import glob\n",
        "import os\n",
        "import datetime\n",
        "import matplotlib.pyplot as plt\n",
        "import pandas as pd\n",
        "import numpy as np\n",
        "from sklearn import preprocessing\n",
        "from sklearn.preprocessing import StandardScaler\n",
        "from sklearn.model_selection import train_test_split\n",
        "from sklearn.model_selection import cross_validate\n",
        "from sklearn.model_selection import TimeSeriesSplit\n",
        "from sklearn.model_selection import GridSearchCV\n",
        "from sklearn.linear_model import LinearRegression\n",
        "from sklearn.ensemble import RandomForestClassifier\n",
        "from xgboost import XGBClassifier\n",
        "from xgboost import plot_importance\n",
        "from sklearn.metrics import f1_score\n",
        "from sklearn.metrics import mean_squared_error, r2_score\n",
        "from sklearn import svm\n",
        "import seaborn as sns; sns.set()\n",
        "\n"
      ],
      "execution_count": null,
      "outputs": []
    },
    {
      "cell_type": "code",
      "metadata": {
        "id": "TFEz423eFnTi"
      },
      "source": [
        "df = pd.read_csv('./sample_data/ETFs_main.csv')"
      ],
      "execution_count": null,
      "outputs": []
    },
    {
      "cell_type": "code",
      "metadata": {
        "colab": {
          "base_uri": "https://localhost:8080/",
          "height": 309
        },
        "id": "psVbdcUuFydC",
        "outputId": "12afa8eb-2960-4397-c75a-4b45fffd12f3"
      },
      "source": [
        "df.head()"
      ],
      "execution_count": null,
      "outputs": [
        {
          "output_type": "execute_result",
          "data": {
            "text/html": [
              "<div>\n",
              "<style scoped>\n",
              "    .dataframe tbody tr th:only-of-type {\n",
              "        vertical-align: middle;\n",
              "    }\n",
              "\n",
              "    .dataframe tbody tr th {\n",
              "        vertical-align: top;\n",
              "    }\n",
              "\n",
              "    .dataframe thead th {\n",
              "        text-align: right;\n",
              "    }\n",
              "</style>\n",
              "<table border=\"1\" class=\"dataframe\">\n",
              "  <thead>\n",
              "    <tr style=\"text-align: right;\">\n",
              "      <th></th>\n",
              "      <th>Dates</th>\n",
              "      <th>CLOSE_SPY</th>\n",
              "      <th>OPEN</th>\n",
              "      <th>HIGH</th>\n",
              "      <th>LOW</th>\n",
              "      <th>VOLUME</th>\n",
              "      <th>CLOSE_GLD</th>\n",
              "      <th>CLOSE_FXY</th>\n",
              "      <th>CLOSE_T10Y2Y</th>\n",
              "      <th>CLOSE_TED</th>\n",
              "      <th>CLOSE_USO</th>\n",
              "      <th>CLOSE_UUP</th>\n",
              "      <th>CLOSE_VIX</th>\n",
              "      <th>CLOSE_VWO</th>\n",
              "    </tr>\n",
              "  </thead>\n",
              "  <tbody>\n",
              "    <tr>\n",
              "      <th>0</th>\n",
              "      <td>2007-02-20</td>\n",
              "      <td>146.04</td>\n",
              "      <td>145.56</td>\n",
              "      <td>146.20</td>\n",
              "      <td>144.0</td>\n",
              "      <td>56909500.0</td>\n",
              "      <td>65.31</td>\n",
              "      <td>83.51</td>\n",
              "      <td>2.3263</td>\n",
              "      <td>0.31</td>\n",
              "      <td>48.67</td>\n",
              "      <td>25.07</td>\n",
              "      <td>10.24</td>\n",
              "      <td>40.055</td>\n",
              "    </tr>\n",
              "    <tr>\n",
              "      <th>1</th>\n",
              "      <td>2007-02-21</td>\n",
              "      <td>145.98</td>\n",
              "      <td>145.61</td>\n",
              "      <td>146.07</td>\n",
              "      <td>145.0</td>\n",
              "      <td>63971500.0</td>\n",
              "      <td>67.28</td>\n",
              "      <td>82.90</td>\n",
              "      <td>2.3653</td>\n",
              "      <td>0.32</td>\n",
              "      <td>49.86</td>\n",
              "      <td>25.12</td>\n",
              "      <td>10.20</td>\n",
              "      <td>39.975</td>\n",
              "    </tr>\n",
              "    <tr>\n",
              "      <th>2</th>\n",
              "      <td>2007-02-22</td>\n",
              "      <td>145.87</td>\n",
              "      <td>146.05</td>\n",
              "      <td>146.42</td>\n",
              "      <td>145.0</td>\n",
              "      <td>79067398.0</td>\n",
              "      <td>67.15</td>\n",
              "      <td>82.46</td>\n",
              "      <td>2.3871</td>\n",
              "      <td>0.31</td>\n",
              "      <td>50.33</td>\n",
              "      <td>25.12</td>\n",
              "      <td>10.18</td>\n",
              "      <td>40.220</td>\n",
              "    </tr>\n",
              "    <tr>\n",
              "      <th>3</th>\n",
              "      <td>2007-02-23</td>\n",
              "      <td>145.30</td>\n",
              "      <td>145.74</td>\n",
              "      <td>145.79</td>\n",
              "      <td>145.0</td>\n",
              "      <td>71962797.0</td>\n",
              "      <td>67.72</td>\n",
              "      <td>82.78</td>\n",
              "      <td>2.3809</td>\n",
              "      <td>0.31</td>\n",
              "      <td>50.46</td>\n",
              "      <td>25.04</td>\n",
              "      <td>10.58</td>\n",
              "      <td>40.035</td>\n",
              "    </tr>\n",
              "    <tr>\n",
              "      <th>4</th>\n",
              "      <td>2007-02-26</td>\n",
              "      <td>145.17</td>\n",
              "      <td>145.83</td>\n",
              "      <td>145.95</td>\n",
              "      <td>145.0</td>\n",
              "      <td>69320062.0</td>\n",
              "      <td>68.10</td>\n",
              "      <td>83.08</td>\n",
              "      <td>2.3795</td>\n",
              "      <td>0.31</td>\n",
              "      <td>50.90</td>\n",
              "      <td>25.04</td>\n",
              "      <td>11.15</td>\n",
              "      <td>39.960</td>\n",
              "    </tr>\n",
              "  </tbody>\n",
              "</table>\n",
              "</div>"
            ],
            "text/plain": [
              "        Dates  CLOSE_SPY    OPEN  ...  CLOSE_UUP  CLOSE_VIX  CLOSE_VWO\n",
              "0  2007-02-20     146.04  145.56  ...      25.07      10.24     40.055\n",
              "1  2007-02-21     145.98  145.61  ...      25.12      10.20     39.975\n",
              "2  2007-02-22     145.87  146.05  ...      25.12      10.18     40.220\n",
              "3  2007-02-23     145.30  145.74  ...      25.04      10.58     40.035\n",
              "4  2007-02-26     145.17  145.83  ...      25.04      11.15     39.960\n",
              "\n",
              "[5 rows x 14 columns]"
            ]
          },
          "metadata": {
            "tags": []
          },
          "execution_count": 3
        }
      ]
    },
    {
      "cell_type": "markdown",
      "metadata": {
        "id": "GtR60eRdF4u5"
      },
      "source": [
        "기술 지표 만들기"
      ]
    },
    {
      "cell_type": "code",
      "metadata": {
        "id": "oZ1WdVZuF3zb"
      },
      "source": [
        "def moving_average(df, n):\n",
        "  MA = pd.Series(df['CLOSE_SPY'].rolling(n, min_periods=n).mean(), name='MA_'+str(n))\n",
        "  df = df.join(MA)\n",
        "  return df\n",
        "def volumn_moving_average(df, n):\n",
        "  VMA = pd.Series(df['VOLUME'].rolling(n, min_periods=n).mean(), name='VMA_'+str(n))\n",
        "  df = df.join(VMA)\n",
        "  return df\n",
        "def relative_strength_index(df, n):\n",
        "  i=0\n",
        "  UpI=[0]\n",
        "  DoI=[0]\n",
        "  while i+1 <= df.index[-1]:\n",
        "    UpMove = df.loc[i+1, 'HIGH'] - df.loc[i, 'HIGH']\n",
        "    DoMove = df.loc[i, 'LOW'] - df.loc[i+1, 'LOW']\n",
        "    if UpMove > DoMove and UpMove > 0:\n",
        "      UpD = UpMove\n",
        "    else:\n",
        "      UpD = 0\n",
        "    UpI.append(UpD)\n",
        "    if DoMove < UpMove and DoMove > 0:\n",
        "      DoD = DoMove\n",
        "    else:\n",
        "      DoD = 0\n",
        "    DoI.append(DoD)\n",
        "    i = i+1\n",
        "  UpI = pd.Series(UpI)\n",
        "  DoI = pd.Series(DoI)\n",
        "  PosDI = pd.Series(UpI.ewm(span=n, min_periods=n).mean())\n",
        "  NegDI = pd.Series(DoI.ewm(span=n, min_periods=n).mean())\n",
        "  RSI=pd.Series(PosDI/(PosDI+NegDI), name='RSI_'+str(n))\n",
        "  df=df.join(RSI)\n",
        "  return df"
      ],
      "execution_count": null,
      "outputs": []
    },
    {
      "cell_type": "code",
      "metadata": {
        "id": "FDc2YtjfLfrx"
      },
      "source": [
        "df = moving_average(df, 45)\n",
        "df = volumn_moving_average(df, 45)\n",
        "df = relative_strength_index(df, 14)"
      ],
      "execution_count": null,
      "outputs": []
    },
    {
      "cell_type": "code",
      "metadata": {
        "colab": {
          "base_uri": "https://localhost:8080/",
          "height": 309
        },
        "id": "ZHsfQQYGL3Kz",
        "outputId": "b19b9b50-faf2-42e5-fd1c-1993f4e820b2"
      },
      "source": [
        "df.head()"
      ],
      "execution_count": null,
      "outputs": [
        {
          "output_type": "execute_result",
          "data": {
            "text/html": [
              "<div>\n",
              "<style scoped>\n",
              "    .dataframe tbody tr th:only-of-type {\n",
              "        vertical-align: middle;\n",
              "    }\n",
              "\n",
              "    .dataframe tbody tr th {\n",
              "        vertical-align: top;\n",
              "    }\n",
              "\n",
              "    .dataframe thead th {\n",
              "        text-align: right;\n",
              "    }\n",
              "</style>\n",
              "<table border=\"1\" class=\"dataframe\">\n",
              "  <thead>\n",
              "    <tr style=\"text-align: right;\">\n",
              "      <th></th>\n",
              "      <th>Dates</th>\n",
              "      <th>CLOSE_SPY</th>\n",
              "      <th>OPEN</th>\n",
              "      <th>HIGH</th>\n",
              "      <th>LOW</th>\n",
              "      <th>VOLUME</th>\n",
              "      <th>CLOSE_GLD</th>\n",
              "      <th>CLOSE_FXY</th>\n",
              "      <th>CLOSE_T10Y2Y</th>\n",
              "      <th>CLOSE_TED</th>\n",
              "      <th>CLOSE_USO</th>\n",
              "      <th>CLOSE_UUP</th>\n",
              "      <th>CLOSE_VIX</th>\n",
              "      <th>CLOSE_VWO</th>\n",
              "      <th>MA_45</th>\n",
              "      <th>VMA_45</th>\n",
              "      <th>RSI_14</th>\n",
              "    </tr>\n",
              "  </thead>\n",
              "  <tbody>\n",
              "    <tr>\n",
              "      <th>0</th>\n",
              "      <td>2007-02-20</td>\n",
              "      <td>146.04</td>\n",
              "      <td>145.56</td>\n",
              "      <td>146.20</td>\n",
              "      <td>144.0</td>\n",
              "      <td>56909500.0</td>\n",
              "      <td>65.31</td>\n",
              "      <td>83.51</td>\n",
              "      <td>2.3263</td>\n",
              "      <td>0.31</td>\n",
              "      <td>48.67</td>\n",
              "      <td>25.07</td>\n",
              "      <td>10.24</td>\n",
              "      <td>40.055</td>\n",
              "      <td>NaN</td>\n",
              "      <td>NaN</td>\n",
              "      <td>NaN</td>\n",
              "    </tr>\n",
              "    <tr>\n",
              "      <th>1</th>\n",
              "      <td>2007-02-21</td>\n",
              "      <td>145.98</td>\n",
              "      <td>145.61</td>\n",
              "      <td>146.07</td>\n",
              "      <td>145.0</td>\n",
              "      <td>63971500.0</td>\n",
              "      <td>67.28</td>\n",
              "      <td>82.90</td>\n",
              "      <td>2.3653</td>\n",
              "      <td>0.32</td>\n",
              "      <td>49.86</td>\n",
              "      <td>25.12</td>\n",
              "      <td>10.20</td>\n",
              "      <td>39.975</td>\n",
              "      <td>NaN</td>\n",
              "      <td>NaN</td>\n",
              "      <td>NaN</td>\n",
              "    </tr>\n",
              "    <tr>\n",
              "      <th>2</th>\n",
              "      <td>2007-02-22</td>\n",
              "      <td>145.87</td>\n",
              "      <td>146.05</td>\n",
              "      <td>146.42</td>\n",
              "      <td>145.0</td>\n",
              "      <td>79067398.0</td>\n",
              "      <td>67.15</td>\n",
              "      <td>82.46</td>\n",
              "      <td>2.3871</td>\n",
              "      <td>0.31</td>\n",
              "      <td>50.33</td>\n",
              "      <td>25.12</td>\n",
              "      <td>10.18</td>\n",
              "      <td>40.220</td>\n",
              "      <td>NaN</td>\n",
              "      <td>NaN</td>\n",
              "      <td>NaN</td>\n",
              "    </tr>\n",
              "    <tr>\n",
              "      <th>3</th>\n",
              "      <td>2007-02-23</td>\n",
              "      <td>145.30</td>\n",
              "      <td>145.74</td>\n",
              "      <td>145.79</td>\n",
              "      <td>145.0</td>\n",
              "      <td>71962797.0</td>\n",
              "      <td>67.72</td>\n",
              "      <td>82.78</td>\n",
              "      <td>2.3809</td>\n",
              "      <td>0.31</td>\n",
              "      <td>50.46</td>\n",
              "      <td>25.04</td>\n",
              "      <td>10.58</td>\n",
              "      <td>40.035</td>\n",
              "      <td>NaN</td>\n",
              "      <td>NaN</td>\n",
              "      <td>NaN</td>\n",
              "    </tr>\n",
              "    <tr>\n",
              "      <th>4</th>\n",
              "      <td>2007-02-26</td>\n",
              "      <td>145.17</td>\n",
              "      <td>145.83</td>\n",
              "      <td>145.95</td>\n",
              "      <td>145.0</td>\n",
              "      <td>69320062.0</td>\n",
              "      <td>68.10</td>\n",
              "      <td>83.08</td>\n",
              "      <td>2.3795</td>\n",
              "      <td>0.31</td>\n",
              "      <td>50.90</td>\n",
              "      <td>25.04</td>\n",
              "      <td>11.15</td>\n",
              "      <td>39.960</td>\n",
              "      <td>NaN</td>\n",
              "      <td>NaN</td>\n",
              "      <td>NaN</td>\n",
              "    </tr>\n",
              "  </tbody>\n",
              "</table>\n",
              "</div>"
            ],
            "text/plain": [
              "        Dates  CLOSE_SPY    OPEN    HIGH  ...  CLOSE_VWO  MA_45  VMA_45  RSI_14\n",
              "0  2007-02-20     146.04  145.56  146.20  ...     40.055    NaN     NaN     NaN\n",
              "1  2007-02-21     145.98  145.61  146.07  ...     39.975    NaN     NaN     NaN\n",
              "2  2007-02-22     145.87  146.05  146.42  ...     40.220    NaN     NaN     NaN\n",
              "3  2007-02-23     145.30  145.74  145.79  ...     40.035    NaN     NaN     NaN\n",
              "4  2007-02-26     145.17  145.83  145.95  ...     39.960    NaN     NaN     NaN\n",
              "\n",
              "[5 rows x 17 columns]"
            ]
          },
          "metadata": {
            "tags": []
          },
          "execution_count": 6
        }
      ]
    },
    {
      "cell_type": "code",
      "metadata": {
        "colab": {
          "base_uri": "https://localhost:8080/",
          "height": 309
        },
        "id": "XA3CfkCCMM4X",
        "outputId": "aa4ba1cd-21a7-4f3d-9658-b20e281f2ed8"
      },
      "source": [
        "df.tail()"
      ],
      "execution_count": null,
      "outputs": [
        {
          "output_type": "execute_result",
          "data": {
            "text/html": [
              "<div>\n",
              "<style scoped>\n",
              "    .dataframe tbody tr th:only-of-type {\n",
              "        vertical-align: middle;\n",
              "    }\n",
              "\n",
              "    .dataframe tbody tr th {\n",
              "        vertical-align: top;\n",
              "    }\n",
              "\n",
              "    .dataframe thead th {\n",
              "        text-align: right;\n",
              "    }\n",
              "</style>\n",
              "<table border=\"1\" class=\"dataframe\">\n",
              "  <thead>\n",
              "    <tr style=\"text-align: right;\">\n",
              "      <th></th>\n",
              "      <th>Dates</th>\n",
              "      <th>CLOSE_SPY</th>\n",
              "      <th>OPEN</th>\n",
              "      <th>HIGH</th>\n",
              "      <th>LOW</th>\n",
              "      <th>VOLUME</th>\n",
              "      <th>CLOSE_GLD</th>\n",
              "      <th>CLOSE_FXY</th>\n",
              "      <th>CLOSE_T10Y2Y</th>\n",
              "      <th>CLOSE_TED</th>\n",
              "      <th>CLOSE_USO</th>\n",
              "      <th>CLOSE_UUP</th>\n",
              "      <th>CLOSE_VIX</th>\n",
              "      <th>CLOSE_VWO</th>\n",
              "      <th>MA_45</th>\n",
              "      <th>VMA_45</th>\n",
              "      <th>RSI_14</th>\n",
              "    </tr>\n",
              "  </thead>\n",
              "  <tbody>\n",
              "    <tr>\n",
              "      <th>2766</th>\n",
              "      <td>2018-12-20</td>\n",
              "      <td>247.17</td>\n",
              "      <td>249.86</td>\n",
              "      <td>251.620</td>\n",
              "      <td>245.0</td>\n",
              "      <td>252053406.0</td>\n",
              "      <td>119.24</td>\n",
              "      <td>85.87</td>\n",
              "      <td>1.7807</td>\n",
              "      <td>0.48</td>\n",
              "      <td>9.72</td>\n",
              "      <td>25.77</td>\n",
              "      <td>28.38</td>\n",
              "      <td>38.18</td>\n",
              "      <td>269.767778</td>\n",
              "      <td>1.240592e+08</td>\n",
              "      <td>1.0</td>\n",
              "    </tr>\n",
              "    <tr>\n",
              "      <th>2767</th>\n",
              "      <td>2018-12-21</td>\n",
              "      <td>240.70</td>\n",
              "      <td>246.74</td>\n",
              "      <td>249.710</td>\n",
              "      <td>240.0</td>\n",
              "      <td>255345594.0</td>\n",
              "      <td>118.72</td>\n",
              "      <td>85.87</td>\n",
              "      <td>1.7651</td>\n",
              "      <td>0.48</td>\n",
              "      <td>9.57</td>\n",
              "      <td>25.94</td>\n",
              "      <td>30.11</td>\n",
              "      <td>37.87</td>\n",
              "      <td>269.018889</td>\n",
              "      <td>1.274610e+08</td>\n",
              "      <td>1.0</td>\n",
              "    </tr>\n",
              "    <tr>\n",
              "      <th>2768</th>\n",
              "      <td>2018-12-24</td>\n",
              "      <td>234.34</td>\n",
              "      <td>239.04</td>\n",
              "      <td>240.836</td>\n",
              "      <td>234.0</td>\n",
              "      <td>147311594.0</td>\n",
              "      <td>120.02</td>\n",
              "      <td>86.55</td>\n",
              "      <td>1.7505</td>\n",
              "      <td>0.40</td>\n",
              "      <td>9.29</td>\n",
              "      <td>25.55</td>\n",
              "      <td>36.07</td>\n",
              "      <td>37.32</td>\n",
              "      <td>267.995333</td>\n",
              "      <td>1.281067e+08</td>\n",
              "      <td>1.0</td>\n",
              "    </tr>\n",
              "    <tr>\n",
              "      <th>2769</th>\n",
              "      <td>2018-12-27</td>\n",
              "      <td>248.07</td>\n",
              "      <td>242.57</td>\n",
              "      <td>248.290</td>\n",
              "      <td>239.0</td>\n",
              "      <td>186267297.0</td>\n",
              "      <td>120.57</td>\n",
              "      <td>86.00</td>\n",
              "      <td>1.7581</td>\n",
              "      <td>0.44</td>\n",
              "      <td>9.62</td>\n",
              "      <td>25.57</td>\n",
              "      <td>29.96</td>\n",
              "      <td>37.90</td>\n",
              "      <td>267.275778</td>\n",
              "      <td>1.297876e+08</td>\n",
              "      <td>1.0</td>\n",
              "    </tr>\n",
              "    <tr>\n",
              "      <th>2770</th>\n",
              "      <td>2018-12-28</td>\n",
              "      <td>247.75</td>\n",
              "      <td>249.58</td>\n",
              "      <td>251.400</td>\n",
              "      <td>246.0</td>\n",
              "      <td>153100188.0</td>\n",
              "      <td>121.06</td>\n",
              "      <td>86.63</td>\n",
              "      <td>1.7320</td>\n",
              "      <td>0.45</td>\n",
              "      <td>9.53</td>\n",
              "      <td>25.50</td>\n",
              "      <td>28.34</td>\n",
              "      <td>38.17</td>\n",
              "      <td>266.639111</td>\n",
              "      <td>1.301996e+08</td>\n",
              "      <td>1.0</td>\n",
              "    </tr>\n",
              "  </tbody>\n",
              "</table>\n",
              "</div>"
            ],
            "text/plain": [
              "           Dates  CLOSE_SPY    OPEN  ...       MA_45        VMA_45  RSI_14\n",
              "2766  2018-12-20     247.17  249.86  ...  269.767778  1.240592e+08     1.0\n",
              "2767  2018-12-21     240.70  246.74  ...  269.018889  1.274610e+08     1.0\n",
              "2768  2018-12-24     234.34  239.04  ...  267.995333  1.281067e+08     1.0\n",
              "2769  2018-12-27     248.07  242.57  ...  267.275778  1.297876e+08     1.0\n",
              "2770  2018-12-28     247.75  249.58  ...  266.639111  1.301996e+08     1.0\n",
              "\n",
              "[5 rows x 17 columns]"
            ]
          },
          "metadata": {
            "tags": []
          },
          "execution_count": 7
        }
      ]
    },
    {
      "cell_type": "code",
      "metadata": {
        "colab": {
          "base_uri": "https://localhost:8080/"
        },
        "id": "kSxBdLe-Mci7",
        "outputId": "4dddfc16-1ffe-4577-f4a2-057598e3d83b"
      },
      "source": [
        "df = df.set_index('Dates')\n",
        "df = df.dropna()\n",
        "len(df)"
      ],
      "execution_count": null,
      "outputs": [
        {
          "output_type": "execute_result",
          "data": {
            "text/plain": [
              "2727"
            ]
          },
          "metadata": {
            "tags": []
          },
          "execution_count": 8
        }
      ]
    },
    {
      "cell_type": "code",
      "metadata": {
        "id": "1NEpSRJZM8AQ"
      },
      "source": [
        "df['target']=df['CLOSE_SPY'].pct_change()"
      ],
      "execution_count": null,
      "outputs": []
    },
    {
      "cell_type": "code",
      "metadata": {
        "colab": {
          "base_uri": "https://localhost:8080/"
        },
        "id": "quXoBsI0NDDH",
        "outputId": "61521db3-3e44-4aa7-f4a8-98e2db99423c"
      },
      "source": [
        "#df['target']=np.where(df['target']>0.5, 1, -1)\n",
        "df['target']=np.where(df['target']>0, 1, -1)\n",
        "df['target'].value_counts()"
      ],
      "execution_count": null,
      "outputs": [
        {
          "output_type": "execute_result",
          "data": {
            "text/plain": [
              " 1    1471\n",
              "-1    1256\n",
              "Name: target, dtype: int64"
            ]
          },
          "metadata": {
            "tags": []
          },
          "execution_count": 11
        }
      ]
    },
    {
      "cell_type": "markdown",
      "metadata": {
        "id": "l7iaNHIsNj5o"
      },
      "source": [
        "수익룔이 0보다 크면 1(up), 아니면 -1(down)로 이진화 시킨다."
      ]
    },
    {
      "cell_type": "code",
      "metadata": {
        "id": "WNBMK-TNNzc7"
      },
      "source": [
        "df['target'] = df['target'].shift(-1)"
      ],
      "execution_count": null,
      "outputs": []
    },
    {
      "cell_type": "markdown",
      "metadata": {
        "id": "NulkKVRjN7YO"
      },
      "source": [
        "다음날까지 데이터를 예측하는 것이기 때문에 shift를 해준다"
      ]
    },
    {
      "cell_type": "code",
      "metadata": {
        "colab": {
          "base_uri": "https://localhost:8080/"
        },
        "id": "QZYK7E5oOB2R",
        "outputId": "ed2696a3-e637-4df1-a936-f1ba89af3f11"
      },
      "source": [
        "df = df.dropna()\n",
        "len(df)"
      ],
      "execution_count": null,
      "outputs": [
        {
          "output_type": "execute_result",
          "data": {
            "text/plain": [
              "2726"
            ]
          },
          "metadata": {
            "tags": []
          },
          "execution_count": 13
        }
      ]
    },
    {
      "cell_type": "code",
      "metadata": {
        "id": "ntq5Ezv8OIDO"
      },
      "source": [
        "df['target']=df['target'].astype(np.int64)\n",
        "y_var = df['target']\n",
        "x_var = df.drop(['target', 'OPEN', 'HIGH', 'LOW', 'VOLUME', 'CLOSE_SPY'], axis=1)"
      ],
      "execution_count": null,
      "outputs": []
    },
    {
      "cell_type": "code",
      "metadata": {
        "colab": {
          "base_uri": "https://localhost:8080/",
          "height": 340
        },
        "id": "kqfZ3Lp9OlU3",
        "outputId": "0d7c7334-f5b4-4a52-e899-257d74d56077"
      },
      "source": [
        "x_var.head()"
      ],
      "execution_count": null,
      "outputs": [
        {
          "output_type": "execute_result",
          "data": {
            "text/html": [
              "<div>\n",
              "<style scoped>\n",
              "    .dataframe tbody tr th:only-of-type {\n",
              "        vertical-align: middle;\n",
              "    }\n",
              "\n",
              "    .dataframe tbody tr th {\n",
              "        vertical-align: top;\n",
              "    }\n",
              "\n",
              "    .dataframe thead th {\n",
              "        text-align: right;\n",
              "    }\n",
              "</style>\n",
              "<table border=\"1\" class=\"dataframe\">\n",
              "  <thead>\n",
              "    <tr style=\"text-align: right;\">\n",
              "      <th></th>\n",
              "      <th>CLOSE_GLD</th>\n",
              "      <th>CLOSE_FXY</th>\n",
              "      <th>CLOSE_T10Y2Y</th>\n",
              "      <th>CLOSE_TED</th>\n",
              "      <th>CLOSE_USO</th>\n",
              "      <th>CLOSE_UUP</th>\n",
              "      <th>CLOSE_VIX</th>\n",
              "      <th>CLOSE_VWO</th>\n",
              "      <th>MA_45</th>\n",
              "      <th>VMA_45</th>\n",
              "      <th>RSI_14</th>\n",
              "    </tr>\n",
              "    <tr>\n",
              "      <th>Dates</th>\n",
              "      <th></th>\n",
              "      <th></th>\n",
              "      <th></th>\n",
              "      <th></th>\n",
              "      <th></th>\n",
              "      <th></th>\n",
              "      <th></th>\n",
              "      <th></th>\n",
              "      <th></th>\n",
              "      <th></th>\n",
              "      <th></th>\n",
              "    </tr>\n",
              "  </thead>\n",
              "  <tbody>\n",
              "    <tr>\n",
              "      <th>2007-04-27</th>\n",
              "      <td>67.56</td>\n",
              "      <td>83.7300</td>\n",
              "      <td>2.4474</td>\n",
              "      <td>0.55</td>\n",
              "      <td>51.84</td>\n",
              "      <td>24.54</td>\n",
              "      <td>12.45</td>\n",
              "      <td>41.750</td>\n",
              "      <td>143.551556</td>\n",
              "      <td>1.106696e+08</td>\n",
              "      <td>1.0</td>\n",
              "    </tr>\n",
              "    <tr>\n",
              "      <th>2007-04-30</th>\n",
              "      <td>67.09</td>\n",
              "      <td>83.7166</td>\n",
              "      <td>2.4361</td>\n",
              "      <td>0.57</td>\n",
              "      <td>51.24</td>\n",
              "      <td>24.49</td>\n",
              "      <td>14.22</td>\n",
              "      <td>40.935</td>\n",
              "      <td>143.601556</td>\n",
              "      <td>1.116466e+08</td>\n",
              "      <td>1.0</td>\n",
              "    </tr>\n",
              "    <tr>\n",
              "      <th>2007-05-02</th>\n",
              "      <td>66.66</td>\n",
              "      <td>83.3800</td>\n",
              "      <td>2.4366</td>\n",
              "      <td>0.59</td>\n",
              "      <td>49.59</td>\n",
              "      <td>24.66</td>\n",
              "      <td>13.08</td>\n",
              "      <td>42.020</td>\n",
              "      <td>143.680667</td>\n",
              "      <td>1.121613e+08</td>\n",
              "      <td>1.0</td>\n",
              "    </tr>\n",
              "    <tr>\n",
              "      <th>2007-05-03</th>\n",
              "      <td>67.49</td>\n",
              "      <td>83.1100</td>\n",
              "      <td>2.4346</td>\n",
              "      <td>0.60</td>\n",
              "      <td>49.28</td>\n",
              "      <td>24.69</td>\n",
              "      <td>13.09</td>\n",
              "      <td>42.435</td>\n",
              "      <td>143.780222</td>\n",
              "      <td>1.123421e+08</td>\n",
              "      <td>1.0</td>\n",
              "    </tr>\n",
              "    <tr>\n",
              "      <th>2007-05-04</th>\n",
              "      <td>68.19</td>\n",
              "      <td>83.2300</td>\n",
              "      <td>2.4006</td>\n",
              "      <td>0.60</td>\n",
              "      <td>48.30</td>\n",
              "      <td>24.60</td>\n",
              "      <td>12.91</td>\n",
              "      <td>42.595</td>\n",
              "      <td>143.905111</td>\n",
              "      <td>1.128853e+08</td>\n",
              "      <td>1.0</td>\n",
              "    </tr>\n",
              "  </tbody>\n",
              "</table>\n",
              "</div>"
            ],
            "text/plain": [
              "            CLOSE_GLD  CLOSE_FXY  ...        VMA_45  RSI_14\n",
              "Dates                             ...                      \n",
              "2007-04-27      67.56    83.7300  ...  1.106696e+08     1.0\n",
              "2007-04-30      67.09    83.7166  ...  1.116466e+08     1.0\n",
              "2007-05-02      66.66    83.3800  ...  1.121613e+08     1.0\n",
              "2007-05-03      67.49    83.1100  ...  1.123421e+08     1.0\n",
              "2007-05-04      68.19    83.2300  ...  1.128853e+08     1.0\n",
              "\n",
              "[5 rows x 11 columns]"
            ]
          },
          "metadata": {
            "tags": []
          },
          "execution_count": 15
        }
      ]
    },
    {
      "cell_type": "code",
      "metadata": {
        "colab": {
          "base_uri": "https://localhost:8080/"
        },
        "id": "rxZh2fynOsSh",
        "outputId": "71a2fbba-3397-4c9e-e7fe-e4b190b05c54"
      },
      "source": [
        "up=df[df['target']==1].target.count()\n",
        "total=df.target.count()\n",
        "print('up/down ratio: {0:.2f}'.format((up/total)))"
      ],
      "execution_count": null,
      "outputs": [
        {
          "output_type": "stream",
          "text": [
            "up/down ratio: 0.54\n"
          ],
          "name": "stdout"
        }
      ]
    },
    {
      "cell_type": "markdown",
      "metadata": {
        "id": "aXKEB_iRPoRP"
      },
      "source": [
        "# 6.1.2 모델 학습"
      ]
    },
    {
      "cell_type": "code",
      "metadata": {
        "id": "P6EHf6d5Ptpp"
      },
      "source": [
        "X_train, X_test, y_train, y_test = train_test_split(x_var, y_var, test_size=0.3, shuffle=False, random_state=3)"
      ],
      "execution_count": null,
      "outputs": []
    },
    {
      "cell_type": "code",
      "metadata": {
        "colab": {
          "base_uri": "https://localhost:8080/"
        },
        "id": "ikzZCW7WQBNT",
        "outputId": "b511f1a1-26be-4ae2-8f75-320df6b93e24"
      },
      "source": [
        "train_count = y_train.count()\n",
        "test_count = y_test.count()\n",
        "\n",
        "print('train set label ratio')\n",
        "print(y_train.value_counts()/train_count)\n",
        "print('test set label ratio')\n",
        "print(y_test.value_counts()/test_count)"
      ],
      "execution_count": null,
      "outputs": [
        {
          "output_type": "stream",
          "text": [
            "train set label ratio\n",
            " 1    0.543501\n",
            "-1    0.456499\n",
            "Name: target, dtype: float64\n",
            "test set label ratio\n",
            " 1    0.530562\n",
            "-1    0.469438\n",
            "Name: target, dtype: float64\n"
          ],
          "name": "stdout"
        }
      ]
    },
    {
      "cell_type": "code",
      "metadata": {
        "id": "7gghtOLfQuU3"
      },
      "source": [
        "from sklearn.metrics import confusion_matrix, accuracy_score, precision_score, recall_score, f1_score, roc_auc_score\n",
        "\n",
        "def get_confusion_matrix(y_test, pred):\n",
        "  confusion = confusion_matrix(y_test, pred)\n",
        "  accuracy = accuracy_score(y_test, pred)\n",
        "  precision = precision_score(y_test, pred)\n",
        "  recall = recall_score(y_test, pred)\n",
        "  f1 = f1_score(y_test, pred)\n",
        "  roc_score = roc_auc_score(y_test, pred)\n",
        "  print('confusion matrix')\n",
        "  print('accuracy:{0:.4f},precision:{1:.4f},recall:{2:.4f},F1:{3:.4f},ROC AUC score:{4:.4f}'.format(accuracy, precision, recall, f1,roc_score))"
      ],
      "execution_count": null,
      "outputs": []
    },
    {
      "cell_type": "code",
      "metadata": {
        "id": "WsDU2UkBRjW9"
      },
      "source": [
        "xgb_dis = XGBClassifier(n_estimators=400, learning_rate=0.1, max_depth=3)\n",
        "xgb_dis.fit(X_train, y_train)\n",
        "xgb_pred = xgb_dis.predict(X_test)"
      ],
      "execution_count": null,
      "outputs": []
    },
    {
      "cell_type": "code",
      "metadata": {
        "colab": {
          "base_uri": "https://localhost:8080/"
        },
        "id": "dnNR4QOiRk_g",
        "outputId": "f2943060-dbdd-4812-d671-83d7bab92532"
      },
      "source": [
        "xgb_dis"
      ],
      "execution_count": null,
      "outputs": [
        {
          "output_type": "execute_result",
          "data": {
            "text/plain": [
              "XGBClassifier(base_score=0.5, booster='gbtree', colsample_bylevel=1,\n",
              "              colsample_bynode=1, colsample_bytree=1, gamma=0,\n",
              "              learning_rate=0.1, max_delta_step=0, max_depth=3,\n",
              "              min_child_weight=1, missing=None, n_estimators=400, n_jobs=1,\n",
              "              nthread=None, objective='binary:logistic', random_state=0,\n",
              "              reg_alpha=0, reg_lambda=1, scale_pos_weight=1, seed=None,\n",
              "              silent=None, subsample=1, verbosity=1)"
            ]
          },
          "metadata": {
            "tags": []
          },
          "execution_count": 21
        }
      ]
    },
    {
      "cell_type": "code",
      "metadata": {
        "colab": {
          "base_uri": "https://localhost:8080/"
        },
        "id": "sbnVQxMFRqYl",
        "outputId": "f557731b-687b-400b-c0e5-0cc93bf4453e"
      },
      "source": [
        "print(xgb_dis.score(X_train, y_train))"
      ],
      "execution_count": null,
      "outputs": [
        {
          "output_type": "stream",
          "text": [
            "0.8527253668763103\n"
          ],
          "name": "stdout"
        }
      ]
    },
    {
      "cell_type": "code",
      "metadata": {
        "colab": {
          "base_uri": "https://localhost:8080/"
        },
        "id": "2vt_YYzFRtED",
        "outputId": "58dd6cc7-2070-4f13-e261-0e59c64489ee"
      },
      "source": [
        "get_confusion_matrix(y_test, xgb_pred)"
      ],
      "execution_count": null,
      "outputs": [
        {
          "output_type": "stream",
          "text": [
            "confusion matrix\n",
            "accuracy:0.4878,precision:0.5223,recall:0.4055,F1:0.4565,ROC AUC score:0.4931\n"
          ],
          "name": "stdout"
        }
      ]
    },
    {
      "cell_type": "markdown",
      "metadata": {
        "id": "jGS0zKJPTgI7"
      },
      "source": [
        "# Random forest cluster"
      ]
    },
    {
      "cell_type": "markdown",
      "metadata": {
        "id": "vEj0JkZkTjfD"
      },
      "source": [
        ""
      ]
    },
    {
      "cell_type": "code",
      "metadata": {
        "id": "Sgz07fBTTk4f"
      },
      "source": [
        "n_estimators = range(10,200,10)\n",
        "\n",
        "params = {\n",
        "    'bootstrap': [True],\n",
        "    'n_estimators':n_estimators,\n",
        "    'max_depth':[4,6,8,10,12],\n",
        "    'min_samples_leaf': [2, 3, 4, 5],\n",
        "    'min_samples_split': [2, 4, 6, 8, 10],\n",
        "    'max_features':[4]\n",
        "}"
      ],
      "execution_count": null,
      "outputs": []
    },
    {
      "cell_type": "code",
      "metadata": {
        "id": "raoHmy02Tow8"
      },
      "source": [
        "my_cv = TimeSeriesSplit(n_splits=5).split(X_train)"
      ],
      "execution_count": null,
      "outputs": []
    },
    {
      "cell_type": "code",
      "metadata": {
        "colab": {
          "base_uri": "https://localhost:8080/"
        },
        "id": "aHPHBW4OTp7G",
        "outputId": "9fe7cbfa-ecf6-4310-c8f8-4eae23932aa9"
      },
      "source": [
        "my_cv"
      ],
      "execution_count": null,
      "outputs": [
        {
          "output_type": "execute_result",
          "data": {
            "text/plain": [
              "<generator object TimeSeriesSplit.split at 0x7facff668d50>"
            ]
          },
          "metadata": {
            "tags": []
          },
          "execution_count": 28
        }
      ]
    },
    {
      "cell_type": "code",
      "metadata": {
        "id": "KhvrTfPcTs_3"
      },
      "source": [
        "clf = GridSearchCV(RandomForestClassifier(), params, cv=my_cv, n_jobs=-1)"
      ],
      "execution_count": null,
      "outputs": []
    },
    {
      "cell_type": "code",
      "metadata": {
        "colab": {
          "base_uri": "https://localhost:8080/"
        },
        "id": "E5ixLXRtTv81",
        "outputId": "ddf5118b-5af3-4946-d412-cc1baa36a53c"
      },
      "source": [
        "clf"
      ],
      "execution_count": null,
      "outputs": [
        {
          "output_type": "execute_result",
          "data": {
            "text/plain": [
              "GridSearchCV(cv=<generator object TimeSeriesSplit.split at 0x7facff668d50>,\n",
              "             error_score=nan,\n",
              "             estimator=RandomForestClassifier(bootstrap=True, ccp_alpha=0.0,\n",
              "                                              class_weight=None,\n",
              "                                              criterion='gini', max_depth=None,\n",
              "                                              max_features='auto',\n",
              "                                              max_leaf_nodes=None,\n",
              "                                              max_samples=None,\n",
              "                                              min_impurity_decrease=0.0,\n",
              "                                              min_impurity_split=None,\n",
              "                                              min_samples_leaf=1,\n",
              "                                              min_samples_split=2,\n",
              "                                              min_w...\n",
              "                                              n_estimators=100, n_jobs=None,\n",
              "                                              oob_score=False,\n",
              "                                              random_state=None, verbose=0,\n",
              "                                              warm_start=False),\n",
              "             iid='deprecated', n_jobs=-1,\n",
              "             param_grid={'bootstrap': [True], 'max_depth': [4, 6, 8, 10, 12],\n",
              "                         'max_features': [4], 'min_samples_leaf': [2, 3, 4, 5],\n",
              "                         'min_samples_split': [2, 4, 6, 8, 10],\n",
              "                         'n_estimators': range(10, 200, 10)},\n",
              "             pre_dispatch='2*n_jobs', refit=True, return_train_score=False,\n",
              "             scoring=None, verbose=0)"
            ]
          },
          "metadata": {
            "tags": []
          },
          "execution_count": 30
        }
      ]
    },
    {
      "cell_type": "code",
      "metadata": {
        "id": "bHoHj3MNT77w"
      },
      "source": [
        "import time"
      ],
      "execution_count": null,
      "outputs": []
    },
    {
      "cell_type": "code",
      "metadata": {
        "colab": {
          "background_save": true
        },
        "id": "jXrgjmZxT-YS",
        "outputId": "1aeb7d81-44dc-462c-8823-4f67b5d6e7d9"
      },
      "source": [
        "start_time = time.time()\n",
        "clf.fit(X_train, y_train)\n",
        "print(time.time() - start_time,\" seconds consumed\")"
      ],
      "execution_count": null,
      "outputs": [
        {
          "output_type": "stream",
          "text": [
            "2309.853472471237  seconds consumed\n"
          ],
          "name": "stdout"
        }
      ]
    }
  ]
}